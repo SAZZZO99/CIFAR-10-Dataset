{
  "nbformat": 4,
  "nbformat_minor": 0,
  "metadata": {
    "colab": {
      "name": "CIFAR-10 DEMO.ipynb",
      "provenance": [],
      "authorship_tag": "ABX9TyPf82fPlLnioqoUcF0LtNE5",
      "include_colab_link": true
    },
    "kernelspec": {
      "name": "python3",
      "display_name": "Python 3"
    },
    "accelerator": "GPU"
  },
  "cells": [
    {
      "cell_type": "markdown",
      "metadata": {
        "id": "view-in-github",
        "colab_type": "text"
      },
      "source": [
        "<a href=\"https://colab.research.google.com/github/SAZZZO99/CIFAR-10-Dataset/blob/master/CIFAR_10_DEMO.ipynb\" target=\"_parent\"><img src=\"https://colab.research.google.com/assets/colab-badge.svg\" alt=\"Open In Colab\"/></a>"
      ]
    },
    {
      "cell_type": "code",
      "metadata": {
        "id": "0Ekepci4vyxR",
        "colab_type": "code",
        "colab": {
          "base_uri": "https://localhost:8080/",
          "height": 53
        },
        "outputId": "ef1e8631-d6f2-42bd-fb6e-95470d342e0e"
      },
      "source": [
        "import numpy as np \n",
        "import pandas as pd \n",
        "import matplotlib.pyplot as plt\n",
        "import seaborn"
      ],
      "execution_count": 1,
      "outputs": [
        {
          "output_type": "stream",
          "text": [
            "/usr/local/lib/python3.6/dist-packages/statsmodels/tools/_testing.py:19: FutureWarning: pandas.util.testing is deprecated. Use the functions in the public API at pandas.testing instead.\n",
            "  import pandas.util.testing as tm\n"
          ],
          "name": "stderr"
        }
      ]
    },
    {
      "cell_type": "code",
      "metadata": {
        "id": "HXxcq92IxdU4",
        "colab_type": "code",
        "colab": {
          "base_uri": "https://localhost:8080/",
          "height": 35
        },
        "outputId": "057fe323-4157-43e9-dbfb-eca6473bd6b4"
      },
      "source": [
        "from keras.datasets import cifar10"
      ],
      "execution_count": 2,
      "outputs": [
        {
          "output_type": "stream",
          "text": [
            "Using TensorFlow backend.\n"
          ],
          "name": "stderr"
        }
      ]
    },
    {
      "cell_type": "code",
      "metadata": {
        "id": "0S6qlYZYxtHR",
        "colab_type": "code",
        "colab": {
          "base_uri": "https://localhost:8080/",
          "height": 53
        },
        "outputId": "545c7332-baa7-40f7-e741-6a42b2bee1ba"
      },
      "source": [
        "(X_train, y_train) , (X_test, y_test) = cifar10.load_data()"
      ],
      "execution_count": 4,
      "outputs": [
        {
          "output_type": "stream",
          "text": [
            "Downloading data from https://www.cs.toronto.edu/~kriz/cifar-10-python.tar.gz\n",
            "170500096/170498071 [==============================] - 11s 0us/step\n"
          ],
          "name": "stdout"
        }
      ]
    },
    {
      "cell_type": "code",
      "metadata": {
        "id": "I1Aj9m5exj3u",
        "colab_type": "code",
        "colab": {
          "base_uri": "https://localhost:8080/",
          "height": 89
        },
        "outputId": "a3e8f9e8-0870-4ebc-ecfc-6ada3f772061"
      },
      "source": [
        "print('X_train shape - ',X_train.shape)\n",
        "print('X_test shape - ',X_test.shape)\n",
        "print('y_train shape - ',y_train.shape)\n",
        "print('y_test shape - ',y_test.shape)"
      ],
      "execution_count": 5,
      "outputs": [
        {
          "output_type": "stream",
          "text": [
            "X_train shape -  (50000, 32, 32, 3)\n",
            "X_test shape -  (10000, 32, 32, 3)\n",
            "y_train shape -  (50000, 1)\n",
            "y_test shape -  (10000, 1)\n"
          ],
          "name": "stdout"
        }
      ]
    },
    {
      "cell_type": "code",
      "metadata": {
        "id": "X0FvH8ZQxzUt",
        "colab_type": "code",
        "colab": {}
      },
      "source": [
        "X_train = X_train.astype('float32')\n",
        "X_test = X_test.astype('float32')\n",
        "X_train = X_train/255\n",
        "X_test = X_test/255"
      ],
      "execution_count": 6,
      "outputs": []
    },
    {
      "cell_type": "code",
      "metadata": {
        "id": "YceM4bXkx6yJ",
        "colab_type": "code",
        "colab": {}
      },
      "source": [
        "import keras\n",
        "y_train = keras.utils.to_categorical(y_train, 10)\n",
        "y_test = keras.utils.to_categorical(y_test, 10)"
      ],
      "execution_count": 7,
      "outputs": []
    },
    {
      "cell_type": "code",
      "metadata": {
        "id": "kJcNFCWKx61m",
        "colab_type": "code",
        "colab": {
          "base_uri": "https://localhost:8080/",
          "height": 35
        },
        "outputId": "ef6d9be3-c0a4-412f-fec6-fa411629c7a7"
      },
      "source": [
        "Input_shape = X_train.shape[1:]\n",
        "Input_shape"
      ],
      "execution_count": 8,
      "outputs": [
        {
          "output_type": "execute_result",
          "data": {
            "text/plain": [
              "(32, 32, 3)"
            ]
          },
          "metadata": {
            "tags": []
          },
          "execution_count": 8
        }
      ]
    },
    {
      "cell_type": "code",
      "metadata": {
        "id": "C77QXHoPx64O",
        "colab_type": "code",
        "colab": {}
      },
      "source": [
        "import keras\n",
        "from keras.models import Sequential\n",
        "from keras.layers import Conv2D,Dense,AveragePooling2D,MaxPooling2D, Flatten, Dropout\n",
        "from keras.optimizers import Adam\n",
        "from keras.callbacks import TensorBoard"
      ],
      "execution_count": 9,
      "outputs": []
    },
    {
      "cell_type": "code",
      "metadata": {
        "id": "P6kwb3HHx660",
        "colab_type": "code",
        "colab": {}
      },
      "source": [
        "cnn_model = Sequential()\n",
        "cnn_model.add(Conv2D(filters = 64, kernel_size = (3,3), activation = 'relu', input_shape = Input_shape))\n",
        "cnn_model.add(Conv2D(filters = 64, kernel_size = (3,3), activation = 'relu'))\n",
        "cnn_model.add(MaxPooling2D(2,2))\n",
        "cnn_model.add(Dropout(0.4))\n",
        "\n",
        "\n",
        "cnn_model.add(Conv2D(filters = 128, kernel_size = (3,3), activation = 'relu'))\n",
        "cnn_model.add(Conv2D(filters = 128, kernel_size = (3,3), activation = 'relu'))\n",
        "cnn_model.add(AveragePooling2D(2,2))\n",
        "cnn_model.add(Dropout(0.4))\n",
        "\n",
        "cnn_model.add(Flatten())\n",
        "\n",
        "cnn_model.add(Dense(units = 1024, activation = 'relu'))\n",
        "cnn_model.add(Dense(units = 1024, activation = 'relu'))\n",
        "\n",
        "cnn_model.add(Dense(units = 512, activation = 'relu'))\n",
        "\n",
        "\n",
        "\n",
        "\n",
        "cnn_model.add(Dense(units = 10, activation = 'softmax'))"
      ],
      "execution_count": 19,
      "outputs": []
    },
    {
      "cell_type": "code",
      "metadata": {
        "id": "eYreP2J3x690",
        "colab_type": "code",
        "colab": {}
      },
      "source": [
        "cnn_model.compile(loss = 'categorical_crossentropy', optimizer = keras.optimizers.Adam(lr = 0.001), metrics = ['accuracy'])"
      ],
      "execution_count": 20,
      "outputs": []
    },
    {
      "cell_type": "code",
      "metadata": {
        "id": "HO6ihPlMx7AD",
        "colab_type": "code",
        "colab": {
          "base_uri": "https://localhost:8080/",
          "height": 629
        },
        "outputId": "c062f51d-5920-411c-8ff6-bc00e6217558"
      },
      "source": [
        "cnn_model.summary()"
      ],
      "execution_count": 21,
      "outputs": [
        {
          "output_type": "stream",
          "text": [
            "Model: \"sequential_3\"\n",
            "_________________________________________________________________\n",
            "Layer (type)                 Output Shape              Param #   \n",
            "=================================================================\n",
            "conv2d_9 (Conv2D)            (None, 30, 30, 64)        1792      \n",
            "_________________________________________________________________\n",
            "conv2d_10 (Conv2D)           (None, 28, 28, 64)        36928     \n",
            "_________________________________________________________________\n",
            "max_pooling2d_3 (MaxPooling2 (None, 14, 14, 64)        0         \n",
            "_________________________________________________________________\n",
            "dropout_5 (Dropout)          (None, 14, 14, 64)        0         \n",
            "_________________________________________________________________\n",
            "conv2d_11 (Conv2D)           (None, 12, 12, 128)       73856     \n",
            "_________________________________________________________________\n",
            "conv2d_12 (Conv2D)           (None, 10, 10, 128)       147584    \n",
            "_________________________________________________________________\n",
            "average_pooling2d_3 (Average (None, 5, 5, 128)         0         \n",
            "_________________________________________________________________\n",
            "dropout_6 (Dropout)          (None, 5, 5, 128)         0         \n",
            "_________________________________________________________________\n",
            "flatten_3 (Flatten)          (None, 3200)              0         \n",
            "_________________________________________________________________\n",
            "dense_10 (Dense)             (None, 1024)              3277824   \n",
            "_________________________________________________________________\n",
            "dense_11 (Dense)             (None, 1024)              1049600   \n",
            "_________________________________________________________________\n",
            "dense_12 (Dense)             (None, 512)               524800    \n",
            "_________________________________________________________________\n",
            "dense_13 (Dense)             (None, 10)                5130      \n",
            "=================================================================\n",
            "Total params: 5,117,514\n",
            "Trainable params: 5,117,514\n",
            "Non-trainable params: 0\n",
            "_________________________________________________________________\n"
          ],
          "name": "stdout"
        }
      ]
    },
    {
      "cell_type": "code",
      "metadata": {
        "id": "bp_lMQLjx7DB",
        "colab_type": "code",
        "colab": {
          "base_uri": "https://localhost:8080/",
          "height": 755
        },
        "outputId": "f6987baf-f2f5-441a-b159-ed25e3505de8"
      },
      "source": [
        "history = cnn_model.fit(X_train, y_train, batch_size = 32, epochs = 20, shuffle = True,validation_data=(X_test,y_test))"
      ],
      "execution_count": 22,
      "outputs": [
        {
          "output_type": "stream",
          "text": [
            "Train on 50000 samples, validate on 10000 samples\n",
            "Epoch 1/20\n",
            "50000/50000 [==============================] - 40s 800us/step - loss: 1.5979 - accuracy: 0.4049 - val_loss: 1.3043 - val_accuracy: 0.5261\n",
            "Epoch 2/20\n",
            "50000/50000 [==============================] - 40s 793us/step - loss: 1.2130 - accuracy: 0.5661 - val_loss: 1.1151 - val_accuracy: 0.6203\n",
            "Epoch 3/20\n",
            "50000/50000 [==============================] - 39s 788us/step - loss: 1.0159 - accuracy: 0.6405 - val_loss: 0.9140 - val_accuracy: 0.6762\n",
            "Epoch 4/20\n",
            "50000/50000 [==============================] - 39s 789us/step - loss: 0.8958 - accuracy: 0.6829 - val_loss: 0.8435 - val_accuracy: 0.7102\n",
            "Epoch 5/20\n",
            "50000/50000 [==============================] - 39s 785us/step - loss: 0.8061 - accuracy: 0.7153 - val_loss: 0.8062 - val_accuracy: 0.7215\n",
            "Epoch 6/20\n",
            "50000/50000 [==============================] - 40s 790us/step - loss: 0.7494 - accuracy: 0.7355 - val_loss: 0.7449 - val_accuracy: 0.7473\n",
            "Epoch 7/20\n",
            "50000/50000 [==============================] - 39s 788us/step - loss: 0.6926 - accuracy: 0.7545 - val_loss: 0.7521 - val_accuracy: 0.7423\n",
            "Epoch 8/20\n",
            "50000/50000 [==============================] - 40s 794us/step - loss: 0.6447 - accuracy: 0.7743 - val_loss: 0.7540 - val_accuracy: 0.7460\n",
            "Epoch 9/20\n",
            "50000/50000 [==============================] - 39s 786us/step - loss: 0.6013 - accuracy: 0.7902 - val_loss: 0.7616 - val_accuracy: 0.7539\n",
            "Epoch 10/20\n",
            "50000/50000 [==============================] - 40s 790us/step - loss: 0.5709 - accuracy: 0.8002 - val_loss: 0.7107 - val_accuracy: 0.7748\n",
            "Epoch 11/20\n",
            "50000/50000 [==============================] - 39s 788us/step - loss: 0.5268 - accuracy: 0.8138 - val_loss: 0.6933 - val_accuracy: 0.7761\n",
            "Epoch 12/20\n",
            "50000/50000 [==============================] - 40s 793us/step - loss: 0.4963 - accuracy: 0.8266 - val_loss: 0.7071 - val_accuracy: 0.7766\n",
            "Epoch 13/20\n",
            "50000/50000 [==============================] - 39s 790us/step - loss: 0.4749 - accuracy: 0.8323 - val_loss: 0.7369 - val_accuracy: 0.7754\n",
            "Epoch 14/20\n",
            "50000/50000 [==============================] - 39s 788us/step - loss: 0.4477 - accuracy: 0.8443 - val_loss: 0.7087 - val_accuracy: 0.7759\n",
            "Epoch 15/20\n",
            "50000/50000 [==============================] - 39s 789us/step - loss: 0.4275 - accuracy: 0.8486 - val_loss: 0.7353 - val_accuracy: 0.7802\n",
            "Epoch 16/20\n",
            "50000/50000 [==============================] - 40s 800us/step - loss: 0.4059 - accuracy: 0.8578 - val_loss: 0.7418 - val_accuracy: 0.7731\n",
            "Epoch 17/20\n",
            "50000/50000 [==============================] - 40s 790us/step - loss: 0.3825 - accuracy: 0.8661 - val_loss: 0.7655 - val_accuracy: 0.7744\n",
            "Epoch 18/20\n",
            "50000/50000 [==============================] - 40s 790us/step - loss: 0.3671 - accuracy: 0.8725 - val_loss: 0.7374 - val_accuracy: 0.7807\n",
            "Epoch 19/20\n",
            "50000/50000 [==============================] - 39s 789us/step - loss: 0.3489 - accuracy: 0.8786 - val_loss: 0.8027 - val_accuracy: 0.7750\n",
            "Epoch 20/20\n",
            "50000/50000 [==============================] - 40s 793us/step - loss: 0.3356 - accuracy: 0.8834 - val_loss: 0.7522 - val_accuracy: 0.7883\n"
          ],
          "name": "stdout"
        }
      ]
    },
    {
      "cell_type": "code",
      "metadata": {
        "id": "lVV15YJxx7Ff",
        "colab_type": "code",
        "colab": {
          "base_uri": "https://localhost:8080/",
          "height": 53
        },
        "outputId": "e5fd3dff-072e-4ee9-de73-6a10dbbcf4ff"
      },
      "source": [
        "evaluation = cnn_model.evaluate(X_test, y_test)\n",
        "print('Test Accuracy: {}'.format(evaluation[1]))"
      ],
      "execution_count": 23,
      "outputs": [
        {
          "output_type": "stream",
          "text": [
            "10000/10000 [==============================] - 3s 258us/step\n",
            "Test Accuracy: 0.7882999777793884\n"
          ],
          "name": "stdout"
        }
      ]
    },
    {
      "cell_type": "code",
      "metadata": {
        "id": "wwZp14OY-NiU",
        "colab_type": "code",
        "colab": {}
      },
      "source": [
        "from keras.preprocessing.image import ImageDataGenerator\n",
        "\n",
        "datagen = ImageDataGenerator(\n",
        "                            \n",
        "                            horizontal_flip = True,\n",
        "                             )\n",
        "datagen.fit(X_train)"
      ],
      "execution_count": 24,
      "outputs": []
    },
    {
      "cell_type": "code",
      "metadata": {
        "id": "R4UuqstL-X58",
        "colab_type": "code",
        "colab": {
          "base_uri": "https://localhost:8080/",
          "height": 395
        },
        "outputId": "8cffa15f-3938-489c-d97f-4201d5e0326a"
      },
      "source": [
        "cnn_model.fit_generator(datagen.flow(X_train, y_train, batch_size = 32), epochs = 10)"
      ],
      "execution_count": 25,
      "outputs": [
        {
          "output_type": "stream",
          "text": [
            "Epoch 1/10\n",
            "1563/1563 [==============================] - 39s 25ms/step - loss: 0.5615 - accuracy: 0.8156\n",
            "Epoch 2/10\n",
            "1563/1563 [==============================] - 38s 24ms/step - loss: 0.5293 - accuracy: 0.8226\n",
            "Epoch 3/10\n",
            "1563/1563 [==============================] - 38s 25ms/step - loss: 0.5083 - accuracy: 0.8304\n",
            "Epoch 4/10\n",
            "1563/1563 [==============================] - 38s 24ms/step - loss: 0.5000 - accuracy: 0.8324\n",
            "Epoch 5/10\n",
            "1563/1563 [==============================] - 38s 25ms/step - loss: 0.4862 - accuracy: 0.8360\n",
            "Epoch 6/10\n",
            "1563/1563 [==============================] - 38s 24ms/step - loss: 0.4597 - accuracy: 0.8449\n",
            "Epoch 7/10\n",
            "1563/1563 [==============================] - 38s 25ms/step - loss: 0.4556 - accuracy: 0.8452\n",
            "Epoch 8/10\n",
            "1563/1563 [==============================] - 38s 25ms/step - loss: 0.4445 - accuracy: 0.8488\n",
            "Epoch 9/10\n",
            "1563/1563 [==============================] - 39s 25ms/step - loss: 0.4273 - accuracy: 0.8550\n",
            "Epoch 10/10\n",
            "1563/1563 [==============================] - 38s 25ms/step - loss: 0.4170 - accuracy: 0.8579\n"
          ],
          "name": "stdout"
        },
        {
          "output_type": "execute_result",
          "data": {
            "text/plain": [
              "<keras.callbacks.callbacks.History at 0x7f2f50ff2e48>"
            ]
          },
          "metadata": {
            "tags": []
          },
          "execution_count": 25
        }
      ]
    },
    {
      "cell_type": "code",
      "metadata": {
        "id": "aJfINuXH-3Ey",
        "colab_type": "code",
        "colab": {}
      },
      "source": [
        "y_test = keras.utils.to_categorical(y_test, 10)\n"
      ],
      "execution_count": 33,
      "outputs": []
    },
    {
      "cell_type": "code",
      "metadata": {
        "id": "E-iEp0pw-7UR",
        "colab_type": "code",
        "colab": {
          "base_uri": "https://localhost:8080/",
          "height": 326
        },
        "outputId": "44df3196-a58e-424f-8c0d-dcf1c858a8f3"
      },
      "source": [
        "score = cnn_model.evaluate(X_test, y_test)\n"
      ],
      "execution_count": 32,
      "outputs": [
        {
          "output_type": "error",
          "ename": "ValueError",
          "evalue": "ignored",
          "traceback": [
            "\u001b[0;31m---------------------------------------------------------------------------\u001b[0m",
            "\u001b[0;31mValueError\u001b[0m                                Traceback (most recent call last)",
            "\u001b[0;32m<ipython-input-32-d38b3c443157>\u001b[0m in \u001b[0;36m<module>\u001b[0;34m()\u001b[0m\n\u001b[0;32m----> 1\u001b[0;31m \u001b[0mscore\u001b[0m \u001b[0;34m=\u001b[0m \u001b[0mcnn_model\u001b[0m\u001b[0;34m.\u001b[0m\u001b[0mevaluate\u001b[0m\u001b[0;34m(\u001b[0m\u001b[0mX_test\u001b[0m\u001b[0;34m,\u001b[0m \u001b[0my_test\u001b[0m\u001b[0;34m)\u001b[0m\u001b[0;34m\u001b[0m\u001b[0;34m\u001b[0m\u001b[0m\n\u001b[0m",
            "\u001b[0;32m/usr/local/lib/python3.6/dist-packages/keras/engine/training.py\u001b[0m in \u001b[0;36mevaluate\u001b[0;34m(self, x, y, batch_size, verbose, sample_weight, steps, callbacks, max_queue_size, workers, use_multiprocessing)\u001b[0m\n\u001b[1;32m   1347\u001b[0m             \u001b[0mx\u001b[0m\u001b[0;34m,\u001b[0m \u001b[0my\u001b[0m\u001b[0;34m,\u001b[0m\u001b[0;34m\u001b[0m\u001b[0;34m\u001b[0m\u001b[0m\n\u001b[1;32m   1348\u001b[0m             \u001b[0msample_weight\u001b[0m\u001b[0;34m=\u001b[0m\u001b[0msample_weight\u001b[0m\u001b[0;34m,\u001b[0m\u001b[0;34m\u001b[0m\u001b[0;34m\u001b[0m\u001b[0m\n\u001b[0;32m-> 1349\u001b[0;31m             batch_size=batch_size)\n\u001b[0m\u001b[1;32m   1350\u001b[0m         \u001b[0;31m# Prepare inputs, delegate logic to `test_loop`.\u001b[0m\u001b[0;34m\u001b[0m\u001b[0;34m\u001b[0m\u001b[0;34m\u001b[0m\u001b[0m\n\u001b[1;32m   1351\u001b[0m         \u001b[0;32mif\u001b[0m \u001b[0mself\u001b[0m\u001b[0;34m.\u001b[0m\u001b[0m_uses_dynamic_learning_phase\u001b[0m\u001b[0;34m(\u001b[0m\u001b[0;34m)\u001b[0m\u001b[0;34m:\u001b[0m\u001b[0;34m\u001b[0m\u001b[0;34m\u001b[0m\u001b[0m\n",
            "\u001b[0;32m/usr/local/lib/python3.6/dist-packages/keras/engine/training.py\u001b[0m in \u001b[0;36m_standardize_user_data\u001b[0;34m(self, x, y, sample_weight, class_weight, check_array_lengths, batch_size)\u001b[0m\n\u001b[1;32m    619\u001b[0m                 \u001b[0mfeed_output_shapes\u001b[0m\u001b[0;34m,\u001b[0m\u001b[0;34m\u001b[0m\u001b[0;34m\u001b[0m\u001b[0m\n\u001b[1;32m    620\u001b[0m                 \u001b[0mcheck_batch_axis\u001b[0m\u001b[0;34m=\u001b[0m\u001b[0;32mFalse\u001b[0m\u001b[0;34m,\u001b[0m  \u001b[0;31m# Don't enforce the batch size.\u001b[0m\u001b[0;34m\u001b[0m\u001b[0;34m\u001b[0m\u001b[0m\n\u001b[0;32m--> 621\u001b[0;31m                 exception_prefix='target')\n\u001b[0m\u001b[1;32m    622\u001b[0m \u001b[0;34m\u001b[0m\u001b[0m\n\u001b[1;32m    623\u001b[0m             \u001b[0;31m# Generate sample-wise weight values given the `sample_weight` and\u001b[0m\u001b[0;34m\u001b[0m\u001b[0;34m\u001b[0m\u001b[0;34m\u001b[0m\u001b[0m\n",
            "\u001b[0;32m/usr/local/lib/python3.6/dist-packages/keras/engine/training_utils.py\u001b[0m in \u001b[0;36mstandardize_input_data\u001b[0;34m(data, names, shapes, check_batch_axis, exception_prefix)\u001b[0m\n\u001b[1;32m    133\u001b[0m                         \u001b[0;34m': expected '\u001b[0m \u001b[0;34m+\u001b[0m \u001b[0mnames\u001b[0m\u001b[0;34m[\u001b[0m\u001b[0mi\u001b[0m\u001b[0;34m]\u001b[0m \u001b[0;34m+\u001b[0m \u001b[0;34m' to have '\u001b[0m \u001b[0;34m+\u001b[0m\u001b[0;34m\u001b[0m\u001b[0;34m\u001b[0m\u001b[0m\n\u001b[1;32m    134\u001b[0m                         \u001b[0mstr\u001b[0m\u001b[0;34m(\u001b[0m\u001b[0mlen\u001b[0m\u001b[0;34m(\u001b[0m\u001b[0mshape\u001b[0m\u001b[0;34m)\u001b[0m\u001b[0;34m)\u001b[0m \u001b[0;34m+\u001b[0m \u001b[0;34m' dimensions, but got array '\u001b[0m\u001b[0;34m\u001b[0m\u001b[0;34m\u001b[0m\u001b[0m\n\u001b[0;32m--> 135\u001b[0;31m                         'with shape ' + str(data_shape))\n\u001b[0m\u001b[1;32m    136\u001b[0m                 \u001b[0;32mif\u001b[0m \u001b[0;32mnot\u001b[0m \u001b[0mcheck_batch_axis\u001b[0m\u001b[0;34m:\u001b[0m\u001b[0;34m\u001b[0m\u001b[0;34m\u001b[0m\u001b[0m\n\u001b[1;32m    137\u001b[0m                     \u001b[0mdata_shape\u001b[0m \u001b[0;34m=\u001b[0m \u001b[0mdata_shape\u001b[0m\u001b[0;34m[\u001b[0m\u001b[0;36m1\u001b[0m\u001b[0;34m:\u001b[0m\u001b[0;34m]\u001b[0m\u001b[0;34m\u001b[0m\u001b[0;34m\u001b[0m\u001b[0m\n",
            "\u001b[0;31mValueError\u001b[0m: Error when checking target: expected dense_13 to have 2 dimensions, but got array with shape (10000, 10, 10)"
          ]
        }
      ]
    },
    {
      "cell_type": "code",
      "metadata": {
        "id": "p9soxretDH8P",
        "colab_type": "code",
        "colab": {}
      },
      "source": [
        "print('Test accuracy', score[1])"
      ],
      "execution_count": null,
      "outputs": []
    }
  ]
}