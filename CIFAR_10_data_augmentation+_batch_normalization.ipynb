{
  "nbformat": 4,
  "nbformat_minor": 0,
  "metadata": {
    "colab": {
      "name": "CIFAR 10 data augmentation+ batch normalization.ipynb",
      "provenance": []
    },
    "kernelspec": {
      "name": "python3",
      "display_name": "Python 3"
    },
    "accelerator": "GPU"
  },
  "cells": [
    {
      "cell_type": "code",
      "metadata": {
        "id": "0Ekepci4vyxR",
        "colab_type": "code",
        "colab": {
          "base_uri": "https://localhost:8080/",
          "height": 53
        },
        "outputId": "f2066226-83f2-4e46-861c-a247bfb0b1d2"
      },
      "source": [
        "import numpy as np \n",
        "import pandas as pd \n",
        "import matplotlib.pyplot as plt\n",
        "import seaborn"
      ],
      "execution_count": 1,
      "outputs": [
        {
          "output_type": "stream",
          "text": [
            "/usr/local/lib/python3.6/dist-packages/statsmodels/tools/_testing.py:19: FutureWarning: pandas.util.testing is deprecated. Use the functions in the public API at pandas.testing instead.\n",
            "  import pandas.util.testing as tm\n"
          ],
          "name": "stderr"
        }
      ]
    },
    {
      "cell_type": "code",
      "metadata": {
        "id": "HXxcq92IxdU4",
        "colab_type": "code",
        "colab": {
          "base_uri": "https://localhost:8080/",
          "height": 35
        },
        "outputId": "e15f462f-96e4-4407-e2a0-57b40cce6a3e"
      },
      "source": [
        "from keras.datasets import cifar10"
      ],
      "execution_count": 2,
      "outputs": [
        {
          "output_type": "stream",
          "text": [
            "Using TensorFlow backend.\n"
          ],
          "name": "stderr"
        }
      ]
    },
    {
      "cell_type": "code",
      "metadata": {
        "id": "0S6qlYZYxtHR",
        "colab_type": "code",
        "colab": {
          "base_uri": "https://localhost:8080/",
          "height": 53
        },
        "outputId": "aff13522-dc7b-40b3-cb28-9e0a6febece4"
      },
      "source": [
        "(X_train, y_train) , (X_test, y_test) = cifar10.load_data()"
      ],
      "execution_count": 3,
      "outputs": [
        {
          "output_type": "stream",
          "text": [
            "Downloading data from https://www.cs.toronto.edu/~kriz/cifar-10-python.tar.gz\n",
            "170500096/170498071 [==============================] - 6s 0us/step\n"
          ],
          "name": "stdout"
        }
      ]
    },
    {
      "cell_type": "code",
      "metadata": {
        "id": "I1Aj9m5exj3u",
        "colab_type": "code",
        "colab": {
          "base_uri": "https://localhost:8080/",
          "height": 89
        },
        "outputId": "84f2c279-1b86-49c4-dacf-1d6564b769a7"
      },
      "source": [
        "print('X_train shape - ',X_train.shape)\n",
        "print('X_test shape - ',X_test.shape)\n",
        "print('y_train shape - ',y_train.shape)\n",
        "print('y_test shape - ',y_test.shape)"
      ],
      "execution_count": 4,
      "outputs": [
        {
          "output_type": "stream",
          "text": [
            "X_train shape -  (50000, 32, 32, 3)\n",
            "X_test shape -  (10000, 32, 32, 3)\n",
            "y_train shape -  (50000, 1)\n",
            "y_test shape -  (10000, 1)\n"
          ],
          "name": "stdout"
        }
      ]
    },
    {
      "cell_type": "code",
      "metadata": {
        "id": "X0FvH8ZQxzUt",
        "colab_type": "code",
        "colab": {}
      },
      "source": [
        "X_train = X_train.astype('float32')\n",
        "X_test = X_test.astype('float32')\n",
        "X_train = X_train/255\n",
        "X_test = X_test/255"
      ],
      "execution_count": 5,
      "outputs": []
    },
    {
      "cell_type": "code",
      "metadata": {
        "id": "YceM4bXkx6yJ",
        "colab_type": "code",
        "colab": {}
      },
      "source": [
        "import keras\n",
        "y_train = keras.utils.to_categorical(y_train, 10)\n",
        "y_test = keras.utils.to_categorical(y_test, 10)"
      ],
      "execution_count": 6,
      "outputs": []
    },
    {
      "cell_type": "code",
      "metadata": {
        "id": "kJcNFCWKx61m",
        "colab_type": "code",
        "colab": {
          "base_uri": "https://localhost:8080/",
          "height": 35
        },
        "outputId": "98a99aec-f9e2-4c25-a5c0-828feb44397b"
      },
      "source": [
        "Input_shape = X_train.shape[1:]\n",
        "Input_shape"
      ],
      "execution_count": 7,
      "outputs": [
        {
          "output_type": "execute_result",
          "data": {
            "text/plain": [
              "(32, 32, 3)"
            ]
          },
          "metadata": {
            "tags": []
          },
          "execution_count": 7
        }
      ]
    },
    {
      "cell_type": "code",
      "metadata": {
        "id": "C77QXHoPx64O",
        "colab_type": "code",
        "colab": {}
      },
      "source": [
        "import keras\n",
        "from keras.models import Sequential\n",
        "from keras.layers import Conv2D,Dense,AveragePooling2D,MaxPooling2D, Flatten, Dropout\n",
        "from keras.optimizers import Adam\n",
        "from keras.callbacks import TensorBoard\n",
        "from keras.layers import BatchNormalization"
      ],
      "execution_count": 24,
      "outputs": []
    },
    {
      "cell_type": "code",
      "metadata": {
        "id": "P6kwb3HHx660",
        "colab_type": "code",
        "colab": {}
      },
      "source": [
        "cnn_model = Sequential()\n",
        "cnn_model.add(Conv2D(filters = 32, kernel_size = (3,3), activation = 'relu', kernel_initializer='he_uniform', padding='same',input_shape = Input_shape))\n",
        "cnn_model.add(BatchNormalization())\n",
        "cnn_model.add(Conv2D(filters = 32, kernel_size = (3,3), activation = 'relu', kernel_initializer='he_uniform',padding='same'))\n",
        "cnn_model.add(BatchNormalization())\n",
        "cnn_model.add(MaxPooling2D(2,2))\n",
        "cnn_model.add(Dropout(0.2))\n",
        "\n",
        "cnn_model.add(Conv2D(filters = 64, kernel_size = (3,3), activation = 'relu', kernel_initializer='he_uniform', padding='same',input_shape = Input_shape))\n",
        "cnn_model.add(BatchNormalization())\n",
        "cnn_model.add(Conv2D(filters = 64, kernel_size = (3,3), activation = 'relu', kernel_initializer='he_uniform',padding='same'))\n",
        "cnn_model.add(BatchNormalization())\n",
        "cnn_model.add(MaxPooling2D(2,2))\n",
        "cnn_model.add(Dropout(0.3))\n",
        "\n",
        "\n",
        "cnn_model.add(Conv2D(filters = 128, kernel_size = (3,3), activation = 'relu', kernel_initializer='he_uniform',padding='same'))\n",
        "cnn_model.add(BatchNormalization())\n",
        "cnn_model.add(Conv2D(filters = 128, kernel_size = (3,3), activation = 'relu', kernel_initializer='he_uniform',padding='same'))\n",
        "cnn_model.add(BatchNormalization())\n",
        "cnn_model.add(AveragePooling2D(2,2))\n",
        "cnn_model.add(Dropout(0.4))\n",
        "\n",
        "cnn_model.add(Flatten())\n",
        "\n",
        "cnn_model.add(Dense(units = 1024, activation = 'relu', kernel_initializer='he_uniform'))\n",
        "cnn_model.add(BatchNormalization())\n",
        "cnn_model.add(Dropout(0.5))\n",
        "\n",
        "cnn_model.add(Dense(units = 10, activation = 'softmax'))"
      ],
      "execution_count": 25,
      "outputs": []
    },
    {
      "cell_type": "code",
      "metadata": {
        "id": "eYreP2J3x690",
        "colab_type": "code",
        "colab": {}
      },
      "source": [
        "cnn_model.compile(loss = 'categorical_crossentropy', optimizer = Adam(lr=0.001,beta_1=0.9,beta_2=0.999), metrics = ['accuracy'])"
      ],
      "execution_count": 26,
      "outputs": []
    },
    {
      "cell_type": "code",
      "metadata": {
        "id": "HO6ihPlMx7AD",
        "colab_type": "code",
        "colab": {
          "base_uri": "https://localhost:8080/",
          "height": 989
        },
        "outputId": "e45d76ce-774e-4ad6-8300-0ea472546fea"
      },
      "source": [
        "cnn_model.summary()"
      ],
      "execution_count": 27,
      "outputs": [
        {
          "output_type": "stream",
          "text": [
            "Model: \"sequential_7\"\n",
            "_________________________________________________________________\n",
            "Layer (type)                 Output Shape              Param #   \n",
            "=================================================================\n",
            "conv2d_31 (Conv2D)           (None, 32, 32, 32)        896       \n",
            "_________________________________________________________________\n",
            "batch_normalization_31 (Batc (None, 32, 32, 32)        128       \n",
            "_________________________________________________________________\n",
            "conv2d_32 (Conv2D)           (None, 32, 32, 32)        9248      \n",
            "_________________________________________________________________\n",
            "batch_normalization_32 (Batc (None, 32, 32, 32)        128       \n",
            "_________________________________________________________________\n",
            "max_pooling2d_11 (MaxPooling (None, 16, 16, 32)        0         \n",
            "_________________________________________________________________\n",
            "dropout_15 (Dropout)         (None, 16, 16, 32)        0         \n",
            "_________________________________________________________________\n",
            "conv2d_33 (Conv2D)           (None, 16, 16, 64)        18496     \n",
            "_________________________________________________________________\n",
            "batch_normalization_33 (Batc (None, 16, 16, 64)        256       \n",
            "_________________________________________________________________\n",
            "conv2d_34 (Conv2D)           (None, 16, 16, 64)        36928     \n",
            "_________________________________________________________________\n",
            "batch_normalization_34 (Batc (None, 16, 16, 64)        256       \n",
            "_________________________________________________________________\n",
            "max_pooling2d_12 (MaxPooling (None, 8, 8, 64)          0         \n",
            "_________________________________________________________________\n",
            "dropout_16 (Dropout)         (None, 8, 8, 64)          0         \n",
            "_________________________________________________________________\n",
            "conv2d_35 (Conv2D)           (None, 8, 8, 128)         73856     \n",
            "_________________________________________________________________\n",
            "batch_normalization_35 (Batc (None, 8, 8, 128)         512       \n",
            "_________________________________________________________________\n",
            "conv2d_36 (Conv2D)           (None, 8, 8, 128)         147584    \n",
            "_________________________________________________________________\n",
            "batch_normalization_36 (Batc (None, 8, 8, 128)         512       \n",
            "_________________________________________________________________\n",
            "average_pooling2d_5 (Average (None, 4, 4, 128)         0         \n",
            "_________________________________________________________________\n",
            "dropout_17 (Dropout)         (None, 4, 4, 128)         0         \n",
            "_________________________________________________________________\n",
            "flatten_3 (Flatten)          (None, 2048)              0         \n",
            "_________________________________________________________________\n",
            "dense_4 (Dense)              (None, 1024)              2098176   \n",
            "_________________________________________________________________\n",
            "batch_normalization_37 (Batc (None, 1024)              4096      \n",
            "_________________________________________________________________\n",
            "dropout_18 (Dropout)         (None, 1024)              0         \n",
            "_________________________________________________________________\n",
            "dense_5 (Dense)              (None, 10)                10250     \n",
            "=================================================================\n",
            "Total params: 2,401,322\n",
            "Trainable params: 2,398,378\n",
            "Non-trainable params: 2,944\n",
            "_________________________________________________________________\n"
          ],
          "name": "stdout"
        }
      ]
    },
    {
      "cell_type": "code",
      "metadata": {
        "id": "bp_lMQLjx7DB",
        "colab_type": "code",
        "colab": {
          "base_uri": "https://localhost:8080/",
          "height": 755
        },
        "outputId": "902917db-d678-409e-995f-39fb065ef5c4"
      },
      "source": [
        "history = cnn_model.fit(X_train, y_train, batch_size = 64, epochs = 20, shuffle = True,validation_data=(X_test,y_test))"
      ],
      "execution_count": 28,
      "outputs": [
        {
          "output_type": "stream",
          "text": [
            "Train on 50000 samples, validate on 10000 samples\n",
            "Epoch 1/20\n",
            "50000/50000 [==============================] - 42s 831us/step - loss: 1.6949 - accuracy: 0.4590 - val_loss: 1.2543 - val_accuracy: 0.5843\n",
            "Epoch 2/20\n",
            "50000/50000 [==============================] - 40s 794us/step - loss: 1.0919 - accuracy: 0.6265 - val_loss: 0.8824 - val_accuracy: 0.6995\n",
            "Epoch 3/20\n",
            "50000/50000 [==============================] - 40s 793us/step - loss: 0.8659 - accuracy: 0.6992 - val_loss: 0.7374 - val_accuracy: 0.7408\n",
            "Epoch 4/20\n",
            "50000/50000 [==============================] - 40s 795us/step - loss: 0.7653 - accuracy: 0.7330 - val_loss: 0.7226 - val_accuracy: 0.7565\n",
            "Epoch 5/20\n",
            "50000/50000 [==============================] - 40s 795us/step - loss: 0.6819 - accuracy: 0.7620 - val_loss: 0.6419 - val_accuracy: 0.7707\n",
            "Epoch 6/20\n",
            "50000/50000 [==============================] - 40s 799us/step - loss: 0.6217 - accuracy: 0.7843 - val_loss: 0.5699 - val_accuracy: 0.8073\n",
            "Epoch 7/20\n",
            "50000/50000 [==============================] - 40s 798us/step - loss: 0.5745 - accuracy: 0.7996 - val_loss: 0.5825 - val_accuracy: 0.8058\n",
            "Epoch 8/20\n",
            "50000/50000 [==============================] - 40s 801us/step - loss: 0.5313 - accuracy: 0.8150 - val_loss: 0.5382 - val_accuracy: 0.8239\n",
            "Epoch 9/20\n",
            "50000/50000 [==============================] - 40s 798us/step - loss: 0.4953 - accuracy: 0.8279 - val_loss: 0.5097 - val_accuracy: 0.8310\n",
            "Epoch 10/20\n",
            "50000/50000 [==============================] - 40s 796us/step - loss: 0.4682 - accuracy: 0.8375 - val_loss: 0.5921 - val_accuracy: 0.8106\n",
            "Epoch 11/20\n",
            "50000/50000 [==============================] - 40s 795us/step - loss: 0.4444 - accuracy: 0.8449 - val_loss: 0.5468 - val_accuracy: 0.8265\n",
            "Epoch 12/20\n",
            "50000/50000 [==============================] - 40s 796us/step - loss: 0.4103 - accuracy: 0.8566 - val_loss: 0.5162 - val_accuracy: 0.8330\n",
            "Epoch 13/20\n",
            "50000/50000 [==============================] - 40s 797us/step - loss: 0.3937 - accuracy: 0.8619 - val_loss: 0.4988 - val_accuracy: 0.8394\n",
            "Epoch 14/20\n",
            "50000/50000 [==============================] - 40s 795us/step - loss: 0.3725 - accuracy: 0.8703 - val_loss: 0.5096 - val_accuracy: 0.8410\n",
            "Epoch 15/20\n",
            "50000/50000 [==============================] - 40s 798us/step - loss: 0.3551 - accuracy: 0.8753 - val_loss: 0.4946 - val_accuracy: 0.8420\n",
            "Epoch 16/20\n",
            "50000/50000 [==============================] - 40s 800us/step - loss: 0.3389 - accuracy: 0.8804 - val_loss: 0.4722 - val_accuracy: 0.8531\n",
            "Epoch 17/20\n",
            "50000/50000 [==============================] - 40s 793us/step - loss: 0.3236 - accuracy: 0.8871 - val_loss: 0.5154 - val_accuracy: 0.8460\n",
            "Epoch 18/20\n",
            "50000/50000 [==============================] - 40s 796us/step - loss: 0.3130 - accuracy: 0.8898 - val_loss: 0.5083 - val_accuracy: 0.8498\n",
            "Epoch 19/20\n",
            "50000/50000 [==============================] - 40s 795us/step - loss: 0.2987 - accuracy: 0.8950 - val_loss: 0.5664 - val_accuracy: 0.8376\n",
            "Epoch 20/20\n",
            "50000/50000 [==============================] - 40s 791us/step - loss: 0.2928 - accuracy: 0.8978 - val_loss: 0.5353 - val_accuracy: 0.8456\n"
          ],
          "name": "stdout"
        }
      ]
    },
    {
      "cell_type": "code",
      "metadata": {
        "id": "lVV15YJxx7Ff",
        "colab_type": "code",
        "colab": {
          "base_uri": "https://localhost:8080/",
          "height": 53
        },
        "outputId": "5b965363-77bc-4f33-f824-35d847ab70e8"
      },
      "source": [
        "evaluation = cnn_model.evaluate(X_test, y_test)\n",
        "print('Test Accuracy: {}'.format(evaluation[1]))"
      ],
      "execution_count": 29,
      "outputs": [
        {
          "output_type": "stream",
          "text": [
            "10000/10000 [==============================] - 3s 293us/step\n",
            "Test Accuracy: 0.8456000089645386\n"
          ],
          "name": "stdout"
        }
      ]
    },
    {
      "cell_type": "code",
      "metadata": {
        "id": "wwZp14OY-NiU",
        "colab_type": "code",
        "colab": {}
      },
      "source": [
        "from keras.preprocessing.image import ImageDataGenerator\n",
        "\n",
        "datagen = ImageDataGenerator(\n",
        "                            \n",
        "                            \n",
        "                            width_shift_range=0.1,\n",
        "                             height_shift_range=0.1,\n",
        "                             shear_range=0.1,\n",
        "                             zoom_range=0.1,\n",
        "                            horizontal_flip = True,\n",
        "                            \n",
        "                             )\n",
        "datagen.fit(X_train)"
      ],
      "execution_count": 30,
      "outputs": []
    },
    {
      "cell_type": "code",
      "metadata": {
        "id": "R4UuqstL-X58",
        "colab_type": "code",
        "colab": {
          "base_uri": "https://localhost:8080/",
          "height": 1000
        },
        "outputId": "68216e75-0f34-498c-e40f-4cb840548d2c"
      },
      "source": [
        "cnn_model.fit_generator(datagen.flow(X_train, y_train, batch_size = 64), epochs = 100)"
      ],
      "execution_count": 31,
      "outputs": [
        {
          "output_type": "stream",
          "text": [
            "Epoch 1/100\n",
            "782/782 [==============================] - 49s 63ms/step - loss: 0.6109 - accuracy: 0.7990\n",
            "Epoch 2/100\n",
            "782/782 [==============================] - 49s 63ms/step - loss: 0.5500 - accuracy: 0.8126\n",
            "Epoch 3/100\n",
            "782/782 [==============================] - 49s 62ms/step - loss: 0.5229 - accuracy: 0.8197\n",
            "Epoch 4/100\n",
            "782/782 [==============================] - 49s 62ms/step - loss: 0.5099 - accuracy: 0.8267\n",
            "Epoch 5/100\n",
            "782/782 [==============================] - 48s 62ms/step - loss: 0.4918 - accuracy: 0.8294\n",
            "Epoch 6/100\n",
            "782/782 [==============================] - 49s 62ms/step - loss: 0.4892 - accuracy: 0.8313\n",
            "Epoch 7/100\n",
            "782/782 [==============================] - 49s 62ms/step - loss: 0.4766 - accuracy: 0.8349\n",
            "Epoch 8/100\n",
            "782/782 [==============================] - 50s 64ms/step - loss: 0.4711 - accuracy: 0.8379\n",
            "Epoch 9/100\n",
            "782/782 [==============================] - 49s 63ms/step - loss: 0.4572 - accuracy: 0.8435\n",
            "Epoch 10/100\n",
            "782/782 [==============================] - 49s 63ms/step - loss: 0.4564 - accuracy: 0.8427\n",
            "Epoch 11/100\n",
            "782/782 [==============================] - 49s 62ms/step - loss: 0.4466 - accuracy: 0.8458\n",
            "Epoch 12/100\n",
            "782/782 [==============================] - 48s 62ms/step - loss: 0.4379 - accuracy: 0.8494\n",
            "Epoch 13/100\n",
            "782/782 [==============================] - 49s 62ms/step - loss: 0.4372 - accuracy: 0.8494\n",
            "Epoch 14/100\n",
            "782/782 [==============================] - 49s 62ms/step - loss: 0.4255 - accuracy: 0.8531\n",
            "Epoch 15/100\n",
            "782/782 [==============================] - 49s 62ms/step - loss: 0.4228 - accuracy: 0.8530\n",
            "Epoch 16/100\n",
            "782/782 [==============================] - 48s 62ms/step - loss: 0.4179 - accuracy: 0.8540\n",
            "Epoch 17/100\n",
            "782/782 [==============================] - 48s 62ms/step - loss: 0.4101 - accuracy: 0.8578\n",
            "Epoch 18/100\n",
            "782/782 [==============================] - 48s 62ms/step - loss: 0.4025 - accuracy: 0.8610\n",
            "Epoch 19/100\n",
            "782/782 [==============================] - 49s 62ms/step - loss: 0.4026 - accuracy: 0.8597\n",
            "Epoch 20/100\n",
            "782/782 [==============================] - 48s 62ms/step - loss: 0.4021 - accuracy: 0.8618\n",
            "Epoch 21/100\n",
            "782/782 [==============================] - 49s 63ms/step - loss: 0.3926 - accuracy: 0.8622\n",
            "Epoch 22/100\n",
            "782/782 [==============================] - 49s 62ms/step - loss: 0.3898 - accuracy: 0.8636\n",
            "Epoch 23/100\n",
            "782/782 [==============================] - 48s 62ms/step - loss: 0.3884 - accuracy: 0.8652\n",
            "Epoch 24/100\n",
            "782/782 [==============================] - 48s 62ms/step - loss: 0.3823 - accuracy: 0.8651\n",
            "Epoch 25/100\n",
            "782/782 [==============================] - 48s 62ms/step - loss: 0.3789 - accuracy: 0.8676\n",
            "Epoch 26/100\n",
            "782/782 [==============================] - 49s 62ms/step - loss: 0.3739 - accuracy: 0.8684\n",
            "Epoch 27/100\n",
            "782/782 [==============================] - 49s 63ms/step - loss: 0.3746 - accuracy: 0.8704\n",
            "Epoch 28/100\n",
            "782/782 [==============================] - 49s 62ms/step - loss: 0.3661 - accuracy: 0.8728\n",
            "Epoch 29/100\n",
            "782/782 [==============================] - 49s 63ms/step - loss: 0.3620 - accuracy: 0.8749\n",
            "Epoch 30/100\n",
            "782/782 [==============================] - 48s 62ms/step - loss: 0.3622 - accuracy: 0.8742\n",
            "Epoch 31/100\n",
            "782/782 [==============================] - 49s 62ms/step - loss: 0.3565 - accuracy: 0.8758\n",
            "Epoch 32/100\n",
            "782/782 [==============================] - 48s 62ms/step - loss: 0.3556 - accuracy: 0.8778\n",
            "Epoch 33/100\n",
            "782/782 [==============================] - 49s 62ms/step - loss: 0.3544 - accuracy: 0.8770\n",
            "Epoch 34/100\n",
            "782/782 [==============================] - 49s 62ms/step - loss: 0.3524 - accuracy: 0.8769\n",
            "Epoch 35/100\n",
            "782/782 [==============================] - 48s 62ms/step - loss: 0.3491 - accuracy: 0.8787\n",
            "Epoch 36/100\n",
            "782/782 [==============================] - 48s 62ms/step - loss: 0.3486 - accuracy: 0.8781\n",
            "Epoch 37/100\n",
            "782/782 [==============================] - 48s 61ms/step - loss: 0.3404 - accuracy: 0.8843\n",
            "Epoch 38/100\n",
            "782/782 [==============================] - 48s 61ms/step - loss: 0.3448 - accuracy: 0.8786\n",
            "Epoch 39/100\n",
            "782/782 [==============================] - 48s 62ms/step - loss: 0.3397 - accuracy: 0.8792\n",
            "Epoch 40/100\n",
            "782/782 [==============================] - 48s 62ms/step - loss: 0.3340 - accuracy: 0.8836\n",
            "Epoch 41/100\n",
            "782/782 [==============================] - 48s 62ms/step - loss: 0.3343 - accuracy: 0.8847\n",
            "Epoch 42/100\n",
            "782/782 [==============================] - 48s 61ms/step - loss: 0.3344 - accuracy: 0.8842\n",
            "Epoch 43/100\n",
            "782/782 [==============================] - 48s 61ms/step - loss: 0.3311 - accuracy: 0.8841\n",
            "Epoch 44/100\n",
            "782/782 [==============================] - 48s 61ms/step - loss: 0.3242 - accuracy: 0.8880\n",
            "Epoch 45/100\n",
            "782/782 [==============================] - 48s 61ms/step - loss: 0.3224 - accuracy: 0.8873\n",
            "Epoch 46/100\n",
            "782/782 [==============================] - 48s 61ms/step - loss: 0.3220 - accuracy: 0.8885\n",
            "Epoch 47/100\n",
            "782/782 [==============================] - 48s 61ms/step - loss: 0.3208 - accuracy: 0.8892\n",
            "Epoch 48/100\n",
            "782/782 [==============================] - 48s 61ms/step - loss: 0.3210 - accuracy: 0.8878\n",
            "Epoch 49/100\n",
            "782/782 [==============================] - 48s 61ms/step - loss: 0.3215 - accuracy: 0.8883\n",
            "Epoch 50/100\n",
            "782/782 [==============================] - 48s 61ms/step - loss: 0.3127 - accuracy: 0.8903\n",
            "Epoch 51/100\n",
            "782/782 [==============================] - 48s 62ms/step - loss: 0.3134 - accuracy: 0.8899\n",
            "Epoch 52/100\n",
            "782/782 [==============================] - 48s 61ms/step - loss: 0.3065 - accuracy: 0.8919\n",
            "Epoch 53/100\n",
            "782/782 [==============================] - 48s 62ms/step - loss: 0.3088 - accuracy: 0.8922\n",
            "Epoch 54/100\n",
            "782/782 [==============================] - 48s 62ms/step - loss: 0.3075 - accuracy: 0.8917\n",
            "Epoch 55/100\n",
            "782/782 [==============================] - 48s 62ms/step - loss: 0.3062 - accuracy: 0.8945\n",
            "Epoch 56/100\n",
            "782/782 [==============================] - 48s 61ms/step - loss: 0.3025 - accuracy: 0.8945\n",
            "Epoch 57/100\n",
            "782/782 [==============================] - 48s 62ms/step - loss: 0.3056 - accuracy: 0.8933\n",
            "Epoch 58/100\n",
            "782/782 [==============================] - 48s 61ms/step - loss: 0.3020 - accuracy: 0.8941\n",
            "Epoch 59/100\n",
            "782/782 [==============================] - 48s 61ms/step - loss: 0.2982 - accuracy: 0.8945\n",
            "Epoch 60/100\n",
            "782/782 [==============================] - 48s 62ms/step - loss: 0.2971 - accuracy: 0.8969\n",
            "Epoch 61/100\n",
            "782/782 [==============================] - 48s 62ms/step - loss: 0.2984 - accuracy: 0.8941\n",
            "Epoch 62/100\n",
            "782/782 [==============================] - 47s 60ms/step - loss: 0.2974 - accuracy: 0.8968\n",
            "Epoch 63/100\n",
            "782/782 [==============================] - 48s 61ms/step - loss: 0.2980 - accuracy: 0.8941\n",
            "Epoch 64/100\n",
            "782/782 [==============================] - 48s 61ms/step - loss: 0.2937 - accuracy: 0.8977\n",
            "Epoch 65/100\n",
            "782/782 [==============================] - 48s 62ms/step - loss: 0.2926 - accuracy: 0.8985\n",
            "Epoch 66/100\n",
            "782/782 [==============================] - 49s 63ms/step - loss: 0.2915 - accuracy: 0.8982\n",
            "Epoch 67/100\n",
            "782/782 [==============================] - 50s 64ms/step - loss: 0.2852 - accuracy: 0.8996\n",
            "Epoch 68/100\n",
            "782/782 [==============================] - 49s 63ms/step - loss: 0.2886 - accuracy: 0.8998\n",
            "Epoch 69/100\n",
            "782/782 [==============================] - 49s 63ms/step - loss: 0.2923 - accuracy: 0.8993\n",
            "Epoch 70/100\n",
            "782/782 [==============================] - 50s 63ms/step - loss: 0.2830 - accuracy: 0.9005\n",
            "Epoch 71/100\n",
            "782/782 [==============================] - 49s 62ms/step - loss: 0.2864 - accuracy: 0.8997\n",
            "Epoch 72/100\n",
            "782/782 [==============================] - 49s 62ms/step - loss: 0.2880 - accuracy: 0.8997\n",
            "Epoch 73/100\n",
            "782/782 [==============================] - 49s 63ms/step - loss: 0.2784 - accuracy: 0.9021\n",
            "Epoch 74/100\n",
            "782/782 [==============================] - 49s 63ms/step - loss: 0.2831 - accuracy: 0.9018\n",
            "Epoch 75/100\n",
            "782/782 [==============================] - 49s 62ms/step - loss: 0.2788 - accuracy: 0.9022\n",
            "Epoch 76/100\n",
            "782/782 [==============================] - 48s 62ms/step - loss: 0.2810 - accuracy: 0.9009\n",
            "Epoch 77/100\n",
            "782/782 [==============================] - 48s 61ms/step - loss: 0.2794 - accuracy: 0.9019\n",
            "Epoch 78/100\n",
            "782/782 [==============================] - 48s 62ms/step - loss: 0.2790 - accuracy: 0.9006\n",
            "Epoch 79/100\n",
            "782/782 [==============================] - 48s 61ms/step - loss: 0.2787 - accuracy: 0.9026\n",
            "Epoch 80/100\n",
            "782/782 [==============================] - 48s 62ms/step - loss: 0.2737 - accuracy: 0.9027\n",
            "Epoch 81/100\n",
            "782/782 [==============================] - 49s 62ms/step - loss: 0.2735 - accuracy: 0.9048\n",
            "Epoch 82/100\n",
            "782/782 [==============================] - 50s 63ms/step - loss: 0.2717 - accuracy: 0.9049\n",
            "Epoch 83/100\n",
            "782/782 [==============================] - 49s 62ms/step - loss: 0.2658 - accuracy: 0.9074\n",
            "Epoch 84/100\n",
            "782/782 [==============================] - 48s 62ms/step - loss: 0.2699 - accuracy: 0.9057\n",
            "Epoch 85/100\n",
            "782/782 [==============================] - 49s 62ms/step - loss: 0.2720 - accuracy: 0.9054\n",
            "Epoch 86/100\n",
            "782/782 [==============================] - 48s 62ms/step - loss: 0.2654 - accuracy: 0.9070\n",
            "Epoch 87/100\n",
            "782/782 [==============================] - 48s 61ms/step - loss: 0.2648 - accuracy: 0.9066\n",
            "Epoch 88/100\n",
            "782/782 [==============================] - 48s 61ms/step - loss: 0.2634 - accuracy: 0.9072\n",
            "Epoch 89/100\n",
            "782/782 [==============================] - 48s 61ms/step - loss: 0.2651 - accuracy: 0.9071\n",
            "Epoch 90/100\n",
            "782/782 [==============================] - 48s 61ms/step - loss: 0.2614 - accuracy: 0.9088\n",
            "Epoch 91/100\n",
            "782/782 [==============================] - 48s 61ms/step - loss: 0.2648 - accuracy: 0.9072\n",
            "Epoch 92/100\n",
            "782/782 [==============================] - 48s 62ms/step - loss: 0.2628 - accuracy: 0.9072\n",
            "Epoch 93/100\n",
            "782/782 [==============================] - 48s 62ms/step - loss: 0.2602 - accuracy: 0.9073\n",
            "Epoch 94/100\n",
            "782/782 [==============================] - 48s 61ms/step - loss: 0.2622 - accuracy: 0.9088\n",
            "Epoch 95/100\n",
            "782/782 [==============================] - 48s 61ms/step - loss: 0.2616 - accuracy: 0.9090\n",
            "Epoch 96/100\n",
            "782/782 [==============================] - 48s 61ms/step - loss: 0.2579 - accuracy: 0.9093\n",
            "Epoch 97/100\n",
            "782/782 [==============================] - 48s 61ms/step - loss: 0.2562 - accuracy: 0.9099\n",
            "Epoch 98/100\n",
            "782/782 [==============================] - 48s 62ms/step - loss: 0.2552 - accuracy: 0.9090\n",
            "Epoch 99/100\n",
            "782/782 [==============================] - 48s 61ms/step - loss: 0.2522 - accuracy: 0.9125\n",
            "Epoch 100/100\n",
            "782/782 [==============================] - 48s 61ms/step - loss: 0.2539 - accuracy: 0.9100\n"
          ],
          "name": "stdout"
        },
        {
          "output_type": "execute_result",
          "data": {
            "text/plain": [
              "<keras.callbacks.callbacks.History at 0x7f2122a86f98>"
            ]
          },
          "metadata": {
            "tags": []
          },
          "execution_count": 31
        }
      ]
    },
    {
      "cell_type": "code",
      "metadata": {
        "id": "E-iEp0pw-7UR",
        "colab_type": "code",
        "colab": {
          "base_uri": "https://localhost:8080/",
          "height": 35
        },
        "outputId": "f0e55d5d-88c6-414c-e6d8-405e0ffe01a1"
      },
      "source": [
        "  score = cnn_model.evaluate(X_test, y_test)\n"
      ],
      "execution_count": 32,
      "outputs": [
        {
          "output_type": "stream",
          "text": [
            "10000/10000 [==============================] - 3s 321us/step\n"
          ],
          "name": "stdout"
        }
      ]
    },
    {
      "cell_type": "code",
      "metadata": {
        "id": "p9soxretDH8P",
        "colab_type": "code",
        "colab": {
          "base_uri": "https://localhost:8080/",
          "height": 35
        },
        "outputId": "5740db14-7834-4f24-acda-e3871be2a464"
      },
      "source": [
        "\n",
        "print('Test accuracy', score[1])"
      ],
      "execution_count": 33,
      "outputs": [
        {
          "output_type": "stream",
          "text": [
            "Test accuracy 0.891700029373169\n"
          ],
          "name": "stdout"
        }
      ]
    },
    {
      "cell_type": "code",
      "metadata": {
        "id": "QjdhWBGohll6",
        "colab_type": "code",
        "colab": {
          "base_uri": "https://localhost:8080/",
          "height": 35
        },
        "outputId": "71421731-47fd-4931-fa13-c93406698ba2"
      },
      "source": [
        "score_test= cnn_model.evaluate(X_train, y_train)"
      ],
      "execution_count": 34,
      "outputs": [
        {
          "output_type": "stream",
          "text": [
            "50000/50000 [==============================] - 16s 325us/step\n"
          ],
          "name": "stdout"
        }
      ]
    },
    {
      "cell_type": "code",
      "metadata": {
        "id": "QK5GiPQmDI_B",
        "colab_type": "code",
        "colab": {
          "base_uri": "https://localhost:8080/",
          "height": 35
        },
        "outputId": "6dfb95f6-b6ec-4b5b-b487-4f8486720912"
      },
      "source": [
        "print('Train accuracy', score_test[1])"
      ],
      "execution_count": 35,
      "outputs": [
        {
          "output_type": "stream",
          "text": [
            "Train accuracy 0.9595199823379517\n"
          ],
          "name": "stdout"
        }
      ]
    }
  ]
}