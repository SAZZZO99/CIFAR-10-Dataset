{
  "nbformat": 4,
  "nbformat_minor": 0,
  "metadata": {
    "colab": {
      "name": "new model.ipynb",
      "provenance": [],
      "mount_file_id": "1yksUBbwdVcHZpjgjJeGDp1VEDtE64MJz",
      "authorship_tag": "ABX9TyPbem/NHqru3/ST5deKLOgM"
    },
    "kernelspec": {
      "name": "python3",
      "display_name": "Python 3"
    },
    "accelerator": "GPU"
  },
  "cells": [
    {
      "cell_type": "code",
      "metadata": {
        "id": "qyezxU6-b1Ip",
        "colab_type": "code",
        "colab": {}
      },
      "source": [
        "import numpy as np \n",
        "import pandas as pd \n",
        "import matplotlib.pyplot as plt\n",
        "import seaborn"
      ],
      "execution_count": 23,
      "outputs": []
    },
    {
      "cell_type": "code",
      "metadata": {
        "id": "mXhX5r5Hb1Oo",
        "colab_type": "code",
        "colab": {}
      },
      "source": [
        "from keras.datasets import cifar10"
      ],
      "execution_count": 24,
      "outputs": []
    },
    {
      "cell_type": "code",
      "metadata": {
        "id": "3o7YcIqGITnV",
        "colab_type": "code",
        "colab": {
          "base_uri": "https://localhost:8080/",
          "height": 35
        },
        "outputId": "2f511640-1b50-465c-a047-7c14c9535d80"
      },
      "source": [
        "import tensorflow as tf\n",
        "print(tf.__version__)\n",
        "\n"
      ],
      "execution_count": 25,
      "outputs": [
        {
          "output_type": "stream",
          "text": [
            "2.2.0\n"
          ],
          "name": "stdout"
        }
      ]
    },
    {
      "cell_type": "code",
      "metadata": {
        "id": "9X_dSPabb1Rp",
        "colab_type": "code",
        "colab": {}
      },
      "source": [
        "(X_train, y_train) , (X_test, y_test) = cifar10.load_data()"
      ],
      "execution_count": 26,
      "outputs": []
    },
    {
      "cell_type": "code",
      "metadata": {
        "id": "mEP2-H30b1Uj",
        "colab_type": "code",
        "colab": {
          "base_uri": "https://localhost:8080/",
          "height": 89
        },
        "outputId": "d05a4616-da01-460a-9174-f0ba51ea5565"
      },
      "source": [
        "print('X_train shape - ',X_train.shape)\n",
        "print('X_test shape - ',X_test.shape)\n",
        "print('y_train shape - ',y_train.shape)\n",
        "print('y_test shape - ',y_test.shape)"
      ],
      "execution_count": 27,
      "outputs": [
        {
          "output_type": "stream",
          "text": [
            "X_train shape -  (50000, 32, 32, 3)\n",
            "X_test shape -  (10000, 32, 32, 3)\n",
            "y_train shape -  (50000, 1)\n",
            "y_test shape -  (10000, 1)\n"
          ],
          "name": "stdout"
        }
      ]
    },
    {
      "cell_type": "code",
      "metadata": {
        "id": "VllkubBib1XQ",
        "colab_type": "code",
        "colab": {}
      },
      "source": [
        "X_train = X_train.astype('float32')\n",
        "X_test = X_test.astype('float32')\n",
        "X_train = X_train/255\n",
        "X_test = X_test/255"
      ],
      "execution_count": 28,
      "outputs": []
    },
    {
      "cell_type": "code",
      "metadata": {
        "id": "ihzb1xXMb1Zy",
        "colab_type": "code",
        "colab": {}
      },
      "source": [
        "import keras\n",
        "y_train = keras.utils.to_categorical(y_train, 10)\n",
        "y_test = keras.utils.to_categorical(y_test, 10)"
      ],
      "execution_count": 29,
      "outputs": []
    },
    {
      "cell_type": "code",
      "metadata": {
        "id": "cWCFNz3-cK4s",
        "colab_type": "code",
        "colab": {
          "base_uri": "https://localhost:8080/",
          "height": 35
        },
        "outputId": "b166b920-20a8-4826-8b1f-33d5abafb2f9"
      },
      "source": [
        "Input_shape = X_train.shape[1:]\n",
        "Input_shape"
      ],
      "execution_count": 30,
      "outputs": [
        {
          "output_type": "execute_result",
          "data": {
            "text/plain": [
              "(32, 32, 3)"
            ]
          },
          "metadata": {
            "tags": []
          },
          "execution_count": 30
        }
      ]
    },
    {
      "cell_type": "code",
      "metadata": {
        "id": "eojuxAoLcK-z",
        "colab_type": "code",
        "colab": {}
      },
      "source": [
        "import tensorflow.keras as keras\n",
        "from tensorflow.keras.models import Sequential\n",
        "from tensorflow.keras.layers import Conv2D,Dense,AveragePooling2D,MaxPooling2D, Flatten, Dropout\n",
        "from tensorflow.keras.optimizers import Adam\n",
        "from tensorflow.keras.callbacks import TensorBoard\n",
        "from tensorflow.keras.layers import BatchNormalization"
      ],
      "execution_count": 31,
      "outputs": []
    },
    {
      "cell_type": "code",
      "metadata": {
        "id": "V7_Aci_hcK7_",
        "colab_type": "code",
        "colab": {}
      },
      "source": [
        "cnn_model = Sequential()\n",
        "cnn_model.add(Conv2D(filters = 32, kernel_size = (3,3), activation = 'relu', kernel_initializer='he_uniform', padding='same',input_shape = Input_shape))\n",
        "cnn_model.add(BatchNormalization())\n",
        "cnn_model.add(Conv2D(filters = 32, kernel_size = (3,3), activation = 'relu', kernel_initializer='he_uniform',padding='same'))\n",
        "cnn_model.add(BatchNormalization())\n",
        "cnn_model.add(MaxPooling2D(2,2))\n",
        "cnn_model.add(Dropout(0.2))\n",
        "\n",
        "cnn_model.add(Conv2D(filters = 64, kernel_size = (3,3), activation = 'relu', kernel_initializer='he_uniform', padding='same',input_shape = Input_shape))\n",
        "cnn_model.add(BatchNormalization())\n",
        "cnn_model.add(Conv2D(filters = 64, kernel_size = (3,3), activation = 'relu', kernel_initializer='he_uniform',padding='same'))\n",
        "cnn_model.add(BatchNormalization())\n",
        "cnn_model.add(MaxPooling2D(2,2))\n",
        "cnn_model.add(Dropout(0.3))\n",
        "\n",
        "\n",
        "cnn_model.add(Conv2D(filters = 128, kernel_size = (3,3), activation = 'relu', kernel_initializer='he_uniform',padding='same'))\n",
        "cnn_model.add(BatchNormalization())\n",
        "cnn_model.add(Conv2D(filters = 128, kernel_size = (3,3), activation = 'relu', kernel_initializer='he_uniform',padding='same'))\n",
        "cnn_model.add(BatchNormalization())\n",
        "cnn_model.add(AveragePooling2D(2,2))\n",
        "cnn_model.add(Dropout(0.4))\n",
        "\n",
        "cnn_model.add(Flatten())\n",
        "\n",
        "cnn_model.add(Dense(units = 1024, activation = 'relu', kernel_initializer='he_uniform'))\n",
        "cnn_model.add(BatchNormalization())\n",
        "cnn_model.add(Dropout(0.5))\n",
        "\n",
        "cnn_model.add(Dense(units = 10, activation = 'softmax'))"
      ],
      "execution_count": 32,
      "outputs": []
    },
    {
      "cell_type": "code",
      "metadata": {
        "id": "QLc0xYhHcK2p",
        "colab_type": "code",
        "colab": {}
      },
      "source": [
        "cnn_model.compile(loss = 'categorical_crossentropy', optimizer = Adam(lr=0.001,beta_1=0.9,beta_2=0.999), metrics = ['accuracy'])"
      ],
      "execution_count": 33,
      "outputs": []
    },
    {
      "cell_type": "code",
      "metadata": {
        "id": "zhc9rItjcKx3",
        "colab_type": "code",
        "colab": {
          "base_uri": "https://localhost:8080/",
          "height": 989
        },
        "outputId": "29dc7bf6-c77b-417f-d0b3-0f3036c24089"
      },
      "source": [
        "cnn_model.summary()"
      ],
      "execution_count": 34,
      "outputs": [
        {
          "output_type": "stream",
          "text": [
            "Model: \"sequential\"\n",
            "_________________________________________________________________\n",
            "Layer (type)                 Output Shape              Param #   \n",
            "=================================================================\n",
            "conv2d (Conv2D)              (None, 32, 32, 32)        896       \n",
            "_________________________________________________________________\n",
            "batch_normalization (BatchNo (None, 32, 32, 32)        128       \n",
            "_________________________________________________________________\n",
            "conv2d_1 (Conv2D)            (None, 32, 32, 32)        9248      \n",
            "_________________________________________________________________\n",
            "batch_normalization_1 (Batch (None, 32, 32, 32)        128       \n",
            "_________________________________________________________________\n",
            "max_pooling2d (MaxPooling2D) (None, 16, 16, 32)        0         \n",
            "_________________________________________________________________\n",
            "dropout (Dropout)            (None, 16, 16, 32)        0         \n",
            "_________________________________________________________________\n",
            "conv2d_2 (Conv2D)            (None, 16, 16, 64)        18496     \n",
            "_________________________________________________________________\n",
            "batch_normalization_2 (Batch (None, 16, 16, 64)        256       \n",
            "_________________________________________________________________\n",
            "conv2d_3 (Conv2D)            (None, 16, 16, 64)        36928     \n",
            "_________________________________________________________________\n",
            "batch_normalization_3 (Batch (None, 16, 16, 64)        256       \n",
            "_________________________________________________________________\n",
            "max_pooling2d_1 (MaxPooling2 (None, 8, 8, 64)          0         \n",
            "_________________________________________________________________\n",
            "dropout_1 (Dropout)          (None, 8, 8, 64)          0         \n",
            "_________________________________________________________________\n",
            "conv2d_4 (Conv2D)            (None, 8, 8, 128)         73856     \n",
            "_________________________________________________________________\n",
            "batch_normalization_4 (Batch (None, 8, 8, 128)         512       \n",
            "_________________________________________________________________\n",
            "conv2d_5 (Conv2D)            (None, 8, 8, 128)         147584    \n",
            "_________________________________________________________________\n",
            "batch_normalization_5 (Batch (None, 8, 8, 128)         512       \n",
            "_________________________________________________________________\n",
            "average_pooling2d (AveragePo (None, 4, 4, 128)         0         \n",
            "_________________________________________________________________\n",
            "dropout_2 (Dropout)          (None, 4, 4, 128)         0         \n",
            "_________________________________________________________________\n",
            "flatten (Flatten)            (None, 2048)              0         \n",
            "_________________________________________________________________\n",
            "dense (Dense)                (None, 1024)              2098176   \n",
            "_________________________________________________________________\n",
            "batch_normalization_6 (Batch (None, 1024)              4096      \n",
            "_________________________________________________________________\n",
            "dropout_3 (Dropout)          (None, 1024)              0         \n",
            "_________________________________________________________________\n",
            "dense_1 (Dense)              (None, 10)                10250     \n",
            "=================================================================\n",
            "Total params: 2,401,322\n",
            "Trainable params: 2,398,378\n",
            "Non-trainable params: 2,944\n",
            "_________________________________________________________________\n"
          ],
          "name": "stdout"
        }
      ]
    },
    {
      "cell_type": "code",
      "metadata": {
        "id": "ilqed68kb1cu",
        "colab_type": "code",
        "colab": {
          "base_uri": "https://localhost:8080/",
          "height": 737
        },
        "outputId": "38068280-e9b1-4c3c-d077-039791e8f39d"
      },
      "source": [
        "history = cnn_model.fit(X_train, y_train, batch_size = 64, epochs = 20, shuffle = True,validation_data=(X_test,y_test))"
      ],
      "execution_count": 35,
      "outputs": [
        {
          "output_type": "stream",
          "text": [
            "Epoch 1/20\n",
            "782/782 [==============================] - 7s 9ms/step - loss: 1.6660 - accuracy: 0.4643 - val_loss: 1.2456 - val_accuracy: 0.5748\n",
            "Epoch 2/20\n",
            "782/782 [==============================] - 7s 9ms/step - loss: 1.0695 - accuracy: 0.6279 - val_loss: 0.9072 - val_accuracy: 0.6892\n",
            "Epoch 3/20\n",
            "782/782 [==============================] - 7s 9ms/step - loss: 0.8701 - accuracy: 0.6932 - val_loss: 0.7347 - val_accuracy: 0.7476\n",
            "Epoch 4/20\n",
            "782/782 [==============================] - 7s 8ms/step - loss: 0.7636 - accuracy: 0.7329 - val_loss: 0.7368 - val_accuracy: 0.7560\n",
            "Epoch 5/20\n",
            "782/782 [==============================] - 7s 9ms/step - loss: 0.6867 - accuracy: 0.7604 - val_loss: 0.7304 - val_accuracy: 0.7600\n",
            "Epoch 6/20\n",
            "782/782 [==============================] - 7s 9ms/step - loss: 0.6346 - accuracy: 0.7810 - val_loss: 0.6368 - val_accuracy: 0.7837\n",
            "Epoch 7/20\n",
            "782/782 [==============================] - 7s 8ms/step - loss: 0.5903 - accuracy: 0.7955 - val_loss: 0.5626 - val_accuracy: 0.8117\n",
            "Epoch 8/20\n",
            "782/782 [==============================] - 7s 8ms/step - loss: 0.5391 - accuracy: 0.8119 - val_loss: 0.5719 - val_accuracy: 0.8073\n",
            "Epoch 9/20\n",
            "782/782 [==============================] - 7s 8ms/step - loss: 0.5056 - accuracy: 0.8227 - val_loss: 0.5513 - val_accuracy: 0.8154\n",
            "Epoch 10/20\n",
            "782/782 [==============================] - 7s 9ms/step - loss: 0.4771 - accuracy: 0.8339 - val_loss: 0.5465 - val_accuracy: 0.8194\n",
            "Epoch 11/20\n",
            "782/782 [==============================] - 7s 9ms/step - loss: 0.4442 - accuracy: 0.8426 - val_loss: 0.5280 - val_accuracy: 0.8293\n",
            "Epoch 12/20\n",
            "782/782 [==============================] - 7s 8ms/step - loss: 0.4248 - accuracy: 0.8509 - val_loss: 0.4911 - val_accuracy: 0.8384\n",
            "Epoch 13/20\n",
            "782/782 [==============================] - 7s 9ms/step - loss: 0.4033 - accuracy: 0.8597 - val_loss: 0.5438 - val_accuracy: 0.8225\n",
            "Epoch 14/20\n",
            "782/782 [==============================] - 7s 8ms/step - loss: 0.3833 - accuracy: 0.8646 - val_loss: 0.4761 - val_accuracy: 0.8481\n",
            "Epoch 15/20\n",
            "782/782 [==============================] - 7s 8ms/step - loss: 0.3648 - accuracy: 0.8711 - val_loss: 0.5138 - val_accuracy: 0.8383\n",
            "Epoch 16/20\n",
            "782/782 [==============================] - 6s 8ms/step - loss: 0.3442 - accuracy: 0.8797 - val_loss: 0.4880 - val_accuracy: 0.8493\n",
            "Epoch 17/20\n",
            "782/782 [==============================] - 7s 8ms/step - loss: 0.3340 - accuracy: 0.8817 - val_loss: 0.5189 - val_accuracy: 0.8396\n",
            "Epoch 18/20\n",
            "782/782 [==============================] - 7s 8ms/step - loss: 0.3201 - accuracy: 0.8874 - val_loss: 0.4984 - val_accuracy: 0.8508\n",
            "Epoch 19/20\n",
            "782/782 [==============================] - 7s 8ms/step - loss: 0.3080 - accuracy: 0.8905 - val_loss: 0.4927 - val_accuracy: 0.8509\n",
            "Epoch 20/20\n",
            "782/782 [==============================] - 7s 9ms/step - loss: 0.2979 - accuracy: 0.8952 - val_loss: 0.4794 - val_accuracy: 0.8578\n"
          ],
          "name": "stdout"
        }
      ]
    },
    {
      "cell_type": "code",
      "metadata": {
        "id": "0nciTsgbchWq",
        "colab_type": "code",
        "colab": {
          "base_uri": "https://localhost:8080/",
          "height": 53
        },
        "outputId": "2702b1ba-3378-4ebf-9cb1-240f128b018c"
      },
      "source": [
        "evaluation = cnn_model.evaluate(X_test, y_test)\n",
        "print('Test Accuracy: {}'.format(evaluation[1]))"
      ],
      "execution_count": 36,
      "outputs": [
        {
          "output_type": "stream",
          "text": [
            "313/313 [==============================] - 1s 3ms/step - loss: 0.4794 - accuracy: 0.8578\n",
            "Test Accuracy: 0.8578000068664551\n"
          ],
          "name": "stdout"
        }
      ]
    },
    {
      "cell_type": "code",
      "metadata": {
        "id": "zJvvPbfMclq4",
        "colab_type": "code",
        "colab": {}
      },
      "source": [
        "from keras.preprocessing.image import ImageDataGenerator\n",
        "\n",
        "datagen = ImageDataGenerator(\n",
        "                            \n",
        "                            \n",
        "                            width_shift_range=0.1,\n",
        "                             height_shift_range=0.1,\n",
        "                             shear_range=0.1,\n",
        "                             zoom_range=0.1,\n",
        "                            horizontal_flip = True,\n",
        "                            \n",
        "                             )\n",
        "datagen.fit(X_train)"
      ],
      "execution_count": 37,
      "outputs": []
    },
    {
      "cell_type": "code",
      "metadata": {
        "id": "nOHpQKlLcluV",
        "colab_type": "code",
        "colab": {
          "base_uri": "https://localhost:8080/",
          "height": 1000
        },
        "outputId": "67e9e856-b5db-4ea1-d658-5669df37e796"
      },
      "source": [
        "cnn_model.fit_generator(datagen.flow(X_train, y_train, batch_size = 64), epochs = 250)"
      ],
      "execution_count": 38,
      "outputs": [
        {
          "output_type": "stream",
          "text": [
            "WARNING:tensorflow:From <ipython-input-38-58613e89aaa0>:1: Model.fit_generator (from tensorflow.python.keras.engine.training) is deprecated and will be removed in a future version.\n",
            "Instructions for updating:\n",
            "Please use Model.fit, which supports generators.\n",
            "Epoch 1/250\n",
            "782/782 [==============================] - 23s 30ms/step - loss: 0.6223 - accuracy: 0.7913\n",
            "Epoch 2/250\n",
            "782/782 [==============================] - 23s 30ms/step - loss: 0.5503 - accuracy: 0.8117\n",
            "Epoch 3/250\n",
            "782/782 [==============================] - 23s 30ms/step - loss: 0.5368 - accuracy: 0.8153\n",
            "Epoch 4/250\n",
            "782/782 [==============================] - 23s 30ms/step - loss: 0.5151 - accuracy: 0.8208\n",
            "Epoch 5/250\n",
            "782/782 [==============================] - 23s 30ms/step - loss: 0.5073 - accuracy: 0.8253\n",
            "Epoch 6/250\n",
            "782/782 [==============================] - 24s 31ms/step - loss: 0.4914 - accuracy: 0.8299\n",
            "Epoch 7/250\n",
            "782/782 [==============================] - 24s 31ms/step - loss: 0.4894 - accuracy: 0.8317\n",
            "Epoch 8/250\n",
            "782/782 [==============================] - 24s 31ms/step - loss: 0.4767 - accuracy: 0.8359\n",
            "Epoch 9/250\n",
            "782/782 [==============================] - 24s 30ms/step - loss: 0.4710 - accuracy: 0.8363\n",
            "Epoch 10/250\n",
            "782/782 [==============================] - 24s 30ms/step - loss: 0.4592 - accuracy: 0.8406\n",
            "Epoch 11/250\n",
            "782/782 [==============================] - 23s 30ms/step - loss: 0.4564 - accuracy: 0.8425\n",
            "Epoch 12/250\n",
            "782/782 [==============================] - 24s 31ms/step - loss: 0.4456 - accuracy: 0.8453\n",
            "Epoch 13/250\n",
            "782/782 [==============================] - 24s 30ms/step - loss: 0.4413 - accuracy: 0.8473\n",
            "Epoch 14/250\n",
            "782/782 [==============================] - 23s 30ms/step - loss: 0.4386 - accuracy: 0.8479\n",
            "Epoch 15/250\n",
            "782/782 [==============================] - 24s 30ms/step - loss: 0.4296 - accuracy: 0.8515\n",
            "Epoch 16/250\n",
            "782/782 [==============================] - 24s 30ms/step - loss: 0.4205 - accuracy: 0.8551\n",
            "Epoch 17/250\n",
            "782/782 [==============================] - 24s 30ms/step - loss: 0.4209 - accuracy: 0.8529\n",
            "Epoch 18/250\n",
            "782/782 [==============================] - 23s 30ms/step - loss: 0.4118 - accuracy: 0.8572\n",
            "Epoch 19/250\n",
            "782/782 [==============================] - 23s 30ms/step - loss: 0.4072 - accuracy: 0.8590\n",
            "Epoch 20/250\n",
            "782/782 [==============================] - 23s 30ms/step - loss: 0.4024 - accuracy: 0.8610\n",
            "Epoch 21/250\n",
            "782/782 [==============================] - 23s 30ms/step - loss: 0.3957 - accuracy: 0.8637\n",
            "Epoch 22/250\n",
            "782/782 [==============================] - 23s 30ms/step - loss: 0.3939 - accuracy: 0.8630\n",
            "Epoch 23/250\n",
            "782/782 [==============================] - 23s 30ms/step - loss: 0.3895 - accuracy: 0.8661\n",
            "Epoch 24/250\n",
            "782/782 [==============================] - 24s 30ms/step - loss: 0.3889 - accuracy: 0.8630\n",
            "Epoch 25/250\n",
            "782/782 [==============================] - 24s 31ms/step - loss: 0.3813 - accuracy: 0.8691\n",
            "Epoch 26/250\n",
            "782/782 [==============================] - 23s 30ms/step - loss: 0.3782 - accuracy: 0.8691\n",
            "Epoch 27/250\n",
            "782/782 [==============================] - 23s 30ms/step - loss: 0.3747 - accuracy: 0.8702\n",
            "Epoch 28/250\n",
            "782/782 [==============================] - 23s 30ms/step - loss: 0.3730 - accuracy: 0.8696\n",
            "Epoch 29/250\n",
            "782/782 [==============================] - 23s 30ms/step - loss: 0.3725 - accuracy: 0.8715\n",
            "Epoch 30/250\n",
            "782/782 [==============================] - 24s 30ms/step - loss: 0.3707 - accuracy: 0.8700\n",
            "Epoch 31/250\n",
            "782/782 [==============================] - 24s 30ms/step - loss: 0.3584 - accuracy: 0.8750\n",
            "Epoch 32/250\n",
            "782/782 [==============================] - 23s 30ms/step - loss: 0.3588 - accuracy: 0.8742\n",
            "Epoch 33/250\n",
            "782/782 [==============================] - 23s 30ms/step - loss: 0.3590 - accuracy: 0.8753\n",
            "Epoch 34/250\n",
            "782/782 [==============================] - 23s 30ms/step - loss: 0.3545 - accuracy: 0.8763\n",
            "Epoch 35/250\n",
            "782/782 [==============================] - 23s 30ms/step - loss: 0.3474 - accuracy: 0.8784\n",
            "Epoch 36/250\n",
            "782/782 [==============================] - 24s 30ms/step - loss: 0.3474 - accuracy: 0.8791\n",
            "Epoch 37/250\n",
            "782/782 [==============================] - 24s 30ms/step - loss: 0.3427 - accuracy: 0.8813\n",
            "Epoch 38/250\n",
            "782/782 [==============================] - 24s 31ms/step - loss: 0.3407 - accuracy: 0.8816\n",
            "Epoch 39/250\n",
            "782/782 [==============================] - 23s 30ms/step - loss: 0.3401 - accuracy: 0.8814\n",
            "Epoch 40/250\n",
            "782/782 [==============================] - 23s 30ms/step - loss: 0.3370 - accuracy: 0.8832\n",
            "Epoch 41/250\n",
            "782/782 [==============================] - 23s 30ms/step - loss: 0.3339 - accuracy: 0.8851\n",
            "Epoch 42/250\n",
            "782/782 [==============================] - 23s 30ms/step - loss: 0.3358 - accuracy: 0.8838\n",
            "Epoch 43/250\n",
            "782/782 [==============================] - 23s 30ms/step - loss: 0.3292 - accuracy: 0.8846\n",
            "Epoch 44/250\n",
            "782/782 [==============================] - 23s 30ms/step - loss: 0.3346 - accuracy: 0.8838\n",
            "Epoch 45/250\n",
            "782/782 [==============================] - 23s 30ms/step - loss: 0.3277 - accuracy: 0.8848\n",
            "Epoch 46/250\n",
            "782/782 [==============================] - 23s 29ms/step - loss: 0.3309 - accuracy: 0.8845\n",
            "Epoch 47/250\n",
            "782/782 [==============================] - 23s 30ms/step - loss: 0.3197 - accuracy: 0.8881\n",
            "Epoch 48/250\n",
            "782/782 [==============================] - 24s 30ms/step - loss: 0.3249 - accuracy: 0.8873\n",
            "Epoch 49/250\n",
            "782/782 [==============================] - 23s 29ms/step - loss: 0.3220 - accuracy: 0.8858\n",
            "Epoch 50/250\n",
            "782/782 [==============================] - 23s 29ms/step - loss: 0.3187 - accuracy: 0.8887\n",
            "Epoch 51/250\n",
            "782/782 [==============================] - 23s 30ms/step - loss: 0.3206 - accuracy: 0.8880\n",
            "Epoch 52/250\n",
            "782/782 [==============================] - 24s 30ms/step - loss: 0.3173 - accuracy: 0.8892\n",
            "Epoch 53/250\n",
            "782/782 [==============================] - 23s 30ms/step - loss: 0.3134 - accuracy: 0.8914\n",
            "Epoch 54/250\n",
            "782/782 [==============================] - 23s 30ms/step - loss: 0.3108 - accuracy: 0.8915\n",
            "Epoch 55/250\n",
            "782/782 [==============================] - 23s 30ms/step - loss: 0.3083 - accuracy: 0.8932\n",
            "Epoch 56/250\n",
            "782/782 [==============================] - 23s 30ms/step - loss: 0.3107 - accuracy: 0.8910\n",
            "Epoch 57/250\n",
            "782/782 [==============================] - 23s 29ms/step - loss: 0.3040 - accuracy: 0.8934\n",
            "Epoch 58/250\n",
            "782/782 [==============================] - 23s 30ms/step - loss: 0.3119 - accuracy: 0.8916\n",
            "Epoch 59/250\n",
            "782/782 [==============================] - 23s 29ms/step - loss: 0.3021 - accuracy: 0.8949\n",
            "Epoch 60/250\n",
            "782/782 [==============================] - 23s 29ms/step - loss: 0.3055 - accuracy: 0.8932\n",
            "Epoch 61/250\n",
            "782/782 [==============================] - 23s 30ms/step - loss: 0.3051 - accuracy: 0.8939\n",
            "Epoch 62/250\n",
            "782/782 [==============================] - 23s 29ms/step - loss: 0.3020 - accuracy: 0.8937\n",
            "Epoch 63/250\n",
            "782/782 [==============================] - 23s 29ms/step - loss: 0.2974 - accuracy: 0.8972\n",
            "Epoch 64/250\n",
            "782/782 [==============================] - 23s 29ms/step - loss: 0.2945 - accuracy: 0.8961\n",
            "Epoch 65/250\n",
            "782/782 [==============================] - 23s 30ms/step - loss: 0.2980 - accuracy: 0.8965\n",
            "Epoch 66/250\n",
            "782/782 [==============================] - 23s 29ms/step - loss: 0.2891 - accuracy: 0.8985\n",
            "Epoch 67/250\n",
            "782/782 [==============================] - 23s 29ms/step - loss: 0.2931 - accuracy: 0.8969\n",
            "Epoch 68/250\n",
            "782/782 [==============================] - 23s 29ms/step - loss: 0.2906 - accuracy: 0.8984\n",
            "Epoch 69/250\n",
            "782/782 [==============================] - 23s 29ms/step - loss: 0.2898 - accuracy: 0.8994\n",
            "Epoch 70/250\n",
            "782/782 [==============================] - 23s 29ms/step - loss: 0.2903 - accuracy: 0.8991\n",
            "Epoch 71/250\n",
            "782/782 [==============================] - 23s 29ms/step - loss: 0.2896 - accuracy: 0.8991\n",
            "Epoch 72/250\n",
            "782/782 [==============================] - 23s 30ms/step - loss: 0.2895 - accuracy: 0.8992\n",
            "Epoch 73/250\n",
            "782/782 [==============================] - 23s 29ms/step - loss: 0.2856 - accuracy: 0.9002\n",
            "Epoch 74/250\n",
            "782/782 [==============================] - 23s 29ms/step - loss: 0.2800 - accuracy: 0.9011\n",
            "Epoch 75/250\n",
            "782/782 [==============================] - 23s 30ms/step - loss: 0.2889 - accuracy: 0.8995\n",
            "Epoch 76/250\n",
            "782/782 [==============================] - 23s 29ms/step - loss: 0.2836 - accuracy: 0.9004\n",
            "Epoch 77/250\n",
            "782/782 [==============================] - 23s 29ms/step - loss: 0.2782 - accuracy: 0.9029\n",
            "Epoch 78/250\n",
            "782/782 [==============================] - 23s 29ms/step - loss: 0.2774 - accuracy: 0.9028\n",
            "Epoch 79/250\n",
            "782/782 [==============================] - 23s 30ms/step - loss: 0.2745 - accuracy: 0.9033\n",
            "Epoch 80/250\n",
            "782/782 [==============================] - 23s 29ms/step - loss: 0.2740 - accuracy: 0.9029\n",
            "Epoch 81/250\n",
            "782/782 [==============================] - 23s 29ms/step - loss: 0.2744 - accuracy: 0.9042\n",
            "Epoch 82/250\n",
            "782/782 [==============================] - 23s 29ms/step - loss: 0.2723 - accuracy: 0.9040\n",
            "Epoch 83/250\n",
            "782/782 [==============================] - 23s 29ms/step - loss: 0.2711 - accuracy: 0.9058\n",
            "Epoch 84/250\n",
            "782/782 [==============================] - 23s 29ms/step - loss: 0.2683 - accuracy: 0.9067\n",
            "Epoch 85/250\n",
            "782/782 [==============================] - 23s 29ms/step - loss: 0.2672 - accuracy: 0.9053\n",
            "Epoch 86/250\n",
            "782/782 [==============================] - 23s 29ms/step - loss: 0.2694 - accuracy: 0.9054\n",
            "Epoch 87/250\n",
            "782/782 [==============================] - 23s 29ms/step - loss: 0.2681 - accuracy: 0.9064\n",
            "Epoch 88/250\n",
            "782/782 [==============================] - 23s 29ms/step - loss: 0.2673 - accuracy: 0.9054\n",
            "Epoch 89/250\n",
            "782/782 [==============================] - 23s 29ms/step - loss: 0.2720 - accuracy: 0.9062\n",
            "Epoch 90/250\n",
            "782/782 [==============================] - 23s 29ms/step - loss: 0.2654 - accuracy: 0.9078\n",
            "Epoch 91/250\n",
            "782/782 [==============================] - 23s 29ms/step - loss: 0.2666 - accuracy: 0.9065\n",
            "Epoch 92/250\n",
            "782/782 [==============================] - 23s 29ms/step - loss: 0.2697 - accuracy: 0.9056\n",
            "Epoch 93/250\n",
            "782/782 [==============================] - 23s 29ms/step - loss: 0.2664 - accuracy: 0.9054\n",
            "Epoch 94/250\n",
            "782/782 [==============================] - 23s 29ms/step - loss: 0.2570 - accuracy: 0.9095\n",
            "Epoch 95/250\n",
            "782/782 [==============================] - 23s 29ms/step - loss: 0.2604 - accuracy: 0.9090\n",
            "Epoch 96/250\n",
            "782/782 [==============================] - 23s 29ms/step - loss: 0.2641 - accuracy: 0.9086\n",
            "Epoch 97/250\n",
            "782/782 [==============================] - 23s 29ms/step - loss: 0.2579 - accuracy: 0.9096\n",
            "Epoch 98/250\n",
            "782/782 [==============================] - 23s 29ms/step - loss: 0.2589 - accuracy: 0.9086\n",
            "Epoch 99/250\n",
            "782/782 [==============================] - 23s 29ms/step - loss: 0.2585 - accuracy: 0.9072\n",
            "Epoch 100/250\n",
            "782/782 [==============================] - 23s 29ms/step - loss: 0.2591 - accuracy: 0.9091\n",
            "Epoch 101/250\n",
            "782/782 [==============================] - 23s 29ms/step - loss: 0.2530 - accuracy: 0.9103\n",
            "Epoch 102/250\n",
            "782/782 [==============================] - 23s 29ms/step - loss: 0.2619 - accuracy: 0.9089\n",
            "Epoch 103/250\n",
            "782/782 [==============================] - 23s 29ms/step - loss: 0.2552 - accuracy: 0.9103\n",
            "Epoch 104/250\n",
            "782/782 [==============================] - 23s 29ms/step - loss: 0.2495 - accuracy: 0.9118\n",
            "Epoch 105/250\n",
            "782/782 [==============================] - 23s 29ms/step - loss: 0.2536 - accuracy: 0.9110\n",
            "Epoch 106/250\n",
            "782/782 [==============================] - 23s 30ms/step - loss: 0.2530 - accuracy: 0.9118\n",
            "Epoch 107/250\n",
            "782/782 [==============================] - 23s 29ms/step - loss: 0.2511 - accuracy: 0.9129\n",
            "Epoch 108/250\n",
            "782/782 [==============================] - 23s 29ms/step - loss: 0.2483 - accuracy: 0.9127\n",
            "Epoch 109/250\n",
            "782/782 [==============================] - 23s 30ms/step - loss: 0.2505 - accuracy: 0.9124\n",
            "Epoch 110/250\n",
            "782/782 [==============================] - 23s 29ms/step - loss: 0.2508 - accuracy: 0.9121\n",
            "Epoch 111/250\n",
            "782/782 [==============================] - 23s 30ms/step - loss: 0.2473 - accuracy: 0.9126\n",
            "Epoch 112/250\n",
            "782/782 [==============================] - 23s 29ms/step - loss: 0.2461 - accuracy: 0.9144\n",
            "Epoch 113/250\n",
            "782/782 [==============================] - 23s 29ms/step - loss: 0.2489 - accuracy: 0.9126\n",
            "Epoch 114/250\n",
            "782/782 [==============================] - 23s 30ms/step - loss: 0.2438 - accuracy: 0.9138\n",
            "Epoch 115/250\n",
            "782/782 [==============================] - 23s 30ms/step - loss: 0.2477 - accuracy: 0.9140\n",
            "Epoch 116/250\n",
            "782/782 [==============================] - 23s 29ms/step - loss: 0.2438 - accuracy: 0.9141\n",
            "Epoch 117/250\n",
            "782/782 [==============================] - 23s 29ms/step - loss: 0.2426 - accuracy: 0.9154\n",
            "Epoch 118/250\n",
            "782/782 [==============================] - 23s 29ms/step - loss: 0.2425 - accuracy: 0.9133\n",
            "Epoch 119/250\n",
            "782/782 [==============================] - 23s 30ms/step - loss: 0.2455 - accuracy: 0.9147\n",
            "Epoch 120/250\n",
            "782/782 [==============================] - 23s 29ms/step - loss: 0.2409 - accuracy: 0.9151\n",
            "Epoch 121/250\n",
            "782/782 [==============================] - 23s 30ms/step - loss: 0.2420 - accuracy: 0.9150\n",
            "Epoch 122/250\n",
            "782/782 [==============================] - 23s 29ms/step - loss: 0.2429 - accuracy: 0.9134\n",
            "Epoch 123/250\n",
            "782/782 [==============================] - 23s 29ms/step - loss: 0.2367 - accuracy: 0.9167\n",
            "Epoch 124/250\n",
            "782/782 [==============================] - 23s 30ms/step - loss: 0.2404 - accuracy: 0.9155\n",
            "Epoch 125/250\n",
            "782/782 [==============================] - 23s 29ms/step - loss: 0.2409 - accuracy: 0.9156\n",
            "Epoch 126/250\n",
            "782/782 [==============================] - 23s 29ms/step - loss: 0.2400 - accuracy: 0.9159\n",
            "Epoch 127/250\n",
            "782/782 [==============================] - 23s 29ms/step - loss: 0.2403 - accuracy: 0.9153\n",
            "Epoch 128/250\n",
            "782/782 [==============================] - 23s 30ms/step - loss: 0.2385 - accuracy: 0.9158\n",
            "Epoch 129/250\n",
            "782/782 [==============================] - 23s 29ms/step - loss: 0.2402 - accuracy: 0.9159\n",
            "Epoch 130/250\n",
            "782/782 [==============================] - 23s 29ms/step - loss: 0.2366 - accuracy: 0.9174\n",
            "Epoch 131/250\n",
            "782/782 [==============================] - 23s 29ms/step - loss: 0.2357 - accuracy: 0.9173\n",
            "Epoch 132/250\n",
            "782/782 [==============================] - 23s 29ms/step - loss: 0.2359 - accuracy: 0.9168\n",
            "Epoch 133/250\n",
            "782/782 [==============================] - 23s 30ms/step - loss: 0.2376 - accuracy: 0.9168\n",
            "Epoch 134/250\n",
            "782/782 [==============================] - 23s 30ms/step - loss: 0.2338 - accuracy: 0.9185\n",
            "Epoch 135/250\n",
            "782/782 [==============================] - 23s 30ms/step - loss: 0.2329 - accuracy: 0.9181\n",
            "Epoch 136/250\n",
            "782/782 [==============================] - 23s 29ms/step - loss: 0.2357 - accuracy: 0.9170\n",
            "Epoch 137/250\n",
            "782/782 [==============================] - 23s 29ms/step - loss: 0.2319 - accuracy: 0.9187\n",
            "Epoch 138/250\n",
            "782/782 [==============================] - 23s 29ms/step - loss: 0.2318 - accuracy: 0.9189\n",
            "Epoch 139/250\n",
            "782/782 [==============================] - 23s 29ms/step - loss: 0.2268 - accuracy: 0.9193\n",
            "Epoch 140/250\n",
            "782/782 [==============================] - 23s 30ms/step - loss: 0.2355 - accuracy: 0.9175\n",
            "Epoch 141/250\n",
            "782/782 [==============================] - 23s 30ms/step - loss: 0.2299 - accuracy: 0.9191\n",
            "Epoch 142/250\n",
            "782/782 [==============================] - 24s 30ms/step - loss: 0.2256 - accuracy: 0.9201\n",
            "Epoch 143/250\n",
            "782/782 [==============================] - 23s 29ms/step - loss: 0.2308 - accuracy: 0.9184\n",
            "Epoch 144/250\n",
            "782/782 [==============================] - 23s 29ms/step - loss: 0.2254 - accuracy: 0.9217\n",
            "Epoch 145/250\n",
            "782/782 [==============================] - 23s 30ms/step - loss: 0.2303 - accuracy: 0.9186\n",
            "Epoch 146/250\n",
            "782/782 [==============================] - 23s 30ms/step - loss: 0.2320 - accuracy: 0.9192\n",
            "Epoch 147/250\n",
            "782/782 [==============================] - 23s 29ms/step - loss: 0.2278 - accuracy: 0.9200\n",
            "Epoch 148/250\n",
            "782/782 [==============================] - 23s 30ms/step - loss: 0.2249 - accuracy: 0.9205\n",
            "Epoch 149/250\n",
            "782/782 [==============================] - 23s 30ms/step - loss: 0.2271 - accuracy: 0.9217\n",
            "Epoch 150/250\n",
            "782/782 [==============================] - 23s 30ms/step - loss: 0.2262 - accuracy: 0.9211\n",
            "Epoch 151/250\n",
            "782/782 [==============================] - 23s 30ms/step - loss: 0.2220 - accuracy: 0.9219\n",
            "Epoch 152/250\n",
            "782/782 [==============================] - 23s 30ms/step - loss: 0.2248 - accuracy: 0.9210\n",
            "Epoch 153/250\n",
            "782/782 [==============================] - 23s 30ms/step - loss: 0.2207 - accuracy: 0.9213\n",
            "Epoch 154/250\n",
            "782/782 [==============================] - 23s 30ms/step - loss: 0.2288 - accuracy: 0.9197\n",
            "Epoch 155/250\n",
            "782/782 [==============================] - 23s 30ms/step - loss: 0.2207 - accuracy: 0.9233\n",
            "Epoch 156/250\n",
            "782/782 [==============================] - 23s 30ms/step - loss: 0.2201 - accuracy: 0.9215\n",
            "Epoch 157/250\n",
            "782/782 [==============================] - 23s 30ms/step - loss: 0.2244 - accuracy: 0.9215\n",
            "Epoch 158/250\n",
            "782/782 [==============================] - 24s 30ms/step - loss: 0.2206 - accuracy: 0.9218\n",
            "Epoch 159/250\n",
            "782/782 [==============================] - 24s 30ms/step - loss: 0.2231 - accuracy: 0.9220\n",
            "Epoch 160/250\n",
            "782/782 [==============================] - 24s 30ms/step - loss: 0.2214 - accuracy: 0.9214\n",
            "Epoch 161/250\n",
            "782/782 [==============================] - 24s 30ms/step - loss: 0.2238 - accuracy: 0.9223\n",
            "Epoch 162/250\n",
            "782/782 [==============================] - 23s 30ms/step - loss: 0.2198 - accuracy: 0.9234\n",
            "Epoch 163/250\n",
            "782/782 [==============================] - 23s 30ms/step - loss: 0.2228 - accuracy: 0.9210\n",
            "Epoch 164/250\n",
            "782/782 [==============================] - 23s 30ms/step - loss: 0.2167 - accuracy: 0.9242\n",
            "Epoch 165/250\n",
            "782/782 [==============================] - 23s 30ms/step - loss: 0.2174 - accuracy: 0.9239\n",
            "Epoch 166/250\n",
            "782/782 [==============================] - 23s 30ms/step - loss: 0.2219 - accuracy: 0.9223\n",
            "Epoch 167/250\n",
            "782/782 [==============================] - 23s 30ms/step - loss: 0.2201 - accuracy: 0.9241\n",
            "Epoch 168/250\n",
            "782/782 [==============================] - 23s 30ms/step - loss: 0.2238 - accuracy: 0.9222\n",
            "Epoch 169/250\n",
            "782/782 [==============================] - 24s 30ms/step - loss: 0.2170 - accuracy: 0.9235\n",
            "Epoch 170/250\n",
            "782/782 [==============================] - 24s 30ms/step - loss: 0.2192 - accuracy: 0.9220\n",
            "Epoch 171/250\n",
            "782/782 [==============================] - 24s 30ms/step - loss: 0.2152 - accuracy: 0.9240\n",
            "Epoch 172/250\n",
            "782/782 [==============================] - 24s 30ms/step - loss: 0.2143 - accuracy: 0.9250\n",
            "Epoch 173/250\n",
            "782/782 [==============================] - 24s 31ms/step - loss: 0.2179 - accuracy: 0.9227\n",
            "Epoch 174/250\n",
            "782/782 [==============================] - 24s 30ms/step - loss: 0.2137 - accuracy: 0.9248\n",
            "Epoch 175/250\n",
            "782/782 [==============================] - 24s 30ms/step - loss: 0.2140 - accuracy: 0.9240\n",
            "Epoch 176/250\n",
            "782/782 [==============================] - 24s 31ms/step - loss: 0.2140 - accuracy: 0.9245\n",
            "Epoch 177/250\n",
            "782/782 [==============================] - 24s 30ms/step - loss: 0.2136 - accuracy: 0.9252\n",
            "Epoch 178/250\n",
            "782/782 [==============================] - 24s 30ms/step - loss: 0.2163 - accuracy: 0.9244\n",
            "Epoch 179/250\n",
            "782/782 [==============================] - 24s 31ms/step - loss: 0.2160 - accuracy: 0.9232\n",
            "Epoch 180/250\n",
            "782/782 [==============================] - 24s 31ms/step - loss: 0.2112 - accuracy: 0.9260\n",
            "Epoch 181/250\n",
            "782/782 [==============================] - 24s 30ms/step - loss: 0.2171 - accuracy: 0.9236\n",
            "Epoch 182/250\n",
            "782/782 [==============================] - 23s 30ms/step - loss: 0.2120 - accuracy: 0.9253\n",
            "Epoch 183/250\n",
            "782/782 [==============================] - 23s 30ms/step - loss: 0.2119 - accuracy: 0.9261\n",
            "Epoch 184/250\n",
            "782/782 [==============================] - 23s 30ms/step - loss: 0.2098 - accuracy: 0.9255\n",
            "Epoch 185/250\n",
            "782/782 [==============================] - 23s 30ms/step - loss: 0.2147 - accuracy: 0.9243\n",
            "Epoch 186/250\n",
            "782/782 [==============================] - 24s 30ms/step - loss: 0.2159 - accuracy: 0.9235\n",
            "Epoch 187/250\n",
            "782/782 [==============================] - 23s 30ms/step - loss: 0.2093 - accuracy: 0.9254\n",
            "Epoch 188/250\n",
            "782/782 [==============================] - 23s 30ms/step - loss: 0.2067 - accuracy: 0.9281\n",
            "Epoch 189/250\n",
            "782/782 [==============================] - 23s 30ms/step - loss: 0.2122 - accuracy: 0.9255\n",
            "Epoch 190/250\n",
            "782/782 [==============================] - 24s 30ms/step - loss: 0.2070 - accuracy: 0.9268\n",
            "Epoch 191/250\n",
            "782/782 [==============================] - 23s 30ms/step - loss: 0.2059 - accuracy: 0.9273\n",
            "Epoch 192/250\n",
            "782/782 [==============================] - 23s 29ms/step - loss: 0.2087 - accuracy: 0.9262\n",
            "Epoch 193/250\n",
            "782/782 [==============================] - 23s 30ms/step - loss: 0.2091 - accuracy: 0.9261\n",
            "Epoch 194/250\n",
            "782/782 [==============================] - 23s 29ms/step - loss: 0.2005 - accuracy: 0.9290\n",
            "Epoch 195/250\n",
            "782/782 [==============================] - 23s 29ms/step - loss: 0.2073 - accuracy: 0.9275\n",
            "Epoch 196/250\n",
            "782/782 [==============================] - 23s 29ms/step - loss: 0.2038 - accuracy: 0.9257\n",
            "Epoch 197/250\n",
            "782/782 [==============================] - 23s 29ms/step - loss: 0.2117 - accuracy: 0.9259\n",
            "Epoch 198/250\n",
            "782/782 [==============================] - 23s 29ms/step - loss: 0.2111 - accuracy: 0.9260\n",
            "Epoch 199/250\n",
            "782/782 [==============================] - 23s 30ms/step - loss: 0.2020 - accuracy: 0.9292\n",
            "Epoch 200/250\n",
            "782/782 [==============================] - 23s 29ms/step - loss: 0.2043 - accuracy: 0.9289\n",
            "Epoch 201/250\n",
            "782/782 [==============================] - 23s 29ms/step - loss: 0.2057 - accuracy: 0.9274\n",
            "Epoch 202/250\n",
            "782/782 [==============================] - 23s 29ms/step - loss: 0.2039 - accuracy: 0.9267\n",
            "Epoch 203/250\n",
            "782/782 [==============================] - 23s 29ms/step - loss: 0.2060 - accuracy: 0.9272\n",
            "Epoch 204/250\n",
            "782/782 [==============================] - 23s 30ms/step - loss: 0.2006 - accuracy: 0.9295\n",
            "Epoch 205/250\n",
            "782/782 [==============================] - 23s 30ms/step - loss: 0.2036 - accuracy: 0.9284\n",
            "Epoch 206/250\n",
            "782/782 [==============================] - 23s 29ms/step - loss: 0.2050 - accuracy: 0.9281\n",
            "Epoch 207/250\n",
            "782/782 [==============================] - 23s 30ms/step - loss: 0.2016 - accuracy: 0.9300\n",
            "Epoch 208/250\n",
            "782/782 [==============================] - 23s 29ms/step - loss: 0.2018 - accuracy: 0.9282\n",
            "Epoch 209/250\n",
            "782/782 [==============================] - 23s 29ms/step - loss: 0.2022 - accuracy: 0.9288\n",
            "Epoch 210/250\n",
            "782/782 [==============================] - 23s 29ms/step - loss: 0.2041 - accuracy: 0.9284\n",
            "Epoch 211/250\n",
            "782/782 [==============================] - 23s 29ms/step - loss: 0.2043 - accuracy: 0.9274\n",
            "Epoch 212/250\n",
            "782/782 [==============================] - 23s 29ms/step - loss: 0.2032 - accuracy: 0.9274\n",
            "Epoch 213/250\n",
            "782/782 [==============================] - 23s 29ms/step - loss: 0.1979 - accuracy: 0.9298\n",
            "Epoch 214/250\n",
            "782/782 [==============================] - 23s 29ms/step - loss: 0.1960 - accuracy: 0.9313\n",
            "Epoch 215/250\n",
            "782/782 [==============================] - 23s 29ms/step - loss: 0.1989 - accuracy: 0.9309\n",
            "Epoch 216/250\n",
            "782/782 [==============================] - 23s 29ms/step - loss: 0.1987 - accuracy: 0.9294\n",
            "Epoch 217/250\n",
            "782/782 [==============================] - 23s 29ms/step - loss: 0.1985 - accuracy: 0.9302\n",
            "Epoch 218/250\n",
            "782/782 [==============================] - 23s 29ms/step - loss: 0.2033 - accuracy: 0.9285\n",
            "Epoch 219/250\n",
            "782/782 [==============================] - 23s 29ms/step - loss: 0.1958 - accuracy: 0.9296\n",
            "Epoch 220/250\n",
            "782/782 [==============================] - 23s 29ms/step - loss: 0.2023 - accuracy: 0.9290\n",
            "Epoch 221/250\n",
            "782/782 [==============================] - 23s 29ms/step - loss: 0.2001 - accuracy: 0.9292\n",
            "Epoch 222/250\n",
            "782/782 [==============================] - 23s 29ms/step - loss: 0.1976 - accuracy: 0.9317\n",
            "Epoch 223/250\n",
            "782/782 [==============================] - 23s 30ms/step - loss: 0.1993 - accuracy: 0.9296\n",
            "Epoch 224/250\n",
            "782/782 [==============================] - 23s 29ms/step - loss: 0.1986 - accuracy: 0.9300\n",
            "Epoch 225/250\n",
            "782/782 [==============================] - 23s 30ms/step - loss: 0.1994 - accuracy: 0.9310\n",
            "Epoch 226/250\n",
            "782/782 [==============================] - 23s 30ms/step - loss: 0.1923 - accuracy: 0.9316\n",
            "Epoch 227/250\n",
            "782/782 [==============================] - 23s 29ms/step - loss: 0.1971 - accuracy: 0.9309\n",
            "Epoch 228/250\n",
            "782/782 [==============================] - 23s 30ms/step - loss: 0.1983 - accuracy: 0.9306\n",
            "Epoch 229/250\n",
            "782/782 [==============================] - 23s 30ms/step - loss: 0.1958 - accuracy: 0.9312\n",
            "Epoch 230/250\n",
            "782/782 [==============================] - 23s 29ms/step - loss: 0.1962 - accuracy: 0.9312\n",
            "Epoch 231/250\n",
            "782/782 [==============================] - 23s 29ms/step - loss: 0.1937 - accuracy: 0.9324\n",
            "Epoch 232/250\n",
            "782/782 [==============================] - 23s 29ms/step - loss: 0.1947 - accuracy: 0.9318\n",
            "Epoch 233/250\n",
            "782/782 [==============================] - 23s 29ms/step - loss: 0.1954 - accuracy: 0.9315\n",
            "Epoch 234/250\n",
            "782/782 [==============================] - 23s 29ms/step - loss: 0.1934 - accuracy: 0.9317\n",
            "Epoch 235/250\n",
            "782/782 [==============================] - 23s 29ms/step - loss: 0.1951 - accuracy: 0.9316\n",
            "Epoch 236/250\n",
            "782/782 [==============================] - 23s 30ms/step - loss: 0.1959 - accuracy: 0.9311\n",
            "Epoch 237/250\n",
            "782/782 [==============================] - 23s 29ms/step - loss: 0.1964 - accuracy: 0.9307\n",
            "Epoch 238/250\n",
            "782/782 [==============================] - 23s 29ms/step - loss: 0.1964 - accuracy: 0.9311\n",
            "Epoch 239/250\n",
            "782/782 [==============================] - 23s 30ms/step - loss: 0.1952 - accuracy: 0.9324\n",
            "Epoch 240/250\n",
            "782/782 [==============================] - 23s 30ms/step - loss: 0.1986 - accuracy: 0.9310\n",
            "Epoch 241/250\n",
            "782/782 [==============================] - 23s 30ms/step - loss: 0.1920 - accuracy: 0.9329\n",
            "Epoch 242/250\n",
            "782/782 [==============================] - 23s 30ms/step - loss: 0.1942 - accuracy: 0.9306\n",
            "Epoch 243/250\n",
            "782/782 [==============================] - 23s 30ms/step - loss: 0.1889 - accuracy: 0.9332\n",
            "Epoch 244/250\n",
            "782/782 [==============================] - 23s 30ms/step - loss: 0.1927 - accuracy: 0.9326\n",
            "Epoch 245/250\n",
            "782/782 [==============================] - 23s 30ms/step - loss: 0.1906 - accuracy: 0.9331\n",
            "Epoch 246/250\n",
            "782/782 [==============================] - 24s 30ms/step - loss: 0.1921 - accuracy: 0.9324\n",
            "Epoch 247/250\n",
            "782/782 [==============================] - 23s 30ms/step - loss: 0.1943 - accuracy: 0.9326\n",
            "Epoch 248/250\n",
            "782/782 [==============================] - 23s 30ms/step - loss: 0.1894 - accuracy: 0.9331\n",
            "Epoch 249/250\n",
            "782/782 [==============================] - 24s 30ms/step - loss: 0.1940 - accuracy: 0.9319\n",
            "Epoch 250/250\n",
            "782/782 [==============================] - 23s 30ms/step - loss: 0.1914 - accuracy: 0.9315\n"
          ],
          "name": "stdout"
        },
        {
          "output_type": "execute_result",
          "data": {
            "text/plain": [
              "<tensorflow.python.keras.callbacks.History at 0x7fbe30269a58>"
            ]
          },
          "metadata": {
            "tags": []
          },
          "execution_count": 38
        }
      ]
    },
    {
      "cell_type": "code",
      "metadata": {
        "id": "YKEtE78ocly3",
        "colab_type": "code",
        "colab": {
          "base_uri": "https://localhost:8080/",
          "height": 35
        },
        "outputId": "96883298-bf24-4132-dd1b-33391961be42"
      },
      "source": [
        "score = cnn_model.evaluate(X_test, y_test)"
      ],
      "execution_count": 39,
      "outputs": [
        {
          "output_type": "stream",
          "text": [
            "313/313 [==============================] - 1s 3ms/step - loss: 0.3222 - accuracy: 0.9070\n"
          ],
          "name": "stdout"
        }
      ]
    },
    {
      "cell_type": "code",
      "metadata": {
        "id": "WKPxDBPAcl2N",
        "colab_type": "code",
        "colab": {
          "base_uri": "https://localhost:8080/",
          "height": 35
        },
        "outputId": "a7cf6168-ffa0-48da-d5c9-d3e749760587"
      },
      "source": [
        "print('Test accuracy', score[1])"
      ],
      "execution_count": 40,
      "outputs": [
        {
          "output_type": "stream",
          "text": [
            "Test accuracy 0.9070000052452087\n"
          ],
          "name": "stdout"
        }
      ]
    },
    {
      "cell_type": "code",
      "metadata": {
        "id": "WNb9wjOEcl5B",
        "colab_type": "code",
        "colab": {
          "base_uri": "https://localhost:8080/",
          "height": 35
        },
        "outputId": "013f17f8-01df-468c-bc08-46f64fc8e2bf"
      },
      "source": [
        "score_test= cnn_model.evaluate(X_train, y_train)"
      ],
      "execution_count": 41,
      "outputs": [
        {
          "output_type": "stream",
          "text": [
            "1563/1563 [==============================] - 5s 3ms/step - loss: 0.0455 - accuracy: 0.9847\n"
          ],
          "name": "stdout"
        }
      ]
    },
    {
      "cell_type": "code",
      "metadata": {
        "id": "sG_qqZH_G4P8",
        "colab_type": "code",
        "colab": {
          "base_uri": "https://localhost:8080/",
          "height": 35
        },
        "outputId": "90b8f0d8-3fce-4ba4-b818-d8b7d59b59be"
      },
      "source": [
        "print('Train accuracy', score_test[1])"
      ],
      "execution_count": 42,
      "outputs": [
        {
          "output_type": "stream",
          "text": [
            "Train accuracy 0.98471999168396\n"
          ],
          "name": "stdout"
        }
      ]
    },
    {
      "cell_type": "code",
      "metadata": {
        "id": "UkL4fT7yhPmR",
        "colab_type": "code",
        "colab": {}
      },
      "source": [
        "import os.path"
      ],
      "execution_count": 44,
      "outputs": []
    },
    {
      "cell_type": "code",
      "metadata": {
        "id": "X5g151tHPk-X",
        "colab_type": "code",
        "colab": {
          "base_uri": "https://localhost:8080/",
          "height": 253
        },
        "outputId": "c6a593ff-890e-474f-87f0-53b0e2f2056f"
      },
      "source": [
        "MODEL_DIR = '/content/drive/My Drive/Colab Notebooks/cifar model'\n",
        "version = 1\n",
        "export_path = os.path.join(MODEL_DIR, str(version))\n",
        "print('export_path = {}\\n'.format(export_path))\n",
        "\n",
        "tf.keras.models.save_model(\n",
        "    cnn_model,\n",
        "    export_path,\n",
        "    overwrite=True,\n",
        "    include_optimizer=True,\n",
        "    save_format=None,\n",
        "    signatures=None,\n",
        "    options=None\n",
        ")\n",
        "\n",
        "print('\\nSaved model:')\n",
        "!ls -l {export_path}"
      ],
      "execution_count": 46,
      "outputs": [
        {
          "output_type": "stream",
          "text": [
            "export_path = /content/drive/My Drive/Colab Notebooks/cifar model/1\n",
            "\n",
            "WARNING:tensorflow:From /usr/local/lib/python3.6/dist-packages/tensorflow/python/ops/resource_variable_ops.py:1817: calling BaseResourceVariable.__init__ (from tensorflow.python.ops.resource_variable_ops) with constraint is deprecated and will be removed in a future version.\n",
            "Instructions for updating:\n",
            "If using Keras pass *_constraint arguments to layers.\n",
            "INFO:tensorflow:Assets written to: /content/drive/My Drive/Colab Notebooks/cifar model/1/assets\n",
            "\n",
            "Saved model:\n",
            "ls: cannot access '/content/drive/My': No such file or directory\n",
            "ls: cannot access 'Drive/Colab': No such file or directory\n",
            "ls: cannot access 'Notebooks/cifar': No such file or directory\n",
            "ls: cannot access 'model/1': No such file or directory\n"
          ],
          "name": "stdout"
        }
      ]
    },
    {
      "cell_type": "code",
      "metadata": {
        "id": "60JNtP2_hY7j",
        "colab_type": "code",
        "colab": {
          "base_uri": "https://localhost:8080/",
          "height": 53
        },
        "outputId": "04b9accc-9bc2-4f6e-ee36-3b9b267730af"
      },
      "source": [
        "!saved_model_cli show --dir {export_path} --all"
      ],
      "execution_count": 47,
      "outputs": [
        {
          "output_type": "stream",
          "text": [
            "usage: saved_model_cli [-h] [-v] {show,run,scan,convert,aot_compile_cpu} ...\n",
            "saved_model_cli: error: unrecognized arguments: Drive/Colab Notebooks/cifar model/1\n"
          ],
          "name": "stdout"
        }
      ]
    },
    {
      "cell_type": "code",
      "metadata": {
        "id": "vMhx2UF1J4LB",
        "colab_type": "code",
        "colab": {
          "base_uri": "https://localhost:8080/",
          "height": 469
        },
        "outputId": "8adb589e-0593-45f6-9ae3-ec956815294e"
      },
      "source": [
        "# This is the same as you would do from your command line, but without the [arch=amd64], and no sudo\n",
        "# You would instead do:\n",
        "# echo \"deb [arch=amd64] http://storage.googleapis.com/tensorflow-serving-apt stable tensorflow-model-server tensorflow-model-server-universal\" | sudo tee /etc/apt/sources.list.d/tensorflow-serving.list && \\\n",
        "# curl https://storage.googleapis.com/tensorflow-serving-apt/tensorflow-serving.release.pub.gpg | sudo apt-key add -\n",
        "\n",
        "!echo \"deb http://storage.googleapis.com/tensorflow-serving-apt stable tensorflow-model-server tensorflow-model-server-universal\" | tee /etc/apt/sources.list.d/tensorflow-serving.list && \\\n",
        "curl https://storage.googleapis.com/tensorflow-serving-apt/tensorflow-serving.release.pub.gpg | apt-key add -\n",
        "!apt update"
      ],
      "execution_count": 54,
      "outputs": [
        {
          "output_type": "stream",
          "text": [
            "deb http://storage.googleapis.com/tensorflow-serving-apt stable tensorflow-model-server tensorflow-model-server-universal\n",
            "  % Total    % Received % Xferd  Average Speed   Time    Time     Time  Current\n",
            "                                 Dload  Upload   Total   Spent    Left  Speed\n",
            "\r  0     0    0     0    0     0      0      0 --:--:-- --:--:-- --:--:--     0\r100  2943  100  2943    0     0   151k      0 --:--:-- --:--:-- --:--:--  151k\n",
            "OK\n",
            "Get:1 http://storage.googleapis.com/tensorflow-serving-apt stable InRelease [3,012 B]\n",
            "Ign:2 https://developer.download.nvidia.com/compute/cuda/repos/ubuntu1804/x86_64  InRelease\n",
            "Err:1 http://storage.googleapis.com/tensorflow-serving-apt stable InRelease\n",
            "  The following signatures were invalid: EXPKEYSIG 544B7F63BF9E4D5F Tensorflow Serving Developer (Tensorflow Serving APT repository key) <tensorflow-serving-dev@googlegroups.com>\n",
            "Hit:3 http://ppa.launchpad.net/graphics-drivers/ppa/ubuntu bionic InRelease\n",
            "Hit:4 http://archive.ubuntu.com/ubuntu bionic InRelease\n",
            "Get:5 http://security.ubuntu.com/ubuntu bionic-security InRelease [88.7 kB]\n",
            "Ign:6 https://developer.download.nvidia.com/compute/machine-learning/repos/ubuntu1804/x86_64  InRelease\n",
            "Hit:7 https://developer.download.nvidia.com/compute/cuda/repos/ubuntu1804/x86_64  Release\n",
            "Hit:8 https://developer.download.nvidia.com/compute/machine-learning/repos/ubuntu1804/x86_64  Release\n",
            "Get:9 http://archive.ubuntu.com/ubuntu bionic-updates InRelease [88.7 kB]\n",
            "Hit:10 http://ppa.launchpad.net/marutter/c2d4u3.5/ubuntu bionic InRelease\n",
            "Hit:11 https://cloud.r-project.org/bin/linux/ubuntu bionic-cran35/ InRelease\n",
            "Get:12 http://archive.ubuntu.com/ubuntu bionic-backports InRelease [74.6 kB]\n",
            "Reading package lists... Done\n",
            "W: GPG error: http://storage.googleapis.com/tensorflow-serving-apt stable InRelease: The following signatures were invalid: EXPKEYSIG 544B7F63BF9E4D5F Tensorflow Serving Developer (Tensorflow Serving APT repository key) <tensorflow-serving-dev@googlegroups.com>\n",
            "E: The repository 'http://storage.googleapis.com/tensorflow-serving-apt stable InRelease' is not signed.\n",
            "N: Updating from such a repository can't be done securely, and is therefore disabled by default.\n",
            "N: See apt-secure(8) manpage for repository creation and user configuration details.\n"
          ],
          "name": "stdout"
        }
      ]
    },
    {
      "cell_type": "code",
      "metadata": {
        "id": "3H8UiDM0jzpH",
        "colab_type": "code",
        "colab": {
          "base_uri": "https://localhost:8080/",
          "height": 89
        },
        "outputId": "aab6b50e-8ab7-4059-e0fd-9adcff12e959"
      },
      "source": [
        "!apt-get install tensorflow-model-server"
      ],
      "execution_count": 56,
      "outputs": [
        {
          "output_type": "stream",
          "text": [
            "Reading package lists... Done\n",
            "Building dependency tree       \n",
            "Reading state information... Done\n",
            "E: Unable to locate package tensorflow-model-server\n"
          ],
          "name": "stdout"
        }
      ]
    },
    {
      "cell_type": "code",
      "metadata": {
        "id": "RPBRe4iqj53h",
        "colab_type": "code",
        "colab": {}
      },
      "source": [
        ""
      ],
      "execution_count": null,
      "outputs": []
    },
    {
      "cell_type": "code",
      "metadata": {
        "id": "eNW3AAdoj6ZZ",
        "colab_type": "code",
        "colab": {}
      },
      "source": [
        ""
      ],
      "execution_count": null,
      "outputs": []
    },
    {
      "cell_type": "code",
      "metadata": {
        "id": "sy80uRZIj6da",
        "colab_type": "code",
        "colab": {}
      },
      "source": [
        ""
      ],
      "execution_count": null,
      "outputs": []
    },
    {
      "cell_type": "code",
      "metadata": {
        "id": "SzDU3_8cj6gw",
        "colab_type": "code",
        "colab": {}
      },
      "source": [
        ""
      ],
      "execution_count": null,
      "outputs": []
    },
    {
      "cell_type": "code",
      "metadata": {
        "id": "sBLPM6kIj6l8",
        "colab_type": "code",
        "colab": {}
      },
      "source": [
        ""
      ],
      "execution_count": null,
      "outputs": []
    }
  ]
}