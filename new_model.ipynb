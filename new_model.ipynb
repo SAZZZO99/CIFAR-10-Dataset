{
  "nbformat": 4,
  "nbformat_minor": 0,
  "metadata": {
    "colab": {
      "name": "new model.ipynb",
      "provenance": [],
      "authorship_tag": "ABX9TyNl9Zgpy2AYmCD0UDPOKgrg"
    },
    "kernelspec": {
      "name": "python3",
      "display_name": "Python 3"
    },
    "accelerator": "GPU"
  },
  "cells": [
    {
      "cell_type": "code",
      "metadata": {
        "id": "qyezxU6-b1Ip",
        "colab_type": "code",
        "colab": {
          "base_uri": "https://localhost:8080/",
          "height": 53
        },
        "outputId": "f64534ad-64ad-4c4f-bf19-de27ccc25d4a"
      },
      "source": [
        "import numpy as np \n",
        "import pandas as pd \n",
        "import matplotlib.pyplot as plt\n",
        "import seaborn"
      ],
      "execution_count": 1,
      "outputs": [
        {
          "output_type": "stream",
          "text": [
            "/usr/local/lib/python3.6/dist-packages/statsmodels/tools/_testing.py:19: FutureWarning: pandas.util.testing is deprecated. Use the functions in the public API at pandas.testing instead.\n",
            "  import pandas.util.testing as tm\n"
          ],
          "name": "stderr"
        }
      ]
    },
    {
      "cell_type": "code",
      "metadata": {
        "id": "nPJ0KTUeb1Lv",
        "colab_type": "code",
        "colab": {
          "base_uri": "https://localhost:8080/",
          "height": 755
        },
        "outputId": "a0b544ad-d184-4cfd-e6d3-b002d36c3f15"
      },
      "source": [
        "!pip install tensorflow-gpu\n"
      ],
      "execution_count": 2,
      "outputs": [
        {
          "output_type": "stream",
          "text": [
            "Collecting tensorflow-gpu\n",
            "\u001b[?25l  Downloading https://files.pythonhosted.org/packages/31/bf/c28971266ca854a64f4b26f07c4112ddd61f30b4d1f18108b954a746f8ea/tensorflow_gpu-2.2.0-cp36-cp36m-manylinux2010_x86_64.whl (516.2MB)\n",
            "\u001b[K     |████████████████████████████████| 516.2MB 33kB/s \n",
            "\u001b[?25hRequirement already satisfied: tensorboard<2.3.0,>=2.2.0 in /usr/local/lib/python3.6/dist-packages (from tensorflow-gpu) (2.2.2)\n",
            "Requirement already satisfied: wheel>=0.26; python_version >= \"3\" in /usr/local/lib/python3.6/dist-packages (from tensorflow-gpu) (0.34.2)\n",
            "Requirement already satisfied: absl-py>=0.7.0 in /usr/local/lib/python3.6/dist-packages (from tensorflow-gpu) (0.9.0)\n",
            "Requirement already satisfied: astunparse==1.6.3 in /usr/local/lib/python3.6/dist-packages (from tensorflow-gpu) (1.6.3)\n",
            "Requirement already satisfied: keras-preprocessing>=1.1.0 in /usr/local/lib/python3.6/dist-packages (from tensorflow-gpu) (1.1.2)\n",
            "Requirement already satisfied: gast==0.3.3 in /usr/local/lib/python3.6/dist-packages (from tensorflow-gpu) (0.3.3)\n",
            "Requirement already satisfied: h5py<2.11.0,>=2.10.0 in /usr/local/lib/python3.6/dist-packages (from tensorflow-gpu) (2.10.0)\n",
            "Requirement already satisfied: protobuf>=3.8.0 in /usr/local/lib/python3.6/dist-packages (from tensorflow-gpu) (3.12.2)\n",
            "Requirement already satisfied: tensorflow-estimator<2.3.0,>=2.2.0 in /usr/local/lib/python3.6/dist-packages (from tensorflow-gpu) (2.2.0)\n",
            "Requirement already satisfied: scipy==1.4.1; python_version >= \"3\" in /usr/local/lib/python3.6/dist-packages (from tensorflow-gpu) (1.4.1)\n",
            "Requirement already satisfied: numpy<2.0,>=1.16.0 in /usr/local/lib/python3.6/dist-packages (from tensorflow-gpu) (1.18.5)\n",
            "Requirement already satisfied: termcolor>=1.1.0 in /usr/local/lib/python3.6/dist-packages (from tensorflow-gpu) (1.1.0)\n",
            "Requirement already satisfied: six>=1.12.0 in /usr/local/lib/python3.6/dist-packages (from tensorflow-gpu) (1.12.0)\n",
            "Requirement already satisfied: grpcio>=1.8.6 in /usr/local/lib/python3.6/dist-packages (from tensorflow-gpu) (1.30.0)\n",
            "Requirement already satisfied: google-pasta>=0.1.8 in /usr/local/lib/python3.6/dist-packages (from tensorflow-gpu) (0.2.0)\n",
            "Requirement already satisfied: opt-einsum>=2.3.2 in /usr/local/lib/python3.6/dist-packages (from tensorflow-gpu) (3.2.1)\n",
            "Requirement already satisfied: wrapt>=1.11.1 in /usr/local/lib/python3.6/dist-packages (from tensorflow-gpu) (1.12.1)\n",
            "Requirement already satisfied: google-auth<2,>=1.6.3 in /usr/local/lib/python3.6/dist-packages (from tensorboard<2.3.0,>=2.2.0->tensorflow-gpu) (1.17.2)\n",
            "Requirement already satisfied: requests<3,>=2.21.0 in /usr/local/lib/python3.6/dist-packages (from tensorboard<2.3.0,>=2.2.0->tensorflow-gpu) (2.23.0)\n",
            "Requirement already satisfied: werkzeug>=0.11.15 in /usr/local/lib/python3.6/dist-packages (from tensorboard<2.3.0,>=2.2.0->tensorflow-gpu) (1.0.1)\n",
            "Requirement already satisfied: google-auth-oauthlib<0.5,>=0.4.1 in /usr/local/lib/python3.6/dist-packages (from tensorboard<2.3.0,>=2.2.0->tensorflow-gpu) (0.4.1)\n",
            "Requirement already satisfied: setuptools>=41.0.0 in /usr/local/lib/python3.6/dist-packages (from tensorboard<2.3.0,>=2.2.0->tensorflow-gpu) (49.1.0)\n",
            "Requirement already satisfied: tensorboard-plugin-wit>=1.6.0 in /usr/local/lib/python3.6/dist-packages (from tensorboard<2.3.0,>=2.2.0->tensorflow-gpu) (1.7.0)\n",
            "Requirement already satisfied: markdown>=2.6.8 in /usr/local/lib/python3.6/dist-packages (from tensorboard<2.3.0,>=2.2.0->tensorflow-gpu) (3.2.2)\n",
            "Requirement already satisfied: pyasn1-modules>=0.2.1 in /usr/local/lib/python3.6/dist-packages (from google-auth<2,>=1.6.3->tensorboard<2.3.0,>=2.2.0->tensorflow-gpu) (0.2.8)\n",
            "Requirement already satisfied: cachetools<5.0,>=2.0.0 in /usr/local/lib/python3.6/dist-packages (from google-auth<2,>=1.6.3->tensorboard<2.3.0,>=2.2.0->tensorflow-gpu) (4.1.1)\n",
            "Requirement already satisfied: rsa<5,>=3.1.4; python_version >= \"3\" in /usr/local/lib/python3.6/dist-packages (from google-auth<2,>=1.6.3->tensorboard<2.3.0,>=2.2.0->tensorflow-gpu) (4.6)\n",
            "Requirement already satisfied: urllib3!=1.25.0,!=1.25.1,<1.26,>=1.21.1 in /usr/local/lib/python3.6/dist-packages (from requests<3,>=2.21.0->tensorboard<2.3.0,>=2.2.0->tensorflow-gpu) (1.24.3)\n",
            "Requirement already satisfied: idna<3,>=2.5 in /usr/local/lib/python3.6/dist-packages (from requests<3,>=2.21.0->tensorboard<2.3.0,>=2.2.0->tensorflow-gpu) (2.10)\n",
            "Requirement already satisfied: chardet<4,>=3.0.2 in /usr/local/lib/python3.6/dist-packages (from requests<3,>=2.21.0->tensorboard<2.3.0,>=2.2.0->tensorflow-gpu) (3.0.4)\n",
            "Requirement already satisfied: certifi>=2017.4.17 in /usr/local/lib/python3.6/dist-packages (from requests<3,>=2.21.0->tensorboard<2.3.0,>=2.2.0->tensorflow-gpu) (2020.6.20)\n",
            "Requirement already satisfied: requests-oauthlib>=0.7.0 in /usr/local/lib/python3.6/dist-packages (from google-auth-oauthlib<0.5,>=0.4.1->tensorboard<2.3.0,>=2.2.0->tensorflow-gpu) (1.3.0)\n",
            "Requirement already satisfied: importlib-metadata; python_version < \"3.8\" in /usr/local/lib/python3.6/dist-packages (from markdown>=2.6.8->tensorboard<2.3.0,>=2.2.0->tensorflow-gpu) (1.7.0)\n",
            "Requirement already satisfied: pyasn1<0.5.0,>=0.4.6 in /usr/local/lib/python3.6/dist-packages (from pyasn1-modules>=0.2.1->google-auth<2,>=1.6.3->tensorboard<2.3.0,>=2.2.0->tensorflow-gpu) (0.4.8)\n",
            "Requirement already satisfied: oauthlib>=3.0.0 in /usr/local/lib/python3.6/dist-packages (from requests-oauthlib>=0.7.0->google-auth-oauthlib<0.5,>=0.4.1->tensorboard<2.3.0,>=2.2.0->tensorflow-gpu) (3.1.0)\n",
            "Requirement already satisfied: zipp>=0.5 in /usr/local/lib/python3.6/dist-packages (from importlib-metadata; python_version < \"3.8\"->markdown>=2.6.8->tensorboard<2.3.0,>=2.2.0->tensorflow-gpu) (3.1.0)\n",
            "Installing collected packages: tensorflow-gpu\n",
            "Successfully installed tensorflow-gpu-2.2.0\n"
          ],
          "name": "stdout"
        }
      ]
    },
    {
      "cell_type": "code",
      "metadata": {
        "id": "mXhX5r5Hb1Oo",
        "colab_type": "code",
        "colab": {
          "base_uri": "https://localhost:8080/",
          "height": 35
        },
        "outputId": "848f69d5-a200-42dc-caac-4c39c5e5f370"
      },
      "source": [
        "from keras.datasets import cifar10"
      ],
      "execution_count": 3,
      "outputs": [
        {
          "output_type": "stream",
          "text": [
            "Using TensorFlow backend.\n"
          ],
          "name": "stderr"
        }
      ]
    },
    {
      "cell_type": "code",
      "metadata": {
        "id": "9X_dSPabb1Rp",
        "colab_type": "code",
        "colab": {
          "base_uri": "https://localhost:8080/",
          "height": 53
        },
        "outputId": "889e41ce-aa23-4192-fc68-6259bffe9240"
      },
      "source": [
        "(X_train, y_train) , (X_test, y_test) = cifar10.load_data()"
      ],
      "execution_count": 4,
      "outputs": [
        {
          "output_type": "stream",
          "text": [
            "Downloading data from https://www.cs.toronto.edu/~kriz/cifar-10-python.tar.gz\n",
            "170500096/170498071 [==============================] - 3s 0us/step\n"
          ],
          "name": "stdout"
        }
      ]
    },
    {
      "cell_type": "code",
      "metadata": {
        "id": "mEP2-H30b1Uj",
        "colab_type": "code",
        "colab": {
          "base_uri": "https://localhost:8080/",
          "height": 89
        },
        "outputId": "0ee01cde-9b74-4a00-df30-7583fd567ad5"
      },
      "source": [
        "print('X_train shape - ',X_train.shape)\n",
        "print('X_test shape - ',X_test.shape)\n",
        "print('y_train shape - ',y_train.shape)\n",
        "print('y_test shape - ',y_test.shape)"
      ],
      "execution_count": 5,
      "outputs": [
        {
          "output_type": "stream",
          "text": [
            "X_train shape -  (50000, 32, 32, 3)\n",
            "X_test shape -  (10000, 32, 32, 3)\n",
            "y_train shape -  (50000, 1)\n",
            "y_test shape -  (10000, 1)\n"
          ],
          "name": "stdout"
        }
      ]
    },
    {
      "cell_type": "code",
      "metadata": {
        "id": "VllkubBib1XQ",
        "colab_type": "code",
        "colab": {}
      },
      "source": [
        "X_train = X_train.astype('float32')\n",
        "X_test = X_test.astype('float32')\n",
        "X_train = X_train/255\n",
        "X_test = X_test/255"
      ],
      "execution_count": 6,
      "outputs": []
    },
    {
      "cell_type": "code",
      "metadata": {
        "id": "ihzb1xXMb1Zy",
        "colab_type": "code",
        "colab": {}
      },
      "source": [
        "import keras\n",
        "y_train = keras.utils.to_categorical(y_train, 10)\n",
        "y_test = keras.utils.to_categorical(y_test, 10)"
      ],
      "execution_count": 7,
      "outputs": []
    },
    {
      "cell_type": "code",
      "metadata": {
        "id": "cWCFNz3-cK4s",
        "colab_type": "code",
        "colab": {
          "base_uri": "https://localhost:8080/",
          "height": 35
        },
        "outputId": "b8e299af-6648-4059-a6d8-0f99b39c37c8"
      },
      "source": [
        "Input_shape = X_train.shape[1:]\n",
        "Input_shape"
      ],
      "execution_count": 8,
      "outputs": [
        {
          "output_type": "execute_result",
          "data": {
            "text/plain": [
              "(32, 32, 3)"
            ]
          },
          "metadata": {
            "tags": []
          },
          "execution_count": 8
        }
      ]
    },
    {
      "cell_type": "code",
      "metadata": {
        "id": "eojuxAoLcK-z",
        "colab_type": "code",
        "colab": {}
      },
      "source": [
        "import keras\n",
        "from keras.models import Sequential\n",
        "from keras.layers import Conv2D,Dense,AveragePooling2D,MaxPooling2D, Flatten, Dropout\n",
        "from keras.optimizers import Adam\n",
        "from keras.callbacks import TensorBoard\n",
        "from keras.layers import BatchNormalization"
      ],
      "execution_count": 9,
      "outputs": []
    },
    {
      "cell_type": "code",
      "metadata": {
        "id": "V7_Aci_hcK7_",
        "colab_type": "code",
        "colab": {}
      },
      "source": [
        "cnn_model = Sequential()\n",
        "cnn_model.add(Conv2D(filters = 32, kernel_size = (3,3), activation = 'relu', kernel_initializer='he_uniform', padding='same',input_shape = Input_shape))\n",
        "cnn_model.add(BatchNormalization())\n",
        "cnn_model.add(Conv2D(filters = 32, kernel_size = (3,3), activation = 'relu', kernel_initializer='he_uniform',padding='same'))\n",
        "cnn_model.add(BatchNormalization())\n",
        "cnn_model.add(MaxPooling2D(2,2))\n",
        "cnn_model.add(Dropout(0.2))\n",
        "\n",
        "cnn_model.add(Conv2D(filters = 64, kernel_size = (3,3), activation = 'relu', kernel_initializer='he_uniform', padding='same',input_shape = Input_shape))\n",
        "cnn_model.add(BatchNormalization())\n",
        "cnn_model.add(Conv2D(filters = 64, kernel_size = (3,3), activation = 'relu', kernel_initializer='he_uniform',padding='same'))\n",
        "cnn_model.add(BatchNormalization())\n",
        "cnn_model.add(MaxPooling2D(2,2))\n",
        "cnn_model.add(Dropout(0.3))\n",
        "\n",
        "\n",
        "cnn_model.add(Conv2D(filters = 128, kernel_size = (3,3), activation = 'relu', kernel_initializer='he_uniform',padding='same'))\n",
        "cnn_model.add(BatchNormalization())\n",
        "cnn_model.add(Conv2D(filters = 128, kernel_size = (3,3), activation = 'relu', kernel_initializer='he_uniform',padding='same'))\n",
        "cnn_model.add(BatchNormalization())\n",
        "cnn_model.add(AveragePooling2D(2,2))\n",
        "cnn_model.add(Dropout(0.4))\n",
        "\n",
        "cnn_model.add(Flatten())\n",
        "\n",
        "cnn_model.add(Dense(units = 1024, activation = 'relu', kernel_initializer='he_uniform'))\n",
        "cnn_model.add(BatchNormalization())\n",
        "cnn_model.add(Dropout(0.5))\n",
        "\n",
        "cnn_model.add(Dense(units = 10, activation = 'softmax'))"
      ],
      "execution_count": 10,
      "outputs": []
    },
    {
      "cell_type": "code",
      "metadata": {
        "id": "QLc0xYhHcK2p",
        "colab_type": "code",
        "colab": {}
      },
      "source": [
        "cnn_model.compile(loss = 'categorical_crossentropy', optimizer = Adam(lr=0.001,beta_1=0.9,beta_2=0.999), metrics = ['accuracy'])"
      ],
      "execution_count": 11,
      "outputs": []
    },
    {
      "cell_type": "code",
      "metadata": {
        "id": "zhc9rItjcKx3",
        "colab_type": "code",
        "colab": {
          "base_uri": "https://localhost:8080/",
          "height": 989
        },
        "outputId": "0d4e4dae-b37c-4794-e1fa-486f90d86267"
      },
      "source": [
        "cnn_model.summary()"
      ],
      "execution_count": 12,
      "outputs": [
        {
          "output_type": "stream",
          "text": [
            "Model: \"sequential_1\"\n",
            "_________________________________________________________________\n",
            "Layer (type)                 Output Shape              Param #   \n",
            "=================================================================\n",
            "conv2d_1 (Conv2D)            (None, 32, 32, 32)        896       \n",
            "_________________________________________________________________\n",
            "batch_normalization_1 (Batch (None, 32, 32, 32)        128       \n",
            "_________________________________________________________________\n",
            "conv2d_2 (Conv2D)            (None, 32, 32, 32)        9248      \n",
            "_________________________________________________________________\n",
            "batch_normalization_2 (Batch (None, 32, 32, 32)        128       \n",
            "_________________________________________________________________\n",
            "max_pooling2d_1 (MaxPooling2 (None, 16, 16, 32)        0         \n",
            "_________________________________________________________________\n",
            "dropout_1 (Dropout)          (None, 16, 16, 32)        0         \n",
            "_________________________________________________________________\n",
            "conv2d_3 (Conv2D)            (None, 16, 16, 64)        18496     \n",
            "_________________________________________________________________\n",
            "batch_normalization_3 (Batch (None, 16, 16, 64)        256       \n",
            "_________________________________________________________________\n",
            "conv2d_4 (Conv2D)            (None, 16, 16, 64)        36928     \n",
            "_________________________________________________________________\n",
            "batch_normalization_4 (Batch (None, 16, 16, 64)        256       \n",
            "_________________________________________________________________\n",
            "max_pooling2d_2 (MaxPooling2 (None, 8, 8, 64)          0         \n",
            "_________________________________________________________________\n",
            "dropout_2 (Dropout)          (None, 8, 8, 64)          0         \n",
            "_________________________________________________________________\n",
            "conv2d_5 (Conv2D)            (None, 8, 8, 128)         73856     \n",
            "_________________________________________________________________\n",
            "batch_normalization_5 (Batch (None, 8, 8, 128)         512       \n",
            "_________________________________________________________________\n",
            "conv2d_6 (Conv2D)            (None, 8, 8, 128)         147584    \n",
            "_________________________________________________________________\n",
            "batch_normalization_6 (Batch (None, 8, 8, 128)         512       \n",
            "_________________________________________________________________\n",
            "average_pooling2d_1 (Average (None, 4, 4, 128)         0         \n",
            "_________________________________________________________________\n",
            "dropout_3 (Dropout)          (None, 4, 4, 128)         0         \n",
            "_________________________________________________________________\n",
            "flatten_1 (Flatten)          (None, 2048)              0         \n",
            "_________________________________________________________________\n",
            "dense_1 (Dense)              (None, 1024)              2098176   \n",
            "_________________________________________________________________\n",
            "batch_normalization_7 (Batch (None, 1024)              4096      \n",
            "_________________________________________________________________\n",
            "dropout_4 (Dropout)          (None, 1024)              0         \n",
            "_________________________________________________________________\n",
            "dense_2 (Dense)              (None, 10)                10250     \n",
            "=================================================================\n",
            "Total params: 2,401,322\n",
            "Trainable params: 2,398,378\n",
            "Non-trainable params: 2,944\n",
            "_________________________________________________________________\n"
          ],
          "name": "stdout"
        }
      ]
    },
    {
      "cell_type": "code",
      "metadata": {
        "id": "ilqed68kb1cu",
        "colab_type": "code",
        "colab": {
          "base_uri": "https://localhost:8080/",
          "height": 755
        },
        "outputId": "44aff756-3eb2-4782-a0e7-96e519ed3c1b"
      },
      "source": [
        "history = cnn_model.fit(X_train, y_train, batch_size = 64, epochs = 20, shuffle = True,validation_data=(X_test,y_test))"
      ],
      "execution_count": 13,
      "outputs": [
        {
          "output_type": "stream",
          "text": [
            "Train on 50000 samples, validate on 10000 samples\n",
            "Epoch 1/20\n",
            "50000/50000 [==============================] - 20s 407us/step - loss: 1.6826 - accuracy: 0.4624 - val_loss: 1.1895 - val_accuracy: 0.5855\n",
            "Epoch 2/20\n",
            "50000/50000 [==============================] - 13s 266us/step - loss: 1.0921 - accuracy: 0.6259 - val_loss: 0.9186 - val_accuracy: 0.6865\n",
            "Epoch 3/20\n",
            "50000/50000 [==============================] - 14s 271us/step - loss: 0.8627 - accuracy: 0.6998 - val_loss: 0.7952 - val_accuracy: 0.7208\n",
            "Epoch 4/20\n",
            "50000/50000 [==============================] - 13s 267us/step - loss: 0.7544 - accuracy: 0.7374 - val_loss: 0.8030 - val_accuracy: 0.7312\n",
            "Epoch 5/20\n",
            "50000/50000 [==============================] - 13s 267us/step - loss: 0.6881 - accuracy: 0.7596 - val_loss: 0.6583 - val_accuracy: 0.7808\n",
            "Epoch 6/20\n",
            "50000/50000 [==============================] - 13s 267us/step - loss: 0.6308 - accuracy: 0.7813 - val_loss: 0.6060 - val_accuracy: 0.7908\n",
            "Epoch 7/20\n",
            "50000/50000 [==============================] - 13s 266us/step - loss: 0.5769 - accuracy: 0.7988 - val_loss: 0.5736 - val_accuracy: 0.8067\n",
            "Epoch 8/20\n",
            "50000/50000 [==============================] - 13s 268us/step - loss: 0.5322 - accuracy: 0.8152 - val_loss: 0.5921 - val_accuracy: 0.8084\n",
            "Epoch 9/20\n",
            "50000/50000 [==============================] - 13s 268us/step - loss: 0.5020 - accuracy: 0.8243 - val_loss: 0.5436 - val_accuracy: 0.8107\n",
            "Epoch 10/20\n",
            "50000/50000 [==============================] - 14s 270us/step - loss: 0.4710 - accuracy: 0.8355 - val_loss: 0.5663 - val_accuracy: 0.8176\n",
            "Epoch 11/20\n",
            "50000/50000 [==============================] - 13s 266us/step - loss: 0.4463 - accuracy: 0.8454 - val_loss: 0.5358 - val_accuracy: 0.8250\n",
            "Epoch 12/20\n",
            "50000/50000 [==============================] - 13s 267us/step - loss: 0.4203 - accuracy: 0.8516 - val_loss: 0.5277 - val_accuracy: 0.8326\n",
            "Epoch 13/20\n",
            "50000/50000 [==============================] - 13s 267us/step - loss: 0.4017 - accuracy: 0.8595 - val_loss: 0.5702 - val_accuracy: 0.8270\n",
            "Epoch 14/20\n",
            "50000/50000 [==============================] - 13s 266us/step - loss: 0.3754 - accuracy: 0.8683 - val_loss: 0.4591 - val_accuracy: 0.8465\n",
            "Epoch 15/20\n",
            "50000/50000 [==============================] - 14s 270us/step - loss: 0.3623 - accuracy: 0.8737 - val_loss: 0.4750 - val_accuracy: 0.8497\n",
            "Epoch 16/20\n",
            "50000/50000 [==============================] - 13s 267us/step - loss: 0.3494 - accuracy: 0.8772 - val_loss: 0.4715 - val_accuracy: 0.8501\n",
            "Epoch 17/20\n",
            "50000/50000 [==============================] - 13s 266us/step - loss: 0.3324 - accuracy: 0.8841 - val_loss: 0.4958 - val_accuracy: 0.8459\n",
            "Epoch 18/20\n",
            "50000/50000 [==============================] - 13s 267us/step - loss: 0.3140 - accuracy: 0.8891 - val_loss: 0.4975 - val_accuracy: 0.8509\n",
            "Epoch 19/20\n",
            "50000/50000 [==============================] - 14s 275us/step - loss: 0.3011 - accuracy: 0.8941 - val_loss: 0.5591 - val_accuracy: 0.8404\n",
            "Epoch 20/20\n",
            "50000/50000 [==============================] - 13s 268us/step - loss: 0.2876 - accuracy: 0.8999 - val_loss: 0.4965 - val_accuracy: 0.8543\n"
          ],
          "name": "stdout"
        }
      ]
    },
    {
      "cell_type": "code",
      "metadata": {
        "id": "0nciTsgbchWq",
        "colab_type": "code",
        "colab": {
          "base_uri": "https://localhost:8080/",
          "height": 53
        },
        "outputId": "351f0a17-5302-44e7-8521-a32dd62da754"
      },
      "source": [
        "evaluation = cnn_model.evaluate(X_test, y_test)\n",
        "print('Test Accuracy: {}'.format(evaluation[1]))"
      ],
      "execution_count": 14,
      "outputs": [
        {
          "output_type": "stream",
          "text": [
            "10000/10000 [==============================] - 1s 140us/step\n",
            "Test Accuracy: 0.8543000221252441\n"
          ],
          "name": "stdout"
        }
      ]
    },
    {
      "cell_type": "code",
      "metadata": {
        "id": "zJvvPbfMclq4",
        "colab_type": "code",
        "colab": {}
      },
      "source": [
        "from keras.preprocessing.image import ImageDataGenerator\n",
        "\n",
        "datagen = ImageDataGenerator(\n",
        "                            \n",
        "                            \n",
        "                            width_shift_range=0.1,\n",
        "                             height_shift_range=0.1,\n",
        "                             shear_range=0.1,\n",
        "                             zoom_range=0.1,\n",
        "                            horizontal_flip = True,\n",
        "                            \n",
        "                             )\n",
        "datagen.fit(X_train)"
      ],
      "execution_count": 15,
      "outputs": []
    },
    {
      "cell_type": "code",
      "metadata": {
        "id": "nOHpQKlLcluV",
        "colab_type": "code",
        "colab": {
          "base_uri": "https://localhost:8080/",
          "height": 1000
        },
        "outputId": "fac431df-8cca-46d2-ee01-5f797bd195fe"
      },
      "source": [
        "cnn_model.fit_generator(datagen.flow(X_train, y_train, batch_size = 64), epochs = 250)"
      ],
      "execution_count": 16,
      "outputs": [
        {
          "output_type": "stream",
          "text": [
            "Epoch 1/250\n",
            "782/782 [==============================] - 27s 34ms/step - loss: 0.6162 - accuracy: 0.7945\n",
            "Epoch 2/250\n",
            "782/782 [==============================] - 27s 35ms/step - loss: 0.5524 - accuracy: 0.8125\n",
            "Epoch 3/250\n",
            "782/782 [==============================] - 27s 34ms/step - loss: 0.5232 - accuracy: 0.8205\n",
            "Epoch 4/250\n",
            "782/782 [==============================] - 27s 34ms/step - loss: 0.5124 - accuracy: 0.8231\n",
            "Epoch 5/250\n",
            "782/782 [==============================] - 27s 34ms/step - loss: 0.4995 - accuracy: 0.8278\n",
            "Epoch 6/250\n",
            "782/782 [==============================] - 27s 34ms/step - loss: 0.4849 - accuracy: 0.8328\n",
            "Epoch 7/250\n",
            "782/782 [==============================] - 27s 35ms/step - loss: 0.4830 - accuracy: 0.8338\n",
            "Epoch 8/250\n",
            "782/782 [==============================] - 27s 35ms/step - loss: 0.4742 - accuracy: 0.8354\n",
            "Epoch 9/250\n",
            "782/782 [==============================] - 27s 35ms/step - loss: 0.4674 - accuracy: 0.8381\n",
            "Epoch 10/250\n",
            "782/782 [==============================] - 27s 35ms/step - loss: 0.4534 - accuracy: 0.8455\n",
            "Epoch 11/250\n",
            "782/782 [==============================] - 27s 34ms/step - loss: 0.4476 - accuracy: 0.8441\n",
            "Epoch 12/250\n",
            "782/782 [==============================] - 27s 34ms/step - loss: 0.4433 - accuracy: 0.8464\n",
            "Epoch 13/250\n",
            "782/782 [==============================] - 27s 35ms/step - loss: 0.4367 - accuracy: 0.8495\n",
            "Epoch 14/250\n",
            "782/782 [==============================] - 27s 35ms/step - loss: 0.4308 - accuracy: 0.8526\n",
            "Epoch 15/250\n",
            "782/782 [==============================] - 27s 35ms/step - loss: 0.4251 - accuracy: 0.8527\n",
            "Epoch 16/250\n",
            "782/782 [==============================] - 27s 34ms/step - loss: 0.4169 - accuracy: 0.8540\n",
            "Epoch 17/250\n",
            "782/782 [==============================] - 27s 34ms/step - loss: 0.4206 - accuracy: 0.8546\n",
            "Epoch 18/250\n",
            "782/782 [==============================] - 27s 34ms/step - loss: 0.4074 - accuracy: 0.8606\n",
            "Epoch 19/250\n",
            "782/782 [==============================] - 27s 34ms/step - loss: 0.4102 - accuracy: 0.8566\n",
            "Epoch 20/250\n",
            "782/782 [==============================] - 27s 35ms/step - loss: 0.4076 - accuracy: 0.8590\n",
            "Epoch 21/250\n",
            "782/782 [==============================] - 28s 35ms/step - loss: 0.3915 - accuracy: 0.8625\n",
            "Epoch 22/250\n",
            "782/782 [==============================] - 27s 34ms/step - loss: 0.3907 - accuracy: 0.8633\n",
            "Epoch 23/250\n",
            "782/782 [==============================] - 27s 35ms/step - loss: 0.3895 - accuracy: 0.8632\n",
            "Epoch 24/250\n",
            "782/782 [==============================] - 27s 35ms/step - loss: 0.3834 - accuracy: 0.8665\n",
            "Epoch 25/250\n",
            "782/782 [==============================] - 27s 35ms/step - loss: 0.3824 - accuracy: 0.8672\n",
            "Epoch 26/250\n",
            "782/782 [==============================] - 28s 35ms/step - loss: 0.3756 - accuracy: 0.8696\n",
            "Epoch 27/250\n",
            "782/782 [==============================] - 27s 35ms/step - loss: 0.3728 - accuracy: 0.8712\n",
            "Epoch 28/250\n",
            "782/782 [==============================] - 27s 35ms/step - loss: 0.3699 - accuracy: 0.8719\n",
            "Epoch 29/250\n",
            "782/782 [==============================] - 27s 35ms/step - loss: 0.3658 - accuracy: 0.8716\n",
            "Epoch 30/250\n",
            "782/782 [==============================] - 27s 34ms/step - loss: 0.3604 - accuracy: 0.8742\n",
            "Epoch 31/250\n",
            "782/782 [==============================] - 27s 35ms/step - loss: 0.3579 - accuracy: 0.8765\n",
            "Epoch 32/250\n",
            "782/782 [==============================] - 27s 35ms/step - loss: 0.3572 - accuracy: 0.8742\n",
            "Epoch 33/250\n",
            "782/782 [==============================] - 28s 35ms/step - loss: 0.3548 - accuracy: 0.8752\n",
            "Epoch 34/250\n",
            "782/782 [==============================] - 27s 35ms/step - loss: 0.3547 - accuracy: 0.8750\n",
            "Epoch 35/250\n",
            "782/782 [==============================] - 27s 35ms/step - loss: 0.3536 - accuracy: 0.8778\n",
            "Epoch 36/250\n",
            "782/782 [==============================] - 27s 34ms/step - loss: 0.3440 - accuracy: 0.8781\n",
            "Epoch 37/250\n",
            "782/782 [==============================] - 27s 34ms/step - loss: 0.3403 - accuracy: 0.8819\n",
            "Epoch 38/250\n",
            "782/782 [==============================] - 27s 34ms/step - loss: 0.3383 - accuracy: 0.8811\n",
            "Epoch 39/250\n",
            "782/782 [==============================] - 26s 34ms/step - loss: 0.3394 - accuracy: 0.8817\n",
            "Epoch 40/250\n",
            "782/782 [==============================] - 26s 34ms/step - loss: 0.3320 - accuracy: 0.8832\n",
            "Epoch 41/250\n",
            "782/782 [==============================] - 26s 34ms/step - loss: 0.3364 - accuracy: 0.8818\n",
            "Epoch 42/250\n",
            "782/782 [==============================] - 27s 34ms/step - loss: 0.3305 - accuracy: 0.8840\n",
            "Epoch 43/250\n",
            "782/782 [==============================] - 27s 34ms/step - loss: 0.3261 - accuracy: 0.8854\n",
            "Epoch 44/250\n",
            "782/782 [==============================] - 27s 35ms/step - loss: 0.3249 - accuracy: 0.8861\n",
            "Epoch 45/250\n",
            "782/782 [==============================] - 27s 34ms/step - loss: 0.3264 - accuracy: 0.8863\n",
            "Epoch 46/250\n",
            "782/782 [==============================] - 27s 34ms/step - loss: 0.3270 - accuracy: 0.8865\n",
            "Epoch 47/250\n",
            "782/782 [==============================] - 27s 34ms/step - loss: 0.3155 - accuracy: 0.8894\n",
            "Epoch 48/250\n",
            "782/782 [==============================] - 26s 34ms/step - loss: 0.3243 - accuracy: 0.8872\n",
            "Epoch 49/250\n",
            "782/782 [==============================] - 26s 34ms/step - loss: 0.3196 - accuracy: 0.8895\n",
            "Epoch 50/250\n",
            "782/782 [==============================] - 26s 34ms/step - loss: 0.3169 - accuracy: 0.8890\n",
            "Epoch 51/250\n",
            "782/782 [==============================] - 27s 34ms/step - loss: 0.3109 - accuracy: 0.8907\n",
            "Epoch 52/250\n",
            "782/782 [==============================] - 27s 34ms/step - loss: 0.3111 - accuracy: 0.8908\n",
            "Epoch 53/250\n",
            "782/782 [==============================] - 27s 34ms/step - loss: 0.3076 - accuracy: 0.8919\n",
            "Epoch 54/250\n",
            "782/782 [==============================] - 27s 34ms/step - loss: 0.3122 - accuracy: 0.8919\n",
            "Epoch 55/250\n",
            "782/782 [==============================] - 27s 35ms/step - loss: 0.3091 - accuracy: 0.8933\n",
            "Epoch 56/250\n",
            "782/782 [==============================] - 27s 35ms/step - loss: 0.3063 - accuracy: 0.8934\n",
            "Epoch 57/250\n",
            "782/782 [==============================] - 27s 34ms/step - loss: 0.3074 - accuracy: 0.8923\n",
            "Epoch 58/250\n",
            "782/782 [==============================] - 26s 34ms/step - loss: 0.3044 - accuracy: 0.8936\n",
            "Epoch 59/250\n",
            "782/782 [==============================] - 27s 34ms/step - loss: 0.3031 - accuracy: 0.8922\n",
            "Epoch 60/250\n",
            "782/782 [==============================] - 26s 34ms/step - loss: 0.2969 - accuracy: 0.8967\n",
            "Epoch 61/250\n",
            "782/782 [==============================] - 26s 34ms/step - loss: 0.2980 - accuracy: 0.8959\n",
            "Epoch 62/250\n",
            "782/782 [==============================] - 27s 34ms/step - loss: 0.2943 - accuracy: 0.8981\n",
            "Epoch 63/250\n",
            "782/782 [==============================] - 26s 34ms/step - loss: 0.2942 - accuracy: 0.8975\n",
            "Epoch 64/250\n",
            "782/782 [==============================] - 27s 34ms/step - loss: 0.2888 - accuracy: 0.8990\n",
            "Epoch 65/250\n",
            "782/782 [==============================] - 26s 34ms/step - loss: 0.2929 - accuracy: 0.8980\n",
            "Epoch 66/250\n",
            "782/782 [==============================] - 26s 34ms/step - loss: 0.2945 - accuracy: 0.8977\n",
            "Epoch 67/250\n",
            "782/782 [==============================] - 26s 34ms/step - loss: 0.2889 - accuracy: 0.8985\n",
            "Epoch 68/250\n",
            "782/782 [==============================] - 27s 35ms/step - loss: 0.2887 - accuracy: 0.8991\n",
            "Epoch 69/250\n",
            "782/782 [==============================] - 26s 34ms/step - loss: 0.2918 - accuracy: 0.8988\n",
            "Epoch 70/250\n",
            "782/782 [==============================] - 26s 34ms/step - loss: 0.2874 - accuracy: 0.8973\n",
            "Epoch 71/250\n",
            "782/782 [==============================] - 27s 34ms/step - loss: 0.2859 - accuracy: 0.8981\n",
            "Epoch 72/250\n",
            "782/782 [==============================] - 27s 34ms/step - loss: 0.2825 - accuracy: 0.9004\n",
            "Epoch 73/250\n",
            "782/782 [==============================] - 27s 34ms/step - loss: 0.2857 - accuracy: 0.8991\n",
            "Epoch 74/250\n",
            "782/782 [==============================] - 27s 34ms/step - loss: 0.2865 - accuracy: 0.8988\n",
            "Epoch 75/250\n",
            "782/782 [==============================] - 27s 34ms/step - loss: 0.2817 - accuracy: 0.9014\n",
            "Epoch 76/250\n",
            "782/782 [==============================] - 27s 34ms/step - loss: 0.2776 - accuracy: 0.9033\n",
            "Epoch 77/250\n",
            "782/782 [==============================] - 27s 34ms/step - loss: 0.2750 - accuracy: 0.9033\n",
            "Epoch 78/250\n",
            "782/782 [==============================] - 27s 34ms/step - loss: 0.2773 - accuracy: 0.9041\n",
            "Epoch 79/250\n",
            "782/782 [==============================] - 27s 35ms/step - loss: 0.2813 - accuracy: 0.9005\n",
            "Epoch 80/250\n",
            "782/782 [==============================] - 27s 34ms/step - loss: 0.2738 - accuracy: 0.9013\n",
            "Epoch 81/250\n",
            "782/782 [==============================] - 27s 34ms/step - loss: 0.2755 - accuracy: 0.9034\n",
            "Epoch 82/250\n",
            "782/782 [==============================] - 27s 34ms/step - loss: 0.2733 - accuracy: 0.9052\n",
            "Epoch 83/250\n",
            "782/782 [==============================] - 26s 34ms/step - loss: 0.2738 - accuracy: 0.9030\n",
            "Epoch 84/250\n",
            "782/782 [==============================] - 26s 34ms/step - loss: 0.2698 - accuracy: 0.9041\n",
            "Epoch 85/250\n",
            "782/782 [==============================] - 26s 34ms/step - loss: 0.2686 - accuracy: 0.9062\n",
            "Epoch 86/250\n",
            "782/782 [==============================] - 27s 34ms/step - loss: 0.2682 - accuracy: 0.9041\n",
            "Epoch 87/250\n",
            "782/782 [==============================] - 27s 34ms/step - loss: 0.2640 - accuracy: 0.9075\n",
            "Epoch 88/250\n",
            "782/782 [==============================] - 26s 34ms/step - loss: 0.2687 - accuracy: 0.9065\n",
            "Epoch 89/250\n",
            "782/782 [==============================] - 27s 34ms/step - loss: 0.2649 - accuracy: 0.9071\n",
            "Epoch 90/250\n",
            "782/782 [==============================] - 26s 34ms/step - loss: 0.2605 - accuracy: 0.9076\n",
            "Epoch 91/250\n",
            "782/782 [==============================] - 27s 34ms/step - loss: 0.2602 - accuracy: 0.9088\n",
            "Epoch 92/250\n",
            "782/782 [==============================] - 26s 34ms/step - loss: 0.2661 - accuracy: 0.9058\n",
            "Epoch 93/250\n",
            "782/782 [==============================] - 26s 34ms/step - loss: 0.2615 - accuracy: 0.9073\n",
            "Epoch 94/250\n",
            "782/782 [==============================] - 26s 33ms/step - loss: 0.2613 - accuracy: 0.9071\n",
            "Epoch 95/250\n",
            "782/782 [==============================] - 27s 34ms/step - loss: 0.2575 - accuracy: 0.9090\n",
            "Epoch 96/250\n",
            "782/782 [==============================] - 26s 34ms/step - loss: 0.2618 - accuracy: 0.9076\n",
            "Epoch 97/250\n",
            "782/782 [==============================] - 26s 34ms/step - loss: 0.2564 - accuracy: 0.9106\n",
            "Epoch 98/250\n",
            "782/782 [==============================] - 27s 34ms/step - loss: 0.2615 - accuracy: 0.9077\n",
            "Epoch 99/250\n",
            "782/782 [==============================] - 26s 34ms/step - loss: 0.2512 - accuracy: 0.9116\n",
            "Epoch 100/250\n",
            "782/782 [==============================] - 27s 34ms/step - loss: 0.2532 - accuracy: 0.9119\n",
            "Epoch 101/250\n",
            "782/782 [==============================] - 27s 34ms/step - loss: 0.2515 - accuracy: 0.9134\n",
            "Epoch 102/250\n",
            "782/782 [==============================] - 27s 34ms/step - loss: 0.2551 - accuracy: 0.9109\n",
            "Epoch 103/250\n",
            "782/782 [==============================] - 26s 34ms/step - loss: 0.2544 - accuracy: 0.9098\n",
            "Epoch 104/250\n",
            "782/782 [==============================] - 26s 34ms/step - loss: 0.2541 - accuracy: 0.9112\n",
            "Epoch 105/250\n",
            "782/782 [==============================] - 26s 34ms/step - loss: 0.2479 - accuracy: 0.9120\n",
            "Epoch 106/250\n",
            "782/782 [==============================] - 26s 34ms/step - loss: 0.2464 - accuracy: 0.9126\n",
            "Epoch 107/250\n",
            "782/782 [==============================] - 26s 34ms/step - loss: 0.2546 - accuracy: 0.9120\n",
            "Epoch 108/250\n",
            "782/782 [==============================] - 26s 34ms/step - loss: 0.2495 - accuracy: 0.9123\n",
            "Epoch 109/250\n",
            "782/782 [==============================] - 26s 34ms/step - loss: 0.2505 - accuracy: 0.9123\n",
            "Epoch 110/250\n",
            "782/782 [==============================] - 27s 34ms/step - loss: 0.2449 - accuracy: 0.9136\n",
            "Epoch 111/250\n",
            "782/782 [==============================] - 26s 34ms/step - loss: 0.2469 - accuracy: 0.9133\n",
            "Epoch 112/250\n",
            "782/782 [==============================] - 26s 34ms/step - loss: 0.2469 - accuracy: 0.9136\n",
            "Epoch 113/250\n",
            "782/782 [==============================] - 27s 34ms/step - loss: 0.2440 - accuracy: 0.9142\n",
            "Epoch 114/250\n",
            "782/782 [==============================] - 27s 35ms/step - loss: 0.2472 - accuracy: 0.9132\n",
            "Epoch 115/250\n",
            "782/782 [==============================] - 27s 34ms/step - loss: 0.2423 - accuracy: 0.9143\n",
            "Epoch 116/250\n",
            "782/782 [==============================] - 27s 34ms/step - loss: 0.2435 - accuracy: 0.9141\n",
            "Epoch 117/250\n",
            "782/782 [==============================] - 27s 34ms/step - loss: 0.2393 - accuracy: 0.9156\n",
            "Epoch 118/250\n",
            "782/782 [==============================] - 27s 34ms/step - loss: 0.2463 - accuracy: 0.9132\n",
            "Epoch 119/250\n",
            "782/782 [==============================] - 27s 34ms/step - loss: 0.2433 - accuracy: 0.9147\n",
            "Epoch 120/250\n",
            "782/782 [==============================] - 27s 34ms/step - loss: 0.2394 - accuracy: 0.9172\n",
            "Epoch 121/250\n",
            "782/782 [==============================] - 27s 34ms/step - loss: 0.2422 - accuracy: 0.9143\n",
            "Epoch 122/250\n",
            "782/782 [==============================] - 27s 35ms/step - loss: 0.2448 - accuracy: 0.9129\n",
            "Epoch 123/250\n",
            "782/782 [==============================] - 27s 34ms/step - loss: 0.2349 - accuracy: 0.9171\n",
            "Epoch 124/250\n",
            "782/782 [==============================] - 27s 35ms/step - loss: 0.2383 - accuracy: 0.9171\n",
            "Epoch 125/250\n",
            "782/782 [==============================] - 27s 34ms/step - loss: 0.2394 - accuracy: 0.9169\n",
            "Epoch 126/250\n",
            "782/782 [==============================] - 27s 35ms/step - loss: 0.2373 - accuracy: 0.9157\n",
            "Epoch 127/250\n",
            "782/782 [==============================] - 27s 34ms/step - loss: 0.2343 - accuracy: 0.9180\n",
            "Epoch 128/250\n",
            "782/782 [==============================] - 27s 34ms/step - loss: 0.2353 - accuracy: 0.9178\n",
            "Epoch 129/250\n",
            "782/782 [==============================] - 27s 34ms/step - loss: 0.2367 - accuracy: 0.9163\n",
            "Epoch 130/250\n",
            "782/782 [==============================] - 27s 34ms/step - loss: 0.2325 - accuracy: 0.9186\n",
            "Epoch 131/250\n",
            "782/782 [==============================] - 27s 34ms/step - loss: 0.2360 - accuracy: 0.9175\n",
            "Epoch 132/250\n",
            "782/782 [==============================] - 27s 35ms/step - loss: 0.2297 - accuracy: 0.9182\n",
            "Epoch 133/250\n",
            "782/782 [==============================] - 27s 34ms/step - loss: 0.2315 - accuracy: 0.9187\n",
            "Epoch 134/250\n",
            "782/782 [==============================] - 27s 34ms/step - loss: 0.2322 - accuracy: 0.9179\n",
            "Epoch 135/250\n",
            "782/782 [==============================] - 27s 34ms/step - loss: 0.2322 - accuracy: 0.9187\n",
            "Epoch 136/250\n",
            "782/782 [==============================] - 27s 34ms/step - loss: 0.2311 - accuracy: 0.9185\n",
            "Epoch 137/250\n",
            "782/782 [==============================] - 27s 34ms/step - loss: 0.2289 - accuracy: 0.9186\n",
            "Epoch 138/250\n",
            "782/782 [==============================] - 27s 34ms/step - loss: 0.2298 - accuracy: 0.9211\n",
            "Epoch 139/250\n",
            "782/782 [==============================] - 27s 34ms/step - loss: 0.2290 - accuracy: 0.9195\n",
            "Epoch 140/250\n",
            "782/782 [==============================] - 27s 34ms/step - loss: 0.2275 - accuracy: 0.9201\n",
            "Epoch 141/250\n",
            "782/782 [==============================] - 27s 34ms/step - loss: 0.2279 - accuracy: 0.9199\n",
            "Epoch 142/250\n",
            "782/782 [==============================] - 26s 34ms/step - loss: 0.2285 - accuracy: 0.9193\n",
            "Epoch 143/250\n",
            "782/782 [==============================] - 26s 34ms/step - loss: 0.2238 - accuracy: 0.9202\n",
            "Epoch 144/250\n",
            "782/782 [==============================] - 27s 34ms/step - loss: 0.2293 - accuracy: 0.9205\n",
            "Epoch 145/250\n",
            "782/782 [==============================] - 27s 35ms/step - loss: 0.2301 - accuracy: 0.9192\n",
            "Epoch 146/250\n",
            "782/782 [==============================] - 27s 35ms/step - loss: 0.2311 - accuracy: 0.9192\n",
            "Epoch 147/250\n",
            "782/782 [==============================] - 27s 34ms/step - loss: 0.2279 - accuracy: 0.9198\n",
            "Epoch 148/250\n",
            "782/782 [==============================] - 27s 34ms/step - loss: 0.2279 - accuracy: 0.9198\n",
            "Epoch 149/250\n",
            "782/782 [==============================] - 27s 35ms/step - loss: 0.2262 - accuracy: 0.9207\n",
            "Epoch 150/250\n",
            "782/782 [==============================] - 27s 34ms/step - loss: 0.2242 - accuracy: 0.9216\n",
            "Epoch 151/250\n",
            "782/782 [==============================] - 27s 34ms/step - loss: 0.2187 - accuracy: 0.9249\n",
            "Epoch 152/250\n",
            "782/782 [==============================] - 27s 34ms/step - loss: 0.2233 - accuracy: 0.9211\n",
            "Epoch 153/250\n",
            "782/782 [==============================] - 26s 34ms/step - loss: 0.2244 - accuracy: 0.9210\n",
            "Epoch 154/250\n",
            "782/782 [==============================] - 27s 34ms/step - loss: 0.2222 - accuracy: 0.9215\n",
            "Epoch 155/250\n",
            "782/782 [==============================] - 27s 34ms/step - loss: 0.2203 - accuracy: 0.9212\n",
            "Epoch 156/250\n",
            "782/782 [==============================] - 27s 34ms/step - loss: 0.2233 - accuracy: 0.9209\n",
            "Epoch 157/250\n",
            "782/782 [==============================] - 27s 34ms/step - loss: 0.2239 - accuracy: 0.9211\n",
            "Epoch 158/250\n",
            "782/782 [==============================] - 27s 34ms/step - loss: 0.2148 - accuracy: 0.9239\n",
            "Epoch 159/250\n",
            "782/782 [==============================] - 27s 34ms/step - loss: 0.2196 - accuracy: 0.9227\n",
            "Epoch 160/250\n",
            "782/782 [==============================] - 27s 34ms/step - loss: 0.2210 - accuracy: 0.9225\n",
            "Epoch 161/250\n",
            "782/782 [==============================] - 27s 35ms/step - loss: 0.2216 - accuracy: 0.9226\n",
            "Epoch 162/250\n",
            "782/782 [==============================] - 27s 34ms/step - loss: 0.2182 - accuracy: 0.9231\n",
            "Epoch 163/250\n",
            "782/782 [==============================] - 27s 34ms/step - loss: 0.2232 - accuracy: 0.9217\n",
            "Epoch 164/250\n",
            "782/782 [==============================] - 27s 34ms/step - loss: 0.2129 - accuracy: 0.9239\n",
            "Epoch 165/250\n",
            "782/782 [==============================] - 27s 34ms/step - loss: 0.2161 - accuracy: 0.9230\n",
            "Epoch 166/250\n",
            "782/782 [==============================] - 27s 34ms/step - loss: 0.2184 - accuracy: 0.9229\n",
            "Epoch 167/250\n",
            "782/782 [==============================] - 27s 34ms/step - loss: 0.2173 - accuracy: 0.9232\n",
            "Epoch 168/250\n",
            "782/782 [==============================] - 27s 34ms/step - loss: 0.2124 - accuracy: 0.9238\n",
            "Epoch 169/250\n",
            "782/782 [==============================] - 26s 34ms/step - loss: 0.2153 - accuracy: 0.9255\n",
            "Epoch 170/250\n",
            "782/782 [==============================] - 27s 34ms/step - loss: 0.2150 - accuracy: 0.9242\n",
            "Epoch 171/250\n",
            "782/782 [==============================] - 27s 34ms/step - loss: 0.2186 - accuracy: 0.9235\n",
            "Epoch 172/250\n",
            "782/782 [==============================] - 27s 35ms/step - loss: 0.2163 - accuracy: 0.9229\n",
            "Epoch 173/250\n",
            "782/782 [==============================] - 27s 34ms/step - loss: 0.2165 - accuracy: 0.9242\n",
            "Epoch 174/250\n",
            "782/782 [==============================] - 27s 34ms/step - loss: 0.2084 - accuracy: 0.9270\n",
            "Epoch 175/250\n",
            "782/782 [==============================] - 26s 34ms/step - loss: 0.2163 - accuracy: 0.9234\n",
            "Epoch 176/250\n",
            "782/782 [==============================] - 27s 34ms/step - loss: 0.2129 - accuracy: 0.9254\n",
            "Epoch 177/250\n",
            "782/782 [==============================] - 27s 34ms/step - loss: 0.2095 - accuracy: 0.9272\n",
            "Epoch 178/250\n",
            "782/782 [==============================] - 27s 34ms/step - loss: 0.2110 - accuracy: 0.9254\n",
            "Epoch 179/250\n",
            "782/782 [==============================] - 27s 34ms/step - loss: 0.2111 - accuracy: 0.9255\n",
            "Epoch 180/250\n",
            "782/782 [==============================] - 27s 35ms/step - loss: 0.2120 - accuracy: 0.9266\n",
            "Epoch 181/250\n",
            "782/782 [==============================] - 27s 34ms/step - loss: 0.2177 - accuracy: 0.9230\n",
            "Epoch 182/250\n",
            "782/782 [==============================] - 27s 34ms/step - loss: 0.2170 - accuracy: 0.9253\n",
            "Epoch 183/250\n",
            "782/782 [==============================] - 27s 35ms/step - loss: 0.2081 - accuracy: 0.9267\n",
            "Epoch 184/250\n",
            "782/782 [==============================] - 28s 36ms/step - loss: 0.2098 - accuracy: 0.9268\n",
            "Epoch 185/250\n",
            "782/782 [==============================] - 28s 35ms/step - loss: 0.2081 - accuracy: 0.9260\n",
            "Epoch 186/250\n",
            "782/782 [==============================] - 27s 35ms/step - loss: 0.2094 - accuracy: 0.9263\n",
            "Epoch 187/250\n",
            "782/782 [==============================] - 27s 35ms/step - loss: 0.2045 - accuracy: 0.9280\n",
            "Epoch 188/250\n",
            "782/782 [==============================] - 27s 35ms/step - loss: 0.2018 - accuracy: 0.9290\n",
            "Epoch 189/250\n",
            "782/782 [==============================] - 28s 35ms/step - loss: 0.2119 - accuracy: 0.9253\n",
            "Epoch 190/250\n",
            "782/782 [==============================] - 27s 35ms/step - loss: 0.2071 - accuracy: 0.9271\n",
            "Epoch 191/250\n",
            "782/782 [==============================] - 27s 35ms/step - loss: 0.2074 - accuracy: 0.9274\n",
            "Epoch 192/250\n",
            "782/782 [==============================] - 27s 35ms/step - loss: 0.2044 - accuracy: 0.9285\n",
            "Epoch 193/250\n",
            "782/782 [==============================] - 28s 35ms/step - loss: 0.2019 - accuracy: 0.9282\n",
            "Epoch 194/250\n",
            "782/782 [==============================] - 28s 35ms/step - loss: 0.2068 - accuracy: 0.9268\n",
            "Epoch 195/250\n",
            "782/782 [==============================] - 28s 35ms/step - loss: 0.2040 - accuracy: 0.9292\n",
            "Epoch 196/250\n",
            "782/782 [==============================] - 27s 35ms/step - loss: 0.2046 - accuracy: 0.9289\n",
            "Epoch 197/250\n",
            "782/782 [==============================] - 27s 35ms/step - loss: 0.2064 - accuracy: 0.9270\n",
            "Epoch 198/250\n",
            "782/782 [==============================] - 27s 35ms/step - loss: 0.2043 - accuracy: 0.9274\n",
            "Epoch 199/250\n",
            "782/782 [==============================] - 27s 35ms/step - loss: 0.2052 - accuracy: 0.9273\n",
            "Epoch 200/250\n",
            "782/782 [==============================] - 27s 35ms/step - loss: 0.1976 - accuracy: 0.9305\n",
            "Epoch 201/250\n",
            "782/782 [==============================] - 27s 35ms/step - loss: 0.2010 - accuracy: 0.9301\n",
            "Epoch 202/250\n",
            "782/782 [==============================] - 27s 35ms/step - loss: 0.1996 - accuracy: 0.9294\n",
            "Epoch 203/250\n",
            "782/782 [==============================] - 27s 35ms/step - loss: 0.2022 - accuracy: 0.9289\n",
            "Epoch 204/250\n",
            "782/782 [==============================] - 27s 34ms/step - loss: 0.2043 - accuracy: 0.9279\n",
            "Epoch 205/250\n",
            "782/782 [==============================] - 27s 35ms/step - loss: 0.2008 - accuracy: 0.9285\n",
            "Epoch 206/250\n",
            "782/782 [==============================] - 27s 35ms/step - loss: 0.2015 - accuracy: 0.9286\n",
            "Epoch 207/250\n",
            "782/782 [==============================] - 27s 35ms/step - loss: 0.2013 - accuracy: 0.9288\n",
            "Epoch 208/250\n",
            "782/782 [==============================] - 27s 34ms/step - loss: 0.1995 - accuracy: 0.9306\n",
            "Epoch 209/250\n",
            "782/782 [==============================] - 27s 35ms/step - loss: 0.2016 - accuracy: 0.9281\n",
            "Epoch 210/250\n",
            "782/782 [==============================] - 27s 35ms/step - loss: 0.1958 - accuracy: 0.9302\n",
            "Epoch 211/250\n",
            "782/782 [==============================] - 27s 35ms/step - loss: 0.1943 - accuracy: 0.9307\n",
            "Epoch 212/250\n",
            "782/782 [==============================] - 27s 35ms/step - loss: 0.1969 - accuracy: 0.9297\n",
            "Epoch 213/250\n",
            "782/782 [==============================] - 27s 34ms/step - loss: 0.2043 - accuracy: 0.9283\n",
            "Epoch 214/250\n",
            "782/782 [==============================] - 27s 35ms/step - loss: 0.1999 - accuracy: 0.9292\n",
            "Epoch 215/250\n",
            "782/782 [==============================] - 27s 35ms/step - loss: 0.1973 - accuracy: 0.9294\n",
            "Epoch 216/250\n",
            "782/782 [==============================] - 27s 35ms/step - loss: 0.1976 - accuracy: 0.9296\n",
            "Epoch 217/250\n",
            "782/782 [==============================] - 27s 35ms/step - loss: 0.2019 - accuracy: 0.9282\n",
            "Epoch 218/250\n",
            "782/782 [==============================] - 27s 35ms/step - loss: 0.1943 - accuracy: 0.9324\n",
            "Epoch 219/250\n",
            "782/782 [==============================] - 27s 34ms/step - loss: 0.1942 - accuracy: 0.9312\n",
            "Epoch 220/250\n",
            "782/782 [==============================] - 27s 34ms/step - loss: 0.1992 - accuracy: 0.9306\n",
            "Epoch 221/250\n",
            "782/782 [==============================] - 27s 34ms/step - loss: 0.1982 - accuracy: 0.9306\n",
            "Epoch 222/250\n",
            "782/782 [==============================] - 27s 34ms/step - loss: 0.2002 - accuracy: 0.9301\n",
            "Epoch 223/250\n",
            "782/782 [==============================] - 27s 35ms/step - loss: 0.2005 - accuracy: 0.9294\n",
            "Epoch 224/250\n",
            "782/782 [==============================] - 27s 35ms/step - loss: 0.1927 - accuracy: 0.9309\n",
            "Epoch 225/250\n",
            "782/782 [==============================] - 27s 35ms/step - loss: 0.1923 - accuracy: 0.9313\n",
            "Epoch 226/250\n",
            "782/782 [==============================] - 27s 35ms/step - loss: 0.1931 - accuracy: 0.9334\n",
            "Epoch 227/250\n",
            "782/782 [==============================] - 27s 35ms/step - loss: 0.1930 - accuracy: 0.9317\n",
            "Epoch 228/250\n",
            "782/782 [==============================] - 27s 35ms/step - loss: 0.1960 - accuracy: 0.9302\n",
            "Epoch 229/250\n",
            "782/782 [==============================] - 28s 35ms/step - loss: 0.1917 - accuracy: 0.9332\n",
            "Epoch 230/250\n",
            "782/782 [==============================] - 27s 35ms/step - loss: 0.1953 - accuracy: 0.9308\n",
            "Epoch 231/250\n",
            "782/782 [==============================] - 27s 34ms/step - loss: 0.1918 - accuracy: 0.9316\n",
            "Epoch 232/250\n",
            "782/782 [==============================] - 27s 34ms/step - loss: 0.1967 - accuracy: 0.9312\n",
            "Epoch 233/250\n",
            "782/782 [==============================] - 27s 34ms/step - loss: 0.1959 - accuracy: 0.9304\n",
            "Epoch 234/250\n",
            "782/782 [==============================] - 27s 34ms/step - loss: 0.1941 - accuracy: 0.9307\n",
            "Epoch 235/250\n",
            "782/782 [==============================] - 27s 34ms/step - loss: 0.1922 - accuracy: 0.9330\n",
            "Epoch 236/250\n",
            "782/782 [==============================] - 27s 34ms/step - loss: 0.1904 - accuracy: 0.9330\n",
            "Epoch 237/250\n",
            "782/782 [==============================] - 27s 34ms/step - loss: 0.1952 - accuracy: 0.9333\n",
            "Epoch 238/250\n",
            "782/782 [==============================] - 27s 34ms/step - loss: 0.1945 - accuracy: 0.9314\n",
            "Epoch 239/250\n",
            "782/782 [==============================] - 27s 34ms/step - loss: 0.1871 - accuracy: 0.9333\n",
            "Epoch 240/250\n",
            "782/782 [==============================] - 27s 34ms/step - loss: 0.1911 - accuracy: 0.9328\n",
            "Epoch 241/250\n",
            "782/782 [==============================] - 27s 34ms/step - loss: 0.1921 - accuracy: 0.9327\n",
            "Epoch 242/250\n",
            "782/782 [==============================] - 27s 34ms/step - loss: 0.1921 - accuracy: 0.9310\n",
            "Epoch 243/250\n",
            "782/782 [==============================] - 27s 34ms/step - loss: 0.1896 - accuracy: 0.9335\n",
            "Epoch 244/250\n",
            "782/782 [==============================] - 27s 34ms/step - loss: 0.1907 - accuracy: 0.9303\n",
            "Epoch 245/250\n",
            "782/782 [==============================] - 27s 35ms/step - loss: 0.1906 - accuracy: 0.9336\n",
            "Epoch 246/250\n",
            "782/782 [==============================] - 27s 35ms/step - loss: 0.1873 - accuracy: 0.9344\n",
            "Epoch 247/250\n",
            "782/782 [==============================] - 27s 35ms/step - loss: 0.1930 - accuracy: 0.9330\n",
            "Epoch 248/250\n",
            "782/782 [==============================] - 27s 35ms/step - loss: 0.1942 - accuracy: 0.9311\n",
            "Epoch 249/250\n",
            "782/782 [==============================] - 27s 34ms/step - loss: 0.1847 - accuracy: 0.9336\n",
            "Epoch 250/250\n",
            "782/782 [==============================] - 27s 34ms/step - loss: 0.1856 - accuracy: 0.9333\n"
          ],
          "name": "stdout"
        },
        {
          "output_type": "execute_result",
          "data": {
            "text/plain": [
              "<keras.callbacks.callbacks.History at 0x7fbe31b4e860>"
            ]
          },
          "metadata": {
            "tags": []
          },
          "execution_count": 16
        }
      ]
    },
    {
      "cell_type": "code",
      "metadata": {
        "id": "YKEtE78ocly3",
        "colab_type": "code",
        "colab": {
          "base_uri": "https://localhost:8080/",
          "height": 35
        },
        "outputId": "7aa6ba8d-6da8-48ff-a1f4-48eaebc316d2"
      },
      "source": [
        "score = cnn_model.evaluate(X_test, y_test)"
      ],
      "execution_count": 17,
      "outputs": [
        {
          "output_type": "stream",
          "text": [
            "10000/10000 [==============================] - 1s 142us/step\n"
          ],
          "name": "stdout"
        }
      ]
    },
    {
      "cell_type": "code",
      "metadata": {
        "id": "WKPxDBPAcl2N",
        "colab_type": "code",
        "colab": {
          "base_uri": "https://localhost:8080/",
          "height": 35
        },
        "outputId": "33f24d83-743e-4390-e76e-deb6c44c42f6"
      },
      "source": [
        "print('Test accuracy', score[1])"
      ],
      "execution_count": 18,
      "outputs": [
        {
          "output_type": "stream",
          "text": [
            "Test accuracy 0.9053999781608582\n"
          ],
          "name": "stdout"
        }
      ]
    },
    {
      "cell_type": "code",
      "metadata": {
        "id": "WNb9wjOEcl5B",
        "colab_type": "code",
        "colab": {
          "base_uri": "https://localhost:8080/",
          "height": 35
        },
        "outputId": "208da3d3-dc8e-4fc6-af24-42862b93dbbe"
      },
      "source": [
        "score_test= cnn_model.evaluate(X_train, y_train)"
      ],
      "execution_count": 19,
      "outputs": [
        {
          "output_type": "stream",
          "text": [
            "50000/50000 [==============================] - 7s 135us/step\n"
          ],
          "name": "stdout"
        }
      ]
    },
    {
      "cell_type": "code",
      "metadata": {
        "id": "sG_qqZH_G4P8",
        "colab_type": "code",
        "colab": {
          "base_uri": "https://localhost:8080/",
          "height": 35
        },
        "outputId": "6de42465-d8e0-4794-bdc1-46043e9f74ea"
      },
      "source": [
        "print('Train accuracy', score_test[1])"
      ],
      "execution_count": 20,
      "outputs": [
        {
          "output_type": "stream",
          "text": [
            "Train accuracy 0.9817600250244141\n"
          ],
          "name": "stdout"
        }
      ]
    },
    {
      "cell_type": "code",
      "metadata": {
        "id": "X5g151tHPk-X",
        "colab_type": "code",
        "colab": {}
      },
      "source": [
        "import tensorflow.compat.v1 as tf\n",
        "from tensorflow import keras"
      ],
      "execution_count": null,
      "outputs": []
    }
  ]
}