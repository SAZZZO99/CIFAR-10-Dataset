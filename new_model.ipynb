{
  "nbformat": 4,
  "nbformat_minor": 0,
  "metadata": {
    "colab": {
      "name": "new model.ipynb",
      "provenance": [],
      "authorship_tag": "ABX9TyMSdURZKrnuh3HFq3rNPyMp"
    },
    "kernelspec": {
      "name": "python3",
      "display_name": "Python 3"
    },
    "accelerator": "GPU"
  },
  "cells": [
    {
      "cell_type": "code",
      "metadata": {
        "id": "qyezxU6-b1Ip",
        "colab_type": "code",
        "colab": {
          "base_uri": "https://localhost:8080/",
          "height": 53
        },
        "outputId": "723da116-eedc-4cff-f04e-535026158eb4"
      },
      "source": [
        "import numpy as np \n",
        "import pandas as pd \n",
        "import matplotlib.pyplot as plt\n",
        "import seaborn"
      ],
      "execution_count": 1,
      "outputs": [
        {
          "output_type": "stream",
          "text": [
            "/usr/local/lib/python3.6/dist-packages/statsmodels/tools/_testing.py:19: FutureWarning: pandas.util.testing is deprecated. Use the functions in the public API at pandas.testing instead.\n",
            "  import pandas.util.testing as tm\n"
          ],
          "name": "stderr"
        }
      ]
    },
    {
      "cell_type": "code",
      "metadata": {
        "id": "nPJ0KTUeb1Lv",
        "colab_type": "code",
        "colab": {
          "base_uri": "https://localhost:8080/",
          "height": 755
        },
        "outputId": "75053c03-1e45-44dd-cc9c-914c971a03e1"
      },
      "source": [
        "!pip install tensorflow-gpu\n"
      ],
      "execution_count": 2,
      "outputs": [
        {
          "output_type": "stream",
          "text": [
            "Collecting tensorflow-gpu\n",
            "\u001b[?25l  Downloading https://files.pythonhosted.org/packages/31/bf/c28971266ca854a64f4b26f07c4112ddd61f30b4d1f18108b954a746f8ea/tensorflow_gpu-2.2.0-cp36-cp36m-manylinux2010_x86_64.whl (516.2MB)\n",
            "\u001b[K     |████████████████████████████████| 516.2MB 31kB/s \n",
            "\u001b[?25hRequirement already satisfied: astunparse==1.6.3 in /usr/local/lib/python3.6/dist-packages (from tensorflow-gpu) (1.6.3)\n",
            "Requirement already satisfied: wrapt>=1.11.1 in /usr/local/lib/python3.6/dist-packages (from tensorflow-gpu) (1.12.1)\n",
            "Requirement already satisfied: wheel>=0.26; python_version >= \"3\" in /usr/local/lib/python3.6/dist-packages (from tensorflow-gpu) (0.34.2)\n",
            "Requirement already satisfied: six>=1.12.0 in /usr/local/lib/python3.6/dist-packages (from tensorflow-gpu) (1.12.0)\n",
            "Requirement already satisfied: h5py<2.11.0,>=2.10.0 in /usr/local/lib/python3.6/dist-packages (from tensorflow-gpu) (2.10.0)\n",
            "Requirement already satisfied: opt-einsum>=2.3.2 in /usr/local/lib/python3.6/dist-packages (from tensorflow-gpu) (3.2.1)\n",
            "Requirement already satisfied: absl-py>=0.7.0 in /usr/local/lib/python3.6/dist-packages (from tensorflow-gpu) (0.9.0)\n",
            "Requirement already satisfied: gast==0.3.3 in /usr/local/lib/python3.6/dist-packages (from tensorflow-gpu) (0.3.3)\n",
            "Requirement already satisfied: tensorboard<2.3.0,>=2.2.0 in /usr/local/lib/python3.6/dist-packages (from tensorflow-gpu) (2.2.2)\n",
            "Requirement already satisfied: protobuf>=3.8.0 in /usr/local/lib/python3.6/dist-packages (from tensorflow-gpu) (3.10.0)\n",
            "Requirement already satisfied: keras-preprocessing>=1.1.0 in /usr/local/lib/python3.6/dist-packages (from tensorflow-gpu) (1.1.2)\n",
            "Requirement already satisfied: termcolor>=1.1.0 in /usr/local/lib/python3.6/dist-packages (from tensorflow-gpu) (1.1.0)\n",
            "Requirement already satisfied: grpcio>=1.8.6 in /usr/local/lib/python3.6/dist-packages (from tensorflow-gpu) (1.30.0)\n",
            "Requirement already satisfied: tensorflow-estimator<2.3.0,>=2.2.0 in /usr/local/lib/python3.6/dist-packages (from tensorflow-gpu) (2.2.0)\n",
            "Requirement already satisfied: scipy==1.4.1; python_version >= \"3\" in /usr/local/lib/python3.6/dist-packages (from tensorflow-gpu) (1.4.1)\n",
            "Requirement already satisfied: google-pasta>=0.1.8 in /usr/local/lib/python3.6/dist-packages (from tensorflow-gpu) (0.2.0)\n",
            "Requirement already satisfied: numpy<2.0,>=1.16.0 in /usr/local/lib/python3.6/dist-packages (from tensorflow-gpu) (1.18.5)\n",
            "Requirement already satisfied: google-auth<2,>=1.6.3 in /usr/local/lib/python3.6/dist-packages (from tensorboard<2.3.0,>=2.2.0->tensorflow-gpu) (1.17.2)\n",
            "Requirement already satisfied: google-auth-oauthlib<0.5,>=0.4.1 in /usr/local/lib/python3.6/dist-packages (from tensorboard<2.3.0,>=2.2.0->tensorflow-gpu) (0.4.1)\n",
            "Requirement already satisfied: markdown>=2.6.8 in /usr/local/lib/python3.6/dist-packages (from tensorboard<2.3.0,>=2.2.0->tensorflow-gpu) (3.2.2)\n",
            "Requirement already satisfied: setuptools>=41.0.0 in /usr/local/lib/python3.6/dist-packages (from tensorboard<2.3.0,>=2.2.0->tensorflow-gpu) (49.1.0)\n",
            "Requirement already satisfied: tensorboard-plugin-wit>=1.6.0 in /usr/local/lib/python3.6/dist-packages (from tensorboard<2.3.0,>=2.2.0->tensorflow-gpu) (1.7.0)\n",
            "Requirement already satisfied: werkzeug>=0.11.15 in /usr/local/lib/python3.6/dist-packages (from tensorboard<2.3.0,>=2.2.0->tensorflow-gpu) (1.0.1)\n",
            "Requirement already satisfied: requests<3,>=2.21.0 in /usr/local/lib/python3.6/dist-packages (from tensorboard<2.3.0,>=2.2.0->tensorflow-gpu) (2.23.0)\n",
            "Requirement already satisfied: rsa<5,>=3.1.4; python_version >= \"3\" in /usr/local/lib/python3.6/dist-packages (from google-auth<2,>=1.6.3->tensorboard<2.3.0,>=2.2.0->tensorflow-gpu) (4.6)\n",
            "Requirement already satisfied: cachetools<5.0,>=2.0.0 in /usr/local/lib/python3.6/dist-packages (from google-auth<2,>=1.6.3->tensorboard<2.3.0,>=2.2.0->tensorflow-gpu) (4.1.1)\n",
            "Requirement already satisfied: pyasn1-modules>=0.2.1 in /usr/local/lib/python3.6/dist-packages (from google-auth<2,>=1.6.3->tensorboard<2.3.0,>=2.2.0->tensorflow-gpu) (0.2.8)\n",
            "Requirement already satisfied: requests-oauthlib>=0.7.0 in /usr/local/lib/python3.6/dist-packages (from google-auth-oauthlib<0.5,>=0.4.1->tensorboard<2.3.0,>=2.2.0->tensorflow-gpu) (1.3.0)\n",
            "Requirement already satisfied: importlib-metadata; python_version < \"3.8\" in /usr/local/lib/python3.6/dist-packages (from markdown>=2.6.8->tensorboard<2.3.0,>=2.2.0->tensorflow-gpu) (1.7.0)\n",
            "Requirement already satisfied: chardet<4,>=3.0.2 in /usr/local/lib/python3.6/dist-packages (from requests<3,>=2.21.0->tensorboard<2.3.0,>=2.2.0->tensorflow-gpu) (3.0.4)\n",
            "Requirement already satisfied: urllib3!=1.25.0,!=1.25.1,<1.26,>=1.21.1 in /usr/local/lib/python3.6/dist-packages (from requests<3,>=2.21.0->tensorboard<2.3.0,>=2.2.0->tensorflow-gpu) (1.24.3)\n",
            "Requirement already satisfied: certifi>=2017.4.17 in /usr/local/lib/python3.6/dist-packages (from requests<3,>=2.21.0->tensorboard<2.3.0,>=2.2.0->tensorflow-gpu) (2020.6.20)\n",
            "Requirement already satisfied: idna<3,>=2.5 in /usr/local/lib/python3.6/dist-packages (from requests<3,>=2.21.0->tensorboard<2.3.0,>=2.2.0->tensorflow-gpu) (2.10)\n",
            "Requirement already satisfied: pyasn1>=0.1.3 in /usr/local/lib/python3.6/dist-packages (from rsa<5,>=3.1.4; python_version >= \"3\"->google-auth<2,>=1.6.3->tensorboard<2.3.0,>=2.2.0->tensorflow-gpu) (0.4.8)\n",
            "Requirement already satisfied: oauthlib>=3.0.0 in /usr/local/lib/python3.6/dist-packages (from requests-oauthlib>=0.7.0->google-auth-oauthlib<0.5,>=0.4.1->tensorboard<2.3.0,>=2.2.0->tensorflow-gpu) (3.1.0)\n",
            "Requirement already satisfied: zipp>=0.5 in /usr/local/lib/python3.6/dist-packages (from importlib-metadata; python_version < \"3.8\"->markdown>=2.6.8->tensorboard<2.3.0,>=2.2.0->tensorflow-gpu) (3.1.0)\n",
            "Installing collected packages: tensorflow-gpu\n",
            "Successfully installed tensorflow-gpu-2.2.0\n"
          ],
          "name": "stdout"
        }
      ]
    },
    {
      "cell_type": "code",
      "metadata": {
        "id": "mXhX5r5Hb1Oo",
        "colab_type": "code",
        "colab": {
          "base_uri": "https://localhost:8080/",
          "height": 35
        },
        "outputId": "5fe459a8-cf9b-4f4e-b7bb-2422355012fd"
      },
      "source": [
        "from keras.datasets import cifar10"
      ],
      "execution_count": 3,
      "outputs": [
        {
          "output_type": "stream",
          "text": [
            "Using TensorFlow backend.\n"
          ],
          "name": "stderr"
        }
      ]
    },
    {
      "cell_type": "code",
      "metadata": {
        "id": "9X_dSPabb1Rp",
        "colab_type": "code",
        "colab": {
          "base_uri": "https://localhost:8080/",
          "height": 53
        },
        "outputId": "b8318366-7f4f-4ec9-9431-a1f8be744aeb"
      },
      "source": [
        "(X_train, y_train) , (X_test, y_test) = cifar10.load_data()"
      ],
      "execution_count": 4,
      "outputs": [
        {
          "output_type": "stream",
          "text": [
            "Downloading data from https://www.cs.toronto.edu/~kriz/cifar-10-python.tar.gz\n",
            "170500096/170498071 [==============================] - 6s 0us/step\n"
          ],
          "name": "stdout"
        }
      ]
    },
    {
      "cell_type": "code",
      "metadata": {
        "id": "mEP2-H30b1Uj",
        "colab_type": "code",
        "colab": {
          "base_uri": "https://localhost:8080/",
          "height": 89
        },
        "outputId": "b3229f1a-a853-4343-f3f2-27e03f7ef274"
      },
      "source": [
        "print('X_train shape - ',X_train.shape)\n",
        "print('X_test shape - ',X_test.shape)\n",
        "print('y_train shape - ',y_train.shape)\n",
        "print('y_test shape - ',y_test.shape)"
      ],
      "execution_count": 5,
      "outputs": [
        {
          "output_type": "stream",
          "text": [
            "X_train shape -  (50000, 32, 32, 3)\n",
            "X_test shape -  (10000, 32, 32, 3)\n",
            "y_train shape -  (50000, 1)\n",
            "y_test shape -  (10000, 1)\n"
          ],
          "name": "stdout"
        }
      ]
    },
    {
      "cell_type": "code",
      "metadata": {
        "id": "VllkubBib1XQ",
        "colab_type": "code",
        "colab": {}
      },
      "source": [
        "X_train = X_train.astype('float32')\n",
        "X_test = X_test.astype('float32')\n",
        "X_train = X_train/255\n",
        "X_test = X_test/255"
      ],
      "execution_count": 6,
      "outputs": []
    },
    {
      "cell_type": "code",
      "metadata": {
        "id": "ihzb1xXMb1Zy",
        "colab_type": "code",
        "colab": {}
      },
      "source": [
        "import keras\n",
        "y_train = keras.utils.to_categorical(y_train, 10)\n",
        "y_test = keras.utils.to_categorical(y_test, 10)"
      ],
      "execution_count": 7,
      "outputs": []
    },
    {
      "cell_type": "code",
      "metadata": {
        "id": "cWCFNz3-cK4s",
        "colab_type": "code",
        "colab": {
          "base_uri": "https://localhost:8080/",
          "height": 35
        },
        "outputId": "6acadc2f-8f3c-4098-b60f-bc05bf381653"
      },
      "source": [
        "Input_shape = X_train.shape[1:]\n",
        "Input_shape"
      ],
      "execution_count": 8,
      "outputs": [
        {
          "output_type": "execute_result",
          "data": {
            "text/plain": [
              "(32, 32, 3)"
            ]
          },
          "metadata": {
            "tags": []
          },
          "execution_count": 8
        }
      ]
    },
    {
      "cell_type": "code",
      "metadata": {
        "id": "eojuxAoLcK-z",
        "colab_type": "code",
        "colab": {}
      },
      "source": [
        "import keras\n",
        "from keras.models import Sequential\n",
        "from keras.layers import Conv2D,Dense,AveragePooling2D,MaxPooling2D, Flatten, Dropout\n",
        "from keras.optimizers import Adam\n",
        "from keras.callbacks import TensorBoard\n",
        "from keras.layers import BatchNormalization"
      ],
      "execution_count": 9,
      "outputs": []
    },
    {
      "cell_type": "code",
      "metadata": {
        "id": "V7_Aci_hcK7_",
        "colab_type": "code",
        "colab": {}
      },
      "source": [
        "cnn_model = Sequential()\n",
        "cnn_model.add(Conv2D(filters = 32, kernel_size = (3,3), activation = 'relu', kernel_initializer='he_uniform', padding='same',input_shape = Input_shape))\n",
        "cnn_model.add(BatchNormalization())\n",
        "cnn_model.add(Conv2D(filters = 32, kernel_size = (3,3), activation = 'relu', kernel_initializer='he_uniform',padding='same'))\n",
        "cnn_model.add(BatchNormalization())\n",
        "cnn_model.add(MaxPooling2D(2,2))\n",
        "cnn_model.add(Dropout(0.2))\n",
        "\n",
        "cnn_model.add(Conv2D(filters = 64, kernel_size = (3,3), activation = 'relu', kernel_initializer='he_uniform', padding='same',input_shape = Input_shape))\n",
        "cnn_model.add(BatchNormalization())\n",
        "cnn_model.add(Conv2D(filters = 64, kernel_size = (3,3), activation = 'relu', kernel_initializer='he_uniform',padding='same'))\n",
        "cnn_model.add(BatchNormalization())\n",
        "cnn_model.add(MaxPooling2D(2,2))\n",
        "cnn_model.add(Dropout(0.3))\n",
        "\n",
        "\n",
        "cnn_model.add(Conv2D(filters = 128, kernel_size = (3,3), activation = 'relu', kernel_initializer='he_uniform',padding='same'))\n",
        "cnn_model.add(BatchNormalization())\n",
        "cnn_model.add(Conv2D(filters = 128, kernel_size = (3,3), activation = 'relu', kernel_initializer='he_uniform',padding='same'))\n",
        "cnn_model.add(BatchNormalization())\n",
        "cnn_model.add(AveragePooling2D(2,2))\n",
        "cnn_model.add(Dropout(0.4))\n",
        "\n",
        "cnn_model.add(Flatten())\n",
        "\n",
        "cnn_model.add(Dense(units = 1024, activation = 'relu', kernel_initializer='he_uniform'))\n",
        "cnn_model.add(BatchNormalization())\n",
        "cnn_model.add(Dropout(0.5))\n",
        "\n",
        "cnn_model.add(Dense(units = 10, activation = 'softmax'))"
      ],
      "execution_count": 10,
      "outputs": []
    },
    {
      "cell_type": "code",
      "metadata": {
        "id": "QLc0xYhHcK2p",
        "colab_type": "code",
        "colab": {}
      },
      "source": [
        "cnn_model.compile(loss = 'categorical_crossentropy', optimizer = Adam(lr=0.001,beta_1=0.9,beta_2=0.999), metrics = ['accuracy'])"
      ],
      "execution_count": 11,
      "outputs": []
    },
    {
      "cell_type": "code",
      "metadata": {
        "id": "zhc9rItjcKx3",
        "colab_type": "code",
        "colab": {
          "base_uri": "https://localhost:8080/",
          "height": 989
        },
        "outputId": "e80b0719-014a-4a8e-c670-73a92c26b1e9"
      },
      "source": [
        "cnn_model.summary()"
      ],
      "execution_count": 12,
      "outputs": [
        {
          "output_type": "stream",
          "text": [
            "Model: \"sequential_1\"\n",
            "_________________________________________________________________\n",
            "Layer (type)                 Output Shape              Param #   \n",
            "=================================================================\n",
            "conv2d_1 (Conv2D)            (None, 32, 32, 32)        896       \n",
            "_________________________________________________________________\n",
            "batch_normalization_1 (Batch (None, 32, 32, 32)        128       \n",
            "_________________________________________________________________\n",
            "conv2d_2 (Conv2D)            (None, 32, 32, 32)        9248      \n",
            "_________________________________________________________________\n",
            "batch_normalization_2 (Batch (None, 32, 32, 32)        128       \n",
            "_________________________________________________________________\n",
            "max_pooling2d_1 (MaxPooling2 (None, 16, 16, 32)        0         \n",
            "_________________________________________________________________\n",
            "dropout_1 (Dropout)          (None, 16, 16, 32)        0         \n",
            "_________________________________________________________________\n",
            "conv2d_3 (Conv2D)            (None, 16, 16, 64)        18496     \n",
            "_________________________________________________________________\n",
            "batch_normalization_3 (Batch (None, 16, 16, 64)        256       \n",
            "_________________________________________________________________\n",
            "conv2d_4 (Conv2D)            (None, 16, 16, 64)        36928     \n",
            "_________________________________________________________________\n",
            "batch_normalization_4 (Batch (None, 16, 16, 64)        256       \n",
            "_________________________________________________________________\n",
            "max_pooling2d_2 (MaxPooling2 (None, 8, 8, 64)          0         \n",
            "_________________________________________________________________\n",
            "dropout_2 (Dropout)          (None, 8, 8, 64)          0         \n",
            "_________________________________________________________________\n",
            "conv2d_5 (Conv2D)            (None, 8, 8, 128)         73856     \n",
            "_________________________________________________________________\n",
            "batch_normalization_5 (Batch (None, 8, 8, 128)         512       \n",
            "_________________________________________________________________\n",
            "conv2d_6 (Conv2D)            (None, 8, 8, 128)         147584    \n",
            "_________________________________________________________________\n",
            "batch_normalization_6 (Batch (None, 8, 8, 128)         512       \n",
            "_________________________________________________________________\n",
            "average_pooling2d_1 (Average (None, 4, 4, 128)         0         \n",
            "_________________________________________________________________\n",
            "dropout_3 (Dropout)          (None, 4, 4, 128)         0         \n",
            "_________________________________________________________________\n",
            "flatten_1 (Flatten)          (None, 2048)              0         \n",
            "_________________________________________________________________\n",
            "dense_1 (Dense)              (None, 1024)              2098176   \n",
            "_________________________________________________________________\n",
            "batch_normalization_7 (Batch (None, 1024)              4096      \n",
            "_________________________________________________________________\n",
            "dropout_4 (Dropout)          (None, 1024)              0         \n",
            "_________________________________________________________________\n",
            "dense_2 (Dense)              (None, 10)                10250     \n",
            "=================================================================\n",
            "Total params: 2,401,322\n",
            "Trainable params: 2,398,378\n",
            "Non-trainable params: 2,944\n",
            "_________________________________________________________________\n"
          ],
          "name": "stdout"
        }
      ]
    },
    {
      "cell_type": "code",
      "metadata": {
        "id": "ilqed68kb1cu",
        "colab_type": "code",
        "colab": {
          "base_uri": "https://localhost:8080/",
          "height": 755
        },
        "outputId": "7fa843ab-274c-4aef-b861-19acd49532f5"
      },
      "source": [
        "history = cnn_model.fit(X_train, y_train, batch_size = 64, epochs = 20, shuffle = True,validation_data=(X_test,y_test))"
      ],
      "execution_count": 13,
      "outputs": [
        {
          "output_type": "stream",
          "text": [
            "Train on 50000 samples, validate on 10000 samples\n",
            "Epoch 1/20\n",
            "50000/50000 [==============================] - 49s 972us/step - loss: 1.6714 - accuracy: 0.4649 - val_loss: 1.2315 - val_accuracy: 0.5827\n",
            "Epoch 2/20\n",
            "50000/50000 [==============================] - 41s 818us/step - loss: 1.0697 - accuracy: 0.6270 - val_loss: 0.8894 - val_accuracy: 0.6835\n",
            "Epoch 3/20\n",
            "50000/50000 [==============================] - 41s 819us/step - loss: 0.8621 - accuracy: 0.6971 - val_loss: 0.7227 - val_accuracy: 0.7540\n",
            "Epoch 4/20\n",
            "50000/50000 [==============================] - 41s 812us/step - loss: 0.7529 - accuracy: 0.7364 - val_loss: 0.6943 - val_accuracy: 0.7632\n",
            "Epoch 5/20\n",
            "50000/50000 [==============================] - 41s 818us/step - loss: 0.6743 - accuracy: 0.7652 - val_loss: 0.6109 - val_accuracy: 0.7922\n",
            "Epoch 6/20\n",
            "50000/50000 [==============================] - 41s 819us/step - loss: 0.6228 - accuracy: 0.7834 - val_loss: 0.5986 - val_accuracy: 0.7928\n",
            "Epoch 7/20\n",
            "50000/50000 [==============================] - 41s 817us/step - loss: 0.5703 - accuracy: 0.8010 - val_loss: 0.5809 - val_accuracy: 0.8054\n",
            "Epoch 8/20\n",
            "50000/50000 [==============================] - 41s 815us/step - loss: 0.5330 - accuracy: 0.8141 - val_loss: 0.5972 - val_accuracy: 0.8051\n",
            "Epoch 9/20\n",
            "50000/50000 [==============================] - 41s 818us/step - loss: 0.4992 - accuracy: 0.8264 - val_loss: 0.5301 - val_accuracy: 0.8222\n",
            "Epoch 10/20\n",
            "50000/50000 [==============================] - 41s 810us/step - loss: 0.4675 - accuracy: 0.8370 - val_loss: 0.5775 - val_accuracy: 0.8112\n",
            "Epoch 11/20\n",
            "50000/50000 [==============================] - 40s 806us/step - loss: 0.4437 - accuracy: 0.8451 - val_loss: 0.5447 - val_accuracy: 0.8255\n",
            "Epoch 12/20\n",
            "50000/50000 [==============================] - 40s 807us/step - loss: 0.4179 - accuracy: 0.8523 - val_loss: 0.5030 - val_accuracy: 0.8382\n",
            "Epoch 13/20\n",
            "50000/50000 [==============================] - 41s 815us/step - loss: 0.3951 - accuracy: 0.8624 - val_loss: 0.5469 - val_accuracy: 0.8328\n",
            "Epoch 14/20\n",
            "50000/50000 [==============================] - 40s 800us/step - loss: 0.3781 - accuracy: 0.8674 - val_loss: 0.4737 - val_accuracy: 0.8451\n",
            "Epoch 15/20\n",
            "50000/50000 [==============================] - 41s 811us/step - loss: 0.3541 - accuracy: 0.8764 - val_loss: 0.4976 - val_accuracy: 0.8445\n",
            "Epoch 16/20\n",
            "50000/50000 [==============================] - 40s 806us/step - loss: 0.3458 - accuracy: 0.8782 - val_loss: 0.5533 - val_accuracy: 0.8258\n",
            "Epoch 17/20\n",
            "50000/50000 [==============================] - 40s 802us/step - loss: 0.3304 - accuracy: 0.8857 - val_loss: 0.4997 - val_accuracy: 0.8488\n",
            "Epoch 18/20\n",
            "50000/50000 [==============================] - 41s 811us/step - loss: 0.3178 - accuracy: 0.8875 - val_loss: 0.5142 - val_accuracy: 0.8434\n",
            "Epoch 19/20\n",
            "50000/50000 [==============================] - 41s 815us/step - loss: 0.3009 - accuracy: 0.8932 - val_loss: 0.5172 - val_accuracy: 0.8501\n",
            "Epoch 20/20\n",
            "50000/50000 [==============================] - 41s 818us/step - loss: 0.2938 - accuracy: 0.8967 - val_loss: 0.4772 - val_accuracy: 0.8546\n"
          ],
          "name": "stdout"
        }
      ]
    },
    {
      "cell_type": "code",
      "metadata": {
        "id": "0nciTsgbchWq",
        "colab_type": "code",
        "colab": {
          "base_uri": "https://localhost:8080/",
          "height": 53
        },
        "outputId": "2bd89599-ef02-4484-9d33-542d7f1c42fb"
      },
      "source": [
        "evaluation = cnn_model.evaluate(X_test, y_test)\n",
        "print('Test Accuracy: {}'.format(evaluation[1]))"
      ],
      "execution_count": 14,
      "outputs": [
        {
          "output_type": "stream",
          "text": [
            "10000/10000 [==============================] - 3s 331us/step\n",
            "Test Accuracy: 0.8546000123023987\n"
          ],
          "name": "stdout"
        }
      ]
    },
    {
      "cell_type": "code",
      "metadata": {
        "id": "zJvvPbfMclq4",
        "colab_type": "code",
        "colab": {}
      },
      "source": [
        "from keras.preprocessing.image import ImageDataGenerator\n",
        "\n",
        "datagen = ImageDataGenerator(\n",
        "                            \n",
        "                            \n",
        "                            width_shift_range=0.1,\n",
        "                             height_shift_range=0.1,\n",
        "                             shear_range=0.1,\n",
        "                             zoom_range=0.1,\n",
        "                            horizontal_flip = True,\n",
        "                            \n",
        "                             )\n",
        "datagen.fit(X_train)"
      ],
      "execution_count": 15,
      "outputs": []
    },
    {
      "cell_type": "code",
      "metadata": {
        "id": "nOHpQKlLcluV",
        "colab_type": "code",
        "colab": {
          "base_uri": "https://localhost:8080/",
          "height": 1000
        },
        "outputId": "d57b7e70-cfb3-41a7-cd0f-095919754883"
      },
      "source": [
        "cnn_model.fit_generator(datagen.flow(X_train, y_train, batch_size = 64), epochs = 200)"
      ],
      "execution_count": 16,
      "outputs": [
        {
          "output_type": "stream",
          "text": [
            "Epoch 1/200\n",
            "782/782 [==============================] - 50s 64ms/step - loss: 0.6120 - accuracy: 0.7955\n",
            "Epoch 2/200\n",
            "782/782 [==============================] - 50s 64ms/step - loss: 0.5443 - accuracy: 0.8155\n",
            "Epoch 3/200\n",
            "782/782 [==============================] - 50s 64ms/step - loss: 0.5287 - accuracy: 0.8178\n",
            "Epoch 4/200\n",
            "782/782 [==============================] - 50s 64ms/step - loss: 0.5144 - accuracy: 0.8234\n",
            "Epoch 5/200\n",
            "782/782 [==============================] - 50s 65ms/step - loss: 0.5068 - accuracy: 0.8234\n",
            "Epoch 6/200\n",
            "782/782 [==============================] - 50s 64ms/step - loss: 0.4871 - accuracy: 0.8323\n",
            "Epoch 7/200\n",
            "782/782 [==============================] - 50s 64ms/step - loss: 0.4837 - accuracy: 0.8316\n",
            "Epoch 8/200\n",
            "782/782 [==============================] - 49s 63ms/step - loss: 0.4746 - accuracy: 0.8374\n",
            "Epoch 9/200\n",
            "782/782 [==============================] - 49s 63ms/step - loss: 0.4611 - accuracy: 0.8389\n",
            "Epoch 10/200\n",
            "782/782 [==============================] - 50s 63ms/step - loss: 0.4586 - accuracy: 0.8412\n",
            "Epoch 11/200\n",
            "782/782 [==============================] - 49s 63ms/step - loss: 0.4521 - accuracy: 0.8439\n",
            "Epoch 12/200\n",
            "782/782 [==============================] - 50s 63ms/step - loss: 0.4366 - accuracy: 0.8486\n",
            "Epoch 13/200\n",
            "782/782 [==============================] - 50s 64ms/step - loss: 0.4438 - accuracy: 0.8476\n",
            "Epoch 14/200\n",
            "782/782 [==============================] - 50s 64ms/step - loss: 0.4291 - accuracy: 0.8510\n",
            "Epoch 15/200\n",
            "782/782 [==============================] - 50s 64ms/step - loss: 0.4265 - accuracy: 0.8522\n",
            "Epoch 16/200\n",
            "782/782 [==============================] - 50s 64ms/step - loss: 0.4211 - accuracy: 0.8523\n",
            "Epoch 17/200\n",
            "782/782 [==============================] - 50s 64ms/step - loss: 0.4151 - accuracy: 0.8557\n",
            "Epoch 18/200\n",
            "782/782 [==============================] - 50s 64ms/step - loss: 0.4067 - accuracy: 0.8595\n",
            "Epoch 19/200\n",
            "782/782 [==============================] - 50s 64ms/step - loss: 0.4024 - accuracy: 0.8590\n",
            "Epoch 20/200\n",
            "782/782 [==============================] - 50s 64ms/step - loss: 0.4083 - accuracy: 0.8575\n",
            "Epoch 21/200\n",
            "782/782 [==============================] - 51s 65ms/step - loss: 0.3939 - accuracy: 0.8644\n",
            "Epoch 22/200\n",
            "782/782 [==============================] - 50s 64ms/step - loss: 0.3914 - accuracy: 0.8650\n",
            "Epoch 23/200\n",
            "782/782 [==============================] - 51s 65ms/step - loss: 0.3874 - accuracy: 0.8643\n",
            "Epoch 24/200\n",
            "782/782 [==============================] - 51s 65ms/step - loss: 0.3844 - accuracy: 0.8656\n",
            "Epoch 25/200\n",
            "782/782 [==============================] - 50s 64ms/step - loss: 0.3787 - accuracy: 0.8688\n",
            "Epoch 26/200\n",
            "782/782 [==============================] - 50s 64ms/step - loss: 0.3730 - accuracy: 0.8700\n",
            "Epoch 27/200\n",
            "782/782 [==============================] - 50s 64ms/step - loss: 0.3697 - accuracy: 0.8705\n",
            "Epoch 28/200\n",
            "782/782 [==============================] - 51s 65ms/step - loss: 0.3663 - accuracy: 0.8727\n",
            "Epoch 29/200\n",
            "782/782 [==============================] - 51s 65ms/step - loss: 0.3695 - accuracy: 0.8724\n",
            "Epoch 30/200\n",
            "782/782 [==============================] - 51s 65ms/step - loss: 0.3637 - accuracy: 0.8743\n",
            "Epoch 31/200\n",
            "782/782 [==============================] - 51s 65ms/step - loss: 0.3641 - accuracy: 0.8742\n",
            "Epoch 32/200\n",
            "782/782 [==============================] - 51s 65ms/step - loss: 0.3624 - accuracy: 0.8724\n",
            "Epoch 33/200\n",
            "782/782 [==============================] - 51s 65ms/step - loss: 0.3551 - accuracy: 0.8764\n",
            "Epoch 34/200\n",
            "782/782 [==============================] - 50s 65ms/step - loss: 0.3534 - accuracy: 0.8757\n",
            "Epoch 35/200\n",
            "782/782 [==============================] - 51s 65ms/step - loss: 0.3471 - accuracy: 0.8798\n",
            "Epoch 36/200\n",
            "782/782 [==============================] - 50s 65ms/step - loss: 0.3463 - accuracy: 0.8787\n",
            "Epoch 37/200\n",
            "782/782 [==============================] - 51s 65ms/step - loss: 0.3433 - accuracy: 0.8801\n",
            "Epoch 38/200\n",
            "782/782 [==============================] - 51s 65ms/step - loss: 0.3441 - accuracy: 0.8808\n",
            "Epoch 39/200\n",
            "782/782 [==============================] - 51s 65ms/step - loss: 0.3414 - accuracy: 0.8798\n",
            "Epoch 40/200\n",
            "782/782 [==============================] - 51s 65ms/step - loss: 0.3367 - accuracy: 0.8822\n",
            "Epoch 41/200\n",
            "782/782 [==============================] - 51s 65ms/step - loss: 0.3357 - accuracy: 0.8834\n",
            "Epoch 42/200\n",
            "782/782 [==============================] - 50s 65ms/step - loss: 0.3329 - accuracy: 0.8832\n",
            "Epoch 43/200\n",
            "782/782 [==============================] - 51s 65ms/step - loss: 0.3366 - accuracy: 0.8827\n",
            "Epoch 44/200\n",
            "782/782 [==============================] - 51s 66ms/step - loss: 0.3294 - accuracy: 0.8846\n",
            "Epoch 45/200\n",
            "782/782 [==============================] - 51s 65ms/step - loss: 0.3305 - accuracy: 0.8851\n",
            "Epoch 46/200\n",
            "782/782 [==============================] - 51s 65ms/step - loss: 0.3257 - accuracy: 0.8862\n",
            "Epoch 47/200\n",
            "782/782 [==============================] - 51s 65ms/step - loss: 0.3209 - accuracy: 0.8879\n",
            "Epoch 48/200\n",
            "782/782 [==============================] - 50s 64ms/step - loss: 0.3207 - accuracy: 0.8867\n",
            "Epoch 49/200\n",
            "782/782 [==============================] - 51s 65ms/step - loss: 0.3206 - accuracy: 0.8881\n",
            "Epoch 50/200\n",
            "782/782 [==============================] - 51s 65ms/step - loss: 0.3186 - accuracy: 0.8899\n",
            "Epoch 51/200\n",
            "782/782 [==============================] - 51s 65ms/step - loss: 0.3135 - accuracy: 0.8911\n",
            "Epoch 52/200\n",
            "782/782 [==============================] - 51s 65ms/step - loss: 0.3113 - accuracy: 0.8912\n",
            "Epoch 53/200\n",
            "782/782 [==============================] - 51s 65ms/step - loss: 0.3112 - accuracy: 0.8917\n",
            "Epoch 54/200\n",
            "782/782 [==============================] - 50s 64ms/step - loss: 0.3083 - accuracy: 0.8925\n",
            "Epoch 55/200\n",
            "782/782 [==============================] - 50s 64ms/step - loss: 0.3138 - accuracy: 0.8913\n",
            "Epoch 56/200\n",
            "782/782 [==============================] - 50s 64ms/step - loss: 0.3036 - accuracy: 0.8950\n",
            "Epoch 57/200\n",
            "782/782 [==============================] - 50s 64ms/step - loss: 0.3062 - accuracy: 0.8922\n",
            "Epoch 58/200\n",
            "782/782 [==============================] - 51s 65ms/step - loss: 0.3110 - accuracy: 0.8909\n",
            "Epoch 59/200\n",
            "782/782 [==============================] - 50s 65ms/step - loss: 0.3032 - accuracy: 0.8942\n",
            "Epoch 60/200\n",
            "782/782 [==============================] - 51s 65ms/step - loss: 0.3048 - accuracy: 0.8942\n",
            "Epoch 61/200\n",
            "782/782 [==============================] - 51s 65ms/step - loss: 0.3021 - accuracy: 0.8944\n",
            "Epoch 62/200\n",
            "782/782 [==============================] - 51s 65ms/step - loss: 0.3085 - accuracy: 0.8935\n",
            "Epoch 63/200\n",
            "782/782 [==============================] - 51s 65ms/step - loss: 0.2981 - accuracy: 0.8959\n",
            "Epoch 64/200\n",
            "782/782 [==============================] - 51s 65ms/step - loss: 0.2973 - accuracy: 0.8958\n",
            "Epoch 65/200\n",
            "782/782 [==============================] - 51s 65ms/step - loss: 0.2946 - accuracy: 0.8970\n",
            "Epoch 66/200\n",
            "782/782 [==============================] - 50s 65ms/step - loss: 0.2938 - accuracy: 0.8965\n",
            "Epoch 67/200\n",
            "782/782 [==============================] - 50s 64ms/step - loss: 0.2917 - accuracy: 0.8968\n",
            "Epoch 68/200\n",
            "782/782 [==============================] - 50s 63ms/step - loss: 0.2898 - accuracy: 0.8984\n",
            "Epoch 69/200\n",
            "782/782 [==============================] - 49s 62ms/step - loss: 0.2919 - accuracy: 0.8972\n",
            "Epoch 70/200\n",
            "782/782 [==============================] - 49s 63ms/step - loss: 0.2903 - accuracy: 0.8977\n",
            "Epoch 71/200\n",
            "782/782 [==============================] - 50s 63ms/step - loss: 0.2873 - accuracy: 0.9000\n",
            "Epoch 72/200\n",
            "782/782 [==============================] - 49s 63ms/step - loss: 0.2869 - accuracy: 0.8990\n",
            "Epoch 73/200\n",
            "782/782 [==============================] - 50s 63ms/step - loss: 0.2812 - accuracy: 0.9012\n",
            "Epoch 74/200\n",
            "782/782 [==============================] - 49s 63ms/step - loss: 0.2807 - accuracy: 0.9002\n",
            "Epoch 75/200\n",
            "782/782 [==============================] - 49s 63ms/step - loss: 0.2834 - accuracy: 0.9006\n",
            "Epoch 76/200\n",
            "782/782 [==============================] - 48s 62ms/step - loss: 0.2838 - accuracy: 0.9022\n",
            "Epoch 77/200\n",
            "782/782 [==============================] - 49s 62ms/step - loss: 0.2809 - accuracy: 0.9019\n",
            "Epoch 78/200\n",
            "782/782 [==============================] - 49s 63ms/step - loss: 0.2785 - accuracy: 0.9013\n",
            "Epoch 79/200\n",
            "782/782 [==============================] - 49s 63ms/step - loss: 0.2727 - accuracy: 0.9036\n",
            "Epoch 80/200\n",
            "782/782 [==============================] - 49s 63ms/step - loss: 0.2768 - accuracy: 0.9037\n",
            "Epoch 81/200\n",
            "782/782 [==============================] - 49s 63ms/step - loss: 0.2737 - accuracy: 0.9037\n",
            "Epoch 82/200\n",
            "782/782 [==============================] - 50s 63ms/step - loss: 0.2761 - accuracy: 0.9023\n",
            "Epoch 83/200\n",
            "782/782 [==============================] - 50s 64ms/step - loss: 0.2698 - accuracy: 0.9058\n",
            "Epoch 84/200\n",
            "782/782 [==============================] - 50s 64ms/step - loss: 0.2716 - accuracy: 0.9050\n",
            "Epoch 85/200\n",
            "782/782 [==============================] - 49s 63ms/step - loss: 0.2745 - accuracy: 0.9026\n",
            "Epoch 86/200\n",
            "782/782 [==============================] - 49s 63ms/step - loss: 0.2693 - accuracy: 0.9053\n",
            "Epoch 87/200\n",
            "782/782 [==============================] - 50s 64ms/step - loss: 0.2674 - accuracy: 0.9056\n",
            "Epoch 88/200\n",
            "782/782 [==============================] - 50s 64ms/step - loss: 0.2685 - accuracy: 0.9045\n",
            "Epoch 89/200\n",
            "782/782 [==============================] - 50s 63ms/step - loss: 0.2736 - accuracy: 0.9028\n",
            "Epoch 90/200\n",
            "782/782 [==============================] - 50s 64ms/step - loss: 0.2696 - accuracy: 0.9052\n",
            "Epoch 91/200\n",
            "782/782 [==============================] - 50s 64ms/step - loss: 0.2627 - accuracy: 0.9069\n",
            "Epoch 92/200\n",
            "782/782 [==============================] - 50s 63ms/step - loss: 0.2634 - accuracy: 0.9070\n",
            "Epoch 93/200\n",
            "782/782 [==============================] - 50s 64ms/step - loss: 0.2645 - accuracy: 0.9069\n",
            "Epoch 94/200\n",
            "782/782 [==============================] - 50s 64ms/step - loss: 0.2582 - accuracy: 0.9087\n",
            "Epoch 95/200\n",
            "782/782 [==============================] - 50s 65ms/step - loss: 0.2615 - accuracy: 0.9085\n",
            "Epoch 96/200\n",
            "782/782 [==============================] - 50s 64ms/step - loss: 0.2582 - accuracy: 0.9098\n",
            "Epoch 97/200\n",
            "782/782 [==============================] - 50s 64ms/step - loss: 0.2596 - accuracy: 0.9081\n",
            "Epoch 98/200\n",
            "782/782 [==============================] - 50s 64ms/step - loss: 0.2570 - accuracy: 0.9104\n",
            "Epoch 99/200\n",
            "782/782 [==============================] - 50s 64ms/step - loss: 0.2586 - accuracy: 0.9090\n",
            "Epoch 100/200\n",
            "782/782 [==============================] - 51s 65ms/step - loss: 0.2616 - accuracy: 0.9063\n",
            "Epoch 101/200\n",
            "782/782 [==============================] - 51s 65ms/step - loss: 0.2560 - accuracy: 0.9082\n",
            "Epoch 102/200\n",
            "782/782 [==============================] - 50s 65ms/step - loss: 0.2561 - accuracy: 0.9101\n",
            "Epoch 103/200\n",
            "782/782 [==============================] - 50s 64ms/step - loss: 0.2545 - accuracy: 0.9093\n",
            "Epoch 104/200\n",
            "782/782 [==============================] - 50s 64ms/step - loss: 0.2570 - accuracy: 0.9086\n",
            "Epoch 105/200\n",
            "782/782 [==============================] - 50s 64ms/step - loss: 0.2517 - accuracy: 0.9103\n",
            "Epoch 106/200\n",
            "782/782 [==============================] - 50s 64ms/step - loss: 0.2576 - accuracy: 0.9096\n",
            "Epoch 107/200\n",
            "782/782 [==============================] - 49s 63ms/step - loss: 0.2510 - accuracy: 0.9121\n",
            "Epoch 108/200\n",
            "782/782 [==============================] - 49s 63ms/step - loss: 0.2472 - accuracy: 0.9124\n",
            "Epoch 109/200\n",
            "782/782 [==============================] - 49s 63ms/step - loss: 0.2482 - accuracy: 0.9127\n",
            "Epoch 110/200\n",
            "782/782 [==============================] - 49s 63ms/step - loss: 0.2461 - accuracy: 0.9137\n",
            "Epoch 111/200\n",
            "782/782 [==============================] - 49s 62ms/step - loss: 0.2473 - accuracy: 0.9130\n",
            "Epoch 112/200\n",
            "782/782 [==============================] - 49s 63ms/step - loss: 0.2453 - accuracy: 0.9139\n",
            "Epoch 113/200\n",
            "782/782 [==============================] - 48s 62ms/step - loss: 0.2438 - accuracy: 0.9139\n",
            "Epoch 114/200\n",
            "782/782 [==============================] - 49s 63ms/step - loss: 0.2465 - accuracy: 0.9127\n",
            "Epoch 115/200\n",
            "782/782 [==============================] - 49s 63ms/step - loss: 0.2469 - accuracy: 0.9133\n",
            "Epoch 116/200\n",
            "782/782 [==============================] - 49s 63ms/step - loss: 0.2461 - accuracy: 0.9147\n",
            "Epoch 117/200\n",
            "782/782 [==============================] - 49s 63ms/step - loss: 0.2422 - accuracy: 0.9151\n",
            "Epoch 118/200\n",
            "782/782 [==============================] - 49s 62ms/step - loss: 0.2406 - accuracy: 0.9170\n",
            "Epoch 119/200\n",
            "782/782 [==============================] - 49s 63ms/step - loss: 0.2429 - accuracy: 0.9147\n",
            "Epoch 120/200\n",
            "782/782 [==============================] - 48s 62ms/step - loss: 0.2438 - accuracy: 0.9135\n",
            "Epoch 121/200\n",
            "782/782 [==============================] - 48s 61ms/step - loss: 0.2446 - accuracy: 0.9135\n",
            "Epoch 122/200\n",
            "782/782 [==============================] - 48s 62ms/step - loss: 0.2383 - accuracy: 0.9157\n",
            "Epoch 123/200\n",
            "782/782 [==============================] - 49s 63ms/step - loss: 0.2399 - accuracy: 0.9149\n",
            "Epoch 124/200\n",
            "782/782 [==============================] - 49s 63ms/step - loss: 0.2371 - accuracy: 0.9170\n",
            "Epoch 125/200\n",
            "782/782 [==============================] - 49s 63ms/step - loss: 0.2426 - accuracy: 0.9146\n",
            "Epoch 126/200\n",
            "782/782 [==============================] - 50s 63ms/step - loss: 0.2407 - accuracy: 0.9162\n",
            "Epoch 127/200\n",
            "782/782 [==============================] - 50s 64ms/step - loss: 0.2370 - accuracy: 0.9162\n",
            "Epoch 128/200\n",
            "782/782 [==============================] - 50s 64ms/step - loss: 0.2442 - accuracy: 0.9136\n",
            "Epoch 129/200\n",
            "782/782 [==============================] - 50s 64ms/step - loss: 0.2393 - accuracy: 0.9161\n",
            "Epoch 130/200\n",
            "782/782 [==============================] - 50s 64ms/step - loss: 0.2315 - accuracy: 0.9180\n",
            "Epoch 131/200\n",
            "782/782 [==============================] - 50s 64ms/step - loss: 0.2326 - accuracy: 0.9182\n",
            "Epoch 132/200\n",
            "782/782 [==============================] - 50s 64ms/step - loss: 0.2353 - accuracy: 0.9157\n",
            "Epoch 133/200\n",
            "782/782 [==============================] - 50s 64ms/step - loss: 0.2323 - accuracy: 0.9171\n",
            "Epoch 134/200\n",
            "782/782 [==============================] - 50s 64ms/step - loss: 0.2346 - accuracy: 0.9170\n",
            "Epoch 135/200\n",
            "782/782 [==============================] - 50s 64ms/step - loss: 0.2335 - accuracy: 0.9183\n",
            "Epoch 136/200\n",
            "782/782 [==============================] - 50s 64ms/step - loss: 0.2350 - accuracy: 0.9184\n",
            "Epoch 137/200\n",
            "782/782 [==============================] - 50s 64ms/step - loss: 0.2316 - accuracy: 0.9190\n",
            "Epoch 138/200\n",
            "782/782 [==============================] - 51s 65ms/step - loss: 0.2269 - accuracy: 0.9191\n",
            "Epoch 139/200\n",
            "782/782 [==============================] - 51s 65ms/step - loss: 0.2317 - accuracy: 0.9183\n",
            "Epoch 140/200\n",
            "782/782 [==============================] - 50s 64ms/step - loss: 0.2311 - accuracy: 0.9188\n",
            "Epoch 141/200\n",
            "782/782 [==============================] - 50s 64ms/step - loss: 0.2287 - accuracy: 0.9206\n",
            "Epoch 142/200\n",
            "782/782 [==============================] - 50s 64ms/step - loss: 0.2275 - accuracy: 0.9189\n",
            "Epoch 143/200\n",
            "782/782 [==============================] - 50s 64ms/step - loss: 0.2273 - accuracy: 0.9197\n",
            "Epoch 144/200\n",
            "782/782 [==============================] - 50s 65ms/step - loss: 0.2284 - accuracy: 0.9196\n",
            "Epoch 145/200\n",
            "782/782 [==============================] - 50s 64ms/step - loss: 0.2280 - accuracy: 0.9187\n",
            "Epoch 146/200\n",
            "782/782 [==============================] - 50s 64ms/step - loss: 0.2301 - accuracy: 0.9192\n",
            "Epoch 147/200\n",
            "782/782 [==============================] - 50s 64ms/step - loss: 0.2259 - accuracy: 0.9213\n",
            "Epoch 148/200\n",
            "782/782 [==============================] - 50s 65ms/step - loss: 0.2270 - accuracy: 0.9205\n",
            "Epoch 149/200\n",
            "782/782 [==============================] - 50s 64ms/step - loss: 0.2276 - accuracy: 0.9188\n",
            "Epoch 150/200\n",
            "782/782 [==============================] - 51s 65ms/step - loss: 0.2261 - accuracy: 0.9199\n",
            "Epoch 151/200\n",
            "782/782 [==============================] - 50s 64ms/step - loss: 0.2270 - accuracy: 0.9205\n",
            "Epoch 152/200\n",
            "782/782 [==============================] - 50s 64ms/step - loss: 0.2217 - accuracy: 0.9224\n",
            "Epoch 153/200\n",
            "782/782 [==============================] - 50s 64ms/step - loss: 0.2264 - accuracy: 0.9214\n",
            "Epoch 154/200\n",
            "782/782 [==============================] - 50s 64ms/step - loss: 0.2201 - accuracy: 0.9211\n",
            "Epoch 155/200\n",
            "782/782 [==============================] - 50s 64ms/step - loss: 0.2233 - accuracy: 0.9209\n",
            "Epoch 156/200\n",
            "782/782 [==============================] - 51s 65ms/step - loss: 0.2266 - accuracy: 0.9202\n",
            "Epoch 157/200\n",
            "782/782 [==============================] - 50s 65ms/step - loss: 0.2249 - accuracy: 0.9208\n",
            "Epoch 158/200\n",
            "782/782 [==============================] - 50s 64ms/step - loss: 0.2249 - accuracy: 0.9209\n",
            "Epoch 159/200\n",
            "782/782 [==============================] - 50s 64ms/step - loss: 0.2215 - accuracy: 0.9214\n",
            "Epoch 160/200\n",
            "782/782 [==============================] - 50s 64ms/step - loss: 0.2215 - accuracy: 0.9227\n",
            "Epoch 161/200\n",
            "782/782 [==============================] - 50s 64ms/step - loss: 0.2174 - accuracy: 0.9228\n",
            "Epoch 162/200\n",
            "782/782 [==============================] - 50s 64ms/step - loss: 0.2274 - accuracy: 0.9214\n",
            "Epoch 163/200\n",
            "782/782 [==============================] - 50s 64ms/step - loss: 0.2191 - accuracy: 0.9224\n",
            "Epoch 164/200\n",
            "782/782 [==============================] - 50s 64ms/step - loss: 0.2185 - accuracy: 0.9226\n",
            "Epoch 165/200\n",
            "782/782 [==============================] - 50s 64ms/step - loss: 0.2209 - accuracy: 0.9226\n",
            "Epoch 166/200\n",
            "782/782 [==============================] - 50s 64ms/step - loss: 0.2165 - accuracy: 0.9229\n",
            "Epoch 167/200\n",
            "782/782 [==============================] - 51s 65ms/step - loss: 0.2184 - accuracy: 0.9219\n",
            "Epoch 168/200\n",
            "782/782 [==============================] - 51s 65ms/step - loss: 0.2230 - accuracy: 0.9213\n",
            "Epoch 169/200\n",
            "782/782 [==============================] - 51s 65ms/step - loss: 0.2182 - accuracy: 0.9221\n",
            "Epoch 170/200\n",
            "782/782 [==============================] - 50s 64ms/step - loss: 0.2157 - accuracy: 0.9241\n",
            "Epoch 171/200\n",
            "782/782 [==============================] - 50s 64ms/step - loss: 0.2130 - accuracy: 0.9241\n",
            "Epoch 172/200\n",
            "782/782 [==============================] - 50s 64ms/step - loss: 0.2157 - accuracy: 0.9233\n",
            "Epoch 173/200\n",
            "782/782 [==============================] - 50s 64ms/step - loss: 0.2211 - accuracy: 0.9214\n",
            "Epoch 174/200\n",
            "782/782 [==============================] - 50s 64ms/step - loss: 0.2132 - accuracy: 0.9256\n",
            "Epoch 175/200\n",
            "782/782 [==============================] - 51s 65ms/step - loss: 0.2156 - accuracy: 0.9238\n",
            "Epoch 176/200\n",
            "782/782 [==============================] - 51s 65ms/step - loss: 0.2146 - accuracy: 0.9250\n",
            "Epoch 177/200\n",
            "782/782 [==============================] - 51s 65ms/step - loss: 0.2174 - accuracy: 0.9236\n",
            "Epoch 178/200\n",
            "782/782 [==============================] - 51s 65ms/step - loss: 0.2138 - accuracy: 0.9246\n",
            "Epoch 179/200\n",
            "782/782 [==============================] - 50s 64ms/step - loss: 0.2132 - accuracy: 0.9237\n",
            "Epoch 180/200\n",
            "782/782 [==============================] - 50s 64ms/step - loss: 0.2161 - accuracy: 0.9234\n",
            "Epoch 181/200\n",
            "782/782 [==============================] - 50s 64ms/step - loss: 0.2112 - accuracy: 0.9242\n",
            "Epoch 182/200\n",
            "782/782 [==============================] - 50s 64ms/step - loss: 0.2120 - accuracy: 0.9265\n",
            "Epoch 183/200\n",
            "782/782 [==============================] - 49s 63ms/step - loss: 0.2088 - accuracy: 0.9266\n",
            "Epoch 184/200\n",
            "782/782 [==============================] - 49s 63ms/step - loss: 0.2118 - accuracy: 0.9253\n",
            "Epoch 185/200\n",
            "782/782 [==============================] - 49s 63ms/step - loss: 0.2099 - accuracy: 0.9255\n",
            "Epoch 186/200\n",
            "782/782 [==============================] - 49s 63ms/step - loss: 0.2084 - accuracy: 0.9265\n",
            "Epoch 187/200\n",
            "782/782 [==============================] - 50s 63ms/step - loss: 0.2097 - accuracy: 0.9266\n",
            "Epoch 188/200\n",
            "782/782 [==============================] - 51s 65ms/step - loss: 0.2115 - accuracy: 0.9263\n",
            "Epoch 189/200\n",
            "782/782 [==============================] - 50s 64ms/step - loss: 0.2100 - accuracy: 0.9260\n",
            "Epoch 190/200\n",
            "782/782 [==============================] - 49s 63ms/step - loss: 0.2080 - accuracy: 0.9267\n",
            "Epoch 191/200\n",
            "782/782 [==============================] - 49s 63ms/step - loss: 0.2093 - accuracy: 0.9265\n",
            "Epoch 192/200\n",
            "782/782 [==============================] - 49s 63ms/step - loss: 0.2126 - accuracy: 0.9255\n",
            "Epoch 193/200\n",
            "782/782 [==============================] - 50s 64ms/step - loss: 0.2063 - accuracy: 0.9277\n",
            "Epoch 194/200\n",
            "782/782 [==============================] - 50s 64ms/step - loss: 0.2078 - accuracy: 0.9278\n",
            "Epoch 195/200\n",
            "782/782 [==============================] - 50s 64ms/step - loss: 0.2086 - accuracy: 0.9271\n",
            "Epoch 196/200\n",
            "782/782 [==============================] - 50s 64ms/step - loss: 0.2088 - accuracy: 0.9271\n",
            "Epoch 197/200\n",
            "782/782 [==============================] - 50s 64ms/step - loss: 0.2077 - accuracy: 0.9268\n",
            "Epoch 198/200\n",
            "782/782 [==============================] - 50s 64ms/step - loss: 0.2094 - accuracy: 0.9262\n",
            "Epoch 199/200\n",
            "782/782 [==============================] - 50s 64ms/step - loss: 0.2055 - accuracy: 0.9275\n",
            "Epoch 200/200\n",
            "782/782 [==============================] - 51s 65ms/step - loss: 0.2061 - accuracy: 0.9277\n"
          ],
          "name": "stdout"
        },
        {
          "output_type": "execute_result",
          "data": {
            "text/plain": [
              "<keras.callbacks.callbacks.History at 0x7f7b3c2a0198>"
            ]
          },
          "metadata": {
            "tags": []
          },
          "execution_count": 16
        }
      ]
    },
    {
      "cell_type": "code",
      "metadata": {
        "id": "YKEtE78ocly3",
        "colab_type": "code",
        "colab": {
          "base_uri": "https://localhost:8080/",
          "height": 35
        },
        "outputId": "e227cee4-ce65-478a-899c-601cdc24c505"
      },
      "source": [
        "score = cnn_model.evaluate(X_test, y_test)"
      ],
      "execution_count": 17,
      "outputs": [
        {
          "output_type": "stream",
          "text": [
            "10000/10000 [==============================] - 3s 338us/step\n"
          ],
          "name": "stdout"
        }
      ]
    },
    {
      "cell_type": "code",
      "metadata": {
        "id": "WKPxDBPAcl2N",
        "colab_type": "code",
        "colab": {
          "base_uri": "https://localhost:8080/",
          "height": 35
        },
        "outputId": "9c005937-41bc-4e1b-8375-d977efc69a70"
      },
      "source": [
        "print('Test accuracy', score[1])"
      ],
      "execution_count": 19,
      "outputs": [
        {
          "output_type": "stream",
          "text": [
            "Test accuracy 0.8942000269889832\n"
          ],
          "name": "stdout"
        }
      ]
    },
    {
      "cell_type": "code",
      "metadata": {
        "id": "WNb9wjOEcl5B",
        "colab_type": "code",
        "colab": {
          "base_uri": "https://localhost:8080/",
          "height": 35
        },
        "outputId": "28fb6928-b052-4602-a481-da1777e54c9c"
      },
      "source": [
        "score_test= cnn_model.evaluate(X_train, y_train)"
      ],
      "execution_count": 20,
      "outputs": [
        {
          "output_type": "stream",
          "text": [
            "50000/50000 [==============================] - 19s 380us/step\n"
          ],
          "name": "stdout"
        }
      ]
    },
    {
      "cell_type": "code",
      "metadata": {
        "id": "sG_qqZH_G4P8",
        "colab_type": "code",
        "colab": {
          "base_uri": "https://localhost:8080/",
          "height": 35
        },
        "outputId": "076d2ef7-608e-40c7-d0ae-8a76d35eab59"
      },
      "source": [
        "print('Train accuracy', score_test[1])"
      ],
      "execution_count": 21,
      "outputs": [
        {
          "output_type": "stream",
          "text": [
            "Train accuracy 0.9718000292778015\n"
          ],
          "name": "stdout"
        }
      ]
    },
    {
      "cell_type": "code",
      "metadata": {
        "id": "n3OWvsuVcl89",
        "colab_type": "code",
        "colab": {}
      },
      "source": [
        ""
      ],
      "execution_count": null,
      "outputs": []
    },
    {
      "cell_type": "code",
      "metadata": {
        "id": "02HIMfyqcmAa",
        "colab_type": "code",
        "colab": {}
      },
      "source": [
        ""
      ],
      "execution_count": null,
      "outputs": []
    }
  ]
}