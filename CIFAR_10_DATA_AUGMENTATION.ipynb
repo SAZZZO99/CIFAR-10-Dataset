{
  "nbformat": 4,
  "nbformat_minor": 0,
  "metadata": {
    "colab": {
      "name": "CIFAR 10 DATA AUGMENTATION.ipynb",
      "provenance": [],
      "include_colab_link": true
    },
    "kernelspec": {
      "name": "python3",
      "display_name": "Python 3"
    },
    "accelerator": "GPU"
  },
  "cells": [
    {
      "cell_type": "markdown",
      "metadata": {
        "id": "view-in-github",
        "colab_type": "text"
      },
      "source": [
        "<a href=\"https://colab.research.google.com/github/SAZZZO99/CIFAR-10-Dataset/blob/master/CIFAR_10_DATA_AUGMENTATION.ipynb\" target=\"_parent\"><img src=\"https://colab.research.google.com/assets/colab-badge.svg\" alt=\"Open In Colab\"/></a>"
      ]
    },
    {
      "cell_type": "code",
      "metadata": {
        "id": "0Ekepci4vyxR",
        "colab_type": "code",
        "colab": {}
      },
      "source": [
        "import numpy as np \n",
        "import pandas as pd \n",
        "import matplotlib.pyplot as plt\n",
        "import seaborn"
      ],
      "execution_count": null,
      "outputs": []
    },
    {
      "cell_type": "code",
      "metadata": {
        "id": "86uOMnOpgzh0",
        "colab_type": "code",
        "colab": {
          "base_uri": "https://localhost:8080/",
          "height": 755
        },
        "outputId": "abc3000f-c23d-42cb-e3b3-eaf8683ccaac"
      },
      "source": [
        "!pip install tensorflow-gpu"
      ],
      "execution_count": null,
      "outputs": [
        {
          "output_type": "stream",
          "text": [
            "Collecting tensorflow-gpu\n",
            "\u001b[?25l  Downloading https://files.pythonhosted.org/packages/31/bf/c28971266ca854a64f4b26f07c4112ddd61f30b4d1f18108b954a746f8ea/tensorflow_gpu-2.2.0-cp36-cp36m-manylinux2010_x86_64.whl (516.2MB)\n",
            "\u001b[K     |████████████████████████████████| 516.2MB 33kB/s \n",
            "\u001b[?25hRequirement already satisfied: wrapt>=1.11.1 in /usr/local/lib/python3.6/dist-packages (from tensorflow-gpu) (1.12.1)\n",
            "Requirement already satisfied: grpcio>=1.8.6 in /usr/local/lib/python3.6/dist-packages (from tensorflow-gpu) (1.30.0)\n",
            "Requirement already satisfied: keras-preprocessing>=1.1.0 in /usr/local/lib/python3.6/dist-packages (from tensorflow-gpu) (1.1.2)\n",
            "Requirement already satisfied: h5py<2.11.0,>=2.10.0 in /usr/local/lib/python3.6/dist-packages (from tensorflow-gpu) (2.10.0)\n",
            "Requirement already satisfied: wheel>=0.26; python_version >= \"3\" in /usr/local/lib/python3.6/dist-packages (from tensorflow-gpu) (0.34.2)\n",
            "Requirement already satisfied: six>=1.12.0 in /usr/local/lib/python3.6/dist-packages (from tensorflow-gpu) (1.12.0)\n",
            "Requirement already satisfied: gast==0.3.3 in /usr/local/lib/python3.6/dist-packages (from tensorflow-gpu) (0.3.3)\n",
            "Requirement already satisfied: termcolor>=1.1.0 in /usr/local/lib/python3.6/dist-packages (from tensorflow-gpu) (1.1.0)\n",
            "Requirement already satisfied: protobuf>=3.8.0 in /usr/local/lib/python3.6/dist-packages (from tensorflow-gpu) (3.10.0)\n",
            "Requirement already satisfied: opt-einsum>=2.3.2 in /usr/local/lib/python3.6/dist-packages (from tensorflow-gpu) (3.2.1)\n",
            "Requirement already satisfied: tensorflow-estimator<2.3.0,>=2.2.0 in /usr/local/lib/python3.6/dist-packages (from tensorflow-gpu) (2.2.0)\n",
            "Requirement already satisfied: astunparse==1.6.3 in /usr/local/lib/python3.6/dist-packages (from tensorflow-gpu) (1.6.3)\n",
            "Requirement already satisfied: numpy<2.0,>=1.16.0 in /usr/local/lib/python3.6/dist-packages (from tensorflow-gpu) (1.18.5)\n",
            "Requirement already satisfied: absl-py>=0.7.0 in /usr/local/lib/python3.6/dist-packages (from tensorflow-gpu) (0.9.0)\n",
            "Requirement already satisfied: google-pasta>=0.1.8 in /usr/local/lib/python3.6/dist-packages (from tensorflow-gpu) (0.2.0)\n",
            "Requirement already satisfied: scipy==1.4.1; python_version >= \"3\" in /usr/local/lib/python3.6/dist-packages (from tensorflow-gpu) (1.4.1)\n",
            "Requirement already satisfied: tensorboard<2.3.0,>=2.2.0 in /usr/local/lib/python3.6/dist-packages (from tensorflow-gpu) (2.2.2)\n",
            "Requirement already satisfied: setuptools in /usr/local/lib/python3.6/dist-packages (from protobuf>=3.8.0->tensorflow-gpu) (49.1.0)\n",
            "Requirement already satisfied: tensorboard-plugin-wit>=1.6.0 in /usr/local/lib/python3.6/dist-packages (from tensorboard<2.3.0,>=2.2.0->tensorflow-gpu) (1.7.0)\n",
            "Requirement already satisfied: werkzeug>=0.11.15 in /usr/local/lib/python3.6/dist-packages (from tensorboard<2.3.0,>=2.2.0->tensorflow-gpu) (1.0.1)\n",
            "Requirement already satisfied: google-auth-oauthlib<0.5,>=0.4.1 in /usr/local/lib/python3.6/dist-packages (from tensorboard<2.3.0,>=2.2.0->tensorflow-gpu) (0.4.1)\n",
            "Requirement already satisfied: requests<3,>=2.21.0 in /usr/local/lib/python3.6/dist-packages (from tensorboard<2.3.0,>=2.2.0->tensorflow-gpu) (2.23.0)\n",
            "Requirement already satisfied: google-auth<2,>=1.6.3 in /usr/local/lib/python3.6/dist-packages (from tensorboard<2.3.0,>=2.2.0->tensorflow-gpu) (1.17.2)\n",
            "Requirement already satisfied: markdown>=2.6.8 in /usr/local/lib/python3.6/dist-packages (from tensorboard<2.3.0,>=2.2.0->tensorflow-gpu) (3.2.2)\n",
            "Requirement already satisfied: requests-oauthlib>=0.7.0 in /usr/local/lib/python3.6/dist-packages (from google-auth-oauthlib<0.5,>=0.4.1->tensorboard<2.3.0,>=2.2.0->tensorflow-gpu) (1.3.0)\n",
            "Requirement already satisfied: urllib3!=1.25.0,!=1.25.1,<1.26,>=1.21.1 in /usr/local/lib/python3.6/dist-packages (from requests<3,>=2.21.0->tensorboard<2.3.0,>=2.2.0->tensorflow-gpu) (1.24.3)\n",
            "Requirement already satisfied: idna<3,>=2.5 in /usr/local/lib/python3.6/dist-packages (from requests<3,>=2.21.0->tensorboard<2.3.0,>=2.2.0->tensorflow-gpu) (2.10)\n",
            "Requirement already satisfied: chardet<4,>=3.0.2 in /usr/local/lib/python3.6/dist-packages (from requests<3,>=2.21.0->tensorboard<2.3.0,>=2.2.0->tensorflow-gpu) (3.0.4)\n",
            "Requirement already satisfied: certifi>=2017.4.17 in /usr/local/lib/python3.6/dist-packages (from requests<3,>=2.21.0->tensorboard<2.3.0,>=2.2.0->tensorflow-gpu) (2020.6.20)\n",
            "Requirement already satisfied: rsa<5,>=3.1.4; python_version >= \"3\" in /usr/local/lib/python3.6/dist-packages (from google-auth<2,>=1.6.3->tensorboard<2.3.0,>=2.2.0->tensorflow-gpu) (4.6)\n",
            "Requirement already satisfied: cachetools<5.0,>=2.0.0 in /usr/local/lib/python3.6/dist-packages (from google-auth<2,>=1.6.3->tensorboard<2.3.0,>=2.2.0->tensorflow-gpu) (4.1.1)\n",
            "Requirement already satisfied: pyasn1-modules>=0.2.1 in /usr/local/lib/python3.6/dist-packages (from google-auth<2,>=1.6.3->tensorboard<2.3.0,>=2.2.0->tensorflow-gpu) (0.2.8)\n",
            "Requirement already satisfied: importlib-metadata; python_version < \"3.8\" in /usr/local/lib/python3.6/dist-packages (from markdown>=2.6.8->tensorboard<2.3.0,>=2.2.0->tensorflow-gpu) (1.7.0)\n",
            "Requirement already satisfied: oauthlib>=3.0.0 in /usr/local/lib/python3.6/dist-packages (from requests-oauthlib>=0.7.0->google-auth-oauthlib<0.5,>=0.4.1->tensorboard<2.3.0,>=2.2.0->tensorflow-gpu) (3.1.0)\n",
            "Requirement already satisfied: pyasn1>=0.1.3 in /usr/local/lib/python3.6/dist-packages (from rsa<5,>=3.1.4; python_version >= \"3\"->google-auth<2,>=1.6.3->tensorboard<2.3.0,>=2.2.0->tensorflow-gpu) (0.4.8)\n",
            "Requirement already satisfied: zipp>=0.5 in /usr/local/lib/python3.6/dist-packages (from importlib-metadata; python_version < \"3.8\"->markdown>=2.6.8->tensorboard<2.3.0,>=2.2.0->tensorflow-gpu) (3.1.0)\n",
            "Installing collected packages: tensorflow-gpu\n",
            "Successfully installed tensorflow-gpu-2.2.0\n"
          ],
          "name": "stdout"
        }
      ]
    },
    {
      "cell_type": "code",
      "metadata": {
        "id": "HXxcq92IxdU4",
        "colab_type": "code",
        "colab": {
          "base_uri": "https://localhost:8080/",
          "height": 35
        },
        "outputId": "cedd3910-e799-4cec-8592-2900f579926a"
      },
      "source": [
        "from keras.datasets import cifar10"
      ],
      "execution_count": null,
      "outputs": [
        {
          "output_type": "stream",
          "text": [
            "Using TensorFlow backend.\n"
          ],
          "name": "stderr"
        }
      ]
    },
    {
      "cell_type": "code",
      "metadata": {
        "id": "0S6qlYZYxtHR",
        "colab_type": "code",
        "colab": {
          "base_uri": "https://localhost:8080/",
          "height": 53
        },
        "outputId": "8be12248-9df3-4e7c-d4df-3db003d45d92"
      },
      "source": [
        "(X_train, y_train) , (X_test, y_test) = cifar10.load_data()"
      ],
      "execution_count": null,
      "outputs": [
        {
          "output_type": "stream",
          "text": [
            "Downloading data from https://www.cs.toronto.edu/~kriz/cifar-10-python.tar.gz\n",
            "170500096/170498071 [==============================] - 6s 0us/step\n"
          ],
          "name": "stdout"
        }
      ]
    },
    {
      "cell_type": "code",
      "metadata": {
        "id": "I1Aj9m5exj3u",
        "colab_type": "code",
        "colab": {
          "base_uri": "https://localhost:8080/",
          "height": 89
        },
        "outputId": "82f0eeae-7058-4bbd-920d-4b76be749341"
      },
      "source": [
        "print('X_train shape - ',X_train.shape)\n",
        "print('X_test shape - ',X_test.shape)\n",
        "print('y_train shape - ',y_train.shape)\n",
        "print('y_test shape - ',y_test.shape)"
      ],
      "execution_count": null,
      "outputs": [
        {
          "output_type": "stream",
          "text": [
            "X_train shape -  (50000, 32, 32, 3)\n",
            "X_test shape -  (10000, 32, 32, 3)\n",
            "y_train shape -  (50000, 1)\n",
            "y_test shape -  (10000, 1)\n"
          ],
          "name": "stdout"
        }
      ]
    },
    {
      "cell_type": "code",
      "metadata": {
        "id": "X0FvH8ZQxzUt",
        "colab_type": "code",
        "colab": {}
      },
      "source": [
        "X_train = X_train.astype('float32')\n",
        "X_test = X_test.astype('float32')\n",
        "X_train = X_train/255\n",
        "X_test = X_test/255"
      ],
      "execution_count": null,
      "outputs": []
    },
    {
      "cell_type": "code",
      "metadata": {
        "id": "YceM4bXkx6yJ",
        "colab_type": "code",
        "colab": {}
      },
      "source": [
        "import keras\n",
        "y_train = keras.utils.to_categorical(y_train, 10)\n",
        "y_test = keras.utils.to_categorical(y_test, 10)"
      ],
      "execution_count": null,
      "outputs": []
    },
    {
      "cell_type": "code",
      "metadata": {
        "id": "kJcNFCWKx61m",
        "colab_type": "code",
        "colab": {
          "base_uri": "https://localhost:8080/",
          "height": 35
        },
        "outputId": "ac7a13c0-a5c3-4b19-8f41-b4e9c437a54e"
      },
      "source": [
        "Input_shape = X_train.shape[1:]\n",
        "Input_shape"
      ],
      "execution_count": null,
      "outputs": [
        {
          "output_type": "execute_result",
          "data": {
            "text/plain": [
              "(32, 32, 3)"
            ]
          },
          "metadata": {
            "tags": []
          },
          "execution_count": 8
        }
      ]
    },
    {
      "cell_type": "code",
      "metadata": {
        "id": "C77QXHoPx64O",
        "colab_type": "code",
        "colab": {}
      },
      "source": [
        "import keras\n",
        "from keras.models import Sequential\n",
        "from keras.layers import Conv2D,Dense,AveragePooling2D,MaxPooling2D, Flatten, Dropout\n",
        "from keras.optimizers import Adam\n",
        "from keras.callbacks import TensorBoard"
      ],
      "execution_count": null,
      "outputs": []
    },
    {
      "cell_type": "code",
      "metadata": {
        "id": "P6kwb3HHx660",
        "colab_type": "code",
        "colab": {}
      },
      "source": [
        "cnn_model = Sequential()\n",
        "cnn_model.add(Conv2D(filters = 64, kernel_size = (3,3), activation = 'relu', input_shape = Input_shape))\n",
        "cnn_model.add(Conv2D(filters = 64, kernel_size = (3,3), activation = 'relu'))\n",
        "cnn_model.add(MaxPooling2D(2,2))\n",
        "cnn_model.add(Dropout(0.4))\n",
        "\n",
        "\n",
        "cnn_model.add(Conv2D(filters = 128, kernel_size = (3,3), activation = 'relu'))\n",
        "cnn_model.add(Conv2D(filters = 128, kernel_size = (3,3), activation = 'relu'))\n",
        "cnn_model.add(AveragePooling2D(2,2))\n",
        "cnn_model.add(Dropout(0.4))\n",
        "\n",
        "cnn_model.add(Flatten())\n",
        "\n",
        "cnn_model.add(Dense(units = 1024, activation = 'relu'))\n",
        "cnn_model.add(Dense(units = 1024, activation = 'relu'))\n",
        "\n",
        "cnn_model.add(Dense(units = 512, activation = 'relu'))\n",
        "\n",
        "\n",
        "\n",
        "\n",
        "cnn_model.add(Dense(units = 10, activation = 'softmax'))"
      ],
      "execution_count": null,
      "outputs": []
    },
    {
      "cell_type": "code",
      "metadata": {
        "id": "eYreP2J3x690",
        "colab_type": "code",
        "colab": {}
      },
      "source": [
        "cnn_model.compile(loss = 'categorical_crossentropy', optimizer = keras.optimizers.Adam(lr = 0.0001), metrics = ['accuracy'])"
      ],
      "execution_count": null,
      "outputs": []
    },
    {
      "cell_type": "code",
      "metadata": {
        "id": "HO6ihPlMx7AD",
        "colab_type": "code",
        "colab": {
          "base_uri": "https://localhost:8080/",
          "height": 629
        },
        "outputId": "e310a0ae-0948-4407-aa89-be6a899cac70"
      },
      "source": [
        "cnn_model.summary()"
      ],
      "execution_count": null,
      "outputs": [
        {
          "output_type": "stream",
          "text": [
            "Model: \"sequential_1\"\n",
            "_________________________________________________________________\n",
            "Layer (type)                 Output Shape              Param #   \n",
            "=================================================================\n",
            "conv2d_1 (Conv2D)            (None, 30, 30, 64)        1792      \n",
            "_________________________________________________________________\n",
            "conv2d_2 (Conv2D)            (None, 28, 28, 64)        36928     \n",
            "_________________________________________________________________\n",
            "max_pooling2d_1 (MaxPooling2 (None, 14, 14, 64)        0         \n",
            "_________________________________________________________________\n",
            "dropout_1 (Dropout)          (None, 14, 14, 64)        0         \n",
            "_________________________________________________________________\n",
            "conv2d_3 (Conv2D)            (None, 12, 12, 128)       73856     \n",
            "_________________________________________________________________\n",
            "conv2d_4 (Conv2D)            (None, 10, 10, 128)       147584    \n",
            "_________________________________________________________________\n",
            "average_pooling2d_1 (Average (None, 5, 5, 128)         0         \n",
            "_________________________________________________________________\n",
            "dropout_2 (Dropout)          (None, 5, 5, 128)         0         \n",
            "_________________________________________________________________\n",
            "flatten_1 (Flatten)          (None, 3200)              0         \n",
            "_________________________________________________________________\n",
            "dense_1 (Dense)              (None, 1024)              3277824   \n",
            "_________________________________________________________________\n",
            "dense_2 (Dense)              (None, 1024)              1049600   \n",
            "_________________________________________________________________\n",
            "dense_3 (Dense)              (None, 512)               524800    \n",
            "_________________________________________________________________\n",
            "dense_4 (Dense)              (None, 10)                5130      \n",
            "=================================================================\n",
            "Total params: 5,117,514\n",
            "Trainable params: 5,117,514\n",
            "Non-trainable params: 0\n",
            "_________________________________________________________________\n"
          ],
          "name": "stdout"
        }
      ]
    },
    {
      "cell_type": "code",
      "metadata": {
        "id": "bp_lMQLjx7DB",
        "colab_type": "code",
        "colab": {
          "base_uri": "https://localhost:8080/",
          "height": 755
        },
        "outputId": "b435f9ee-2419-4be8-e031-4d61dd5e89e4"
      },
      "source": [
        "history = cnn_model.fit(X_train, y_train, batch_size = 32, epochs = 20, shuffle = True,validation_data=(X_test,y_test))"
      ],
      "execution_count": null,
      "outputs": [
        {
          "output_type": "stream",
          "text": [
            "Train on 50000 samples, validate on 10000 samples\n",
            "Epoch 1/20\n",
            "50000/50000 [==============================] - 24s 482us/step - loss: 1.6069 - accuracy: 0.4082 - val_loss: 1.2934 - val_accuracy: 0.5293\n",
            "Epoch 2/20\n",
            "50000/50000 [==============================] - 17s 335us/step - loss: 1.2542 - accuracy: 0.5515 - val_loss: 1.1775 - val_accuracy: 0.5790\n",
            "Epoch 3/20\n",
            "50000/50000 [==============================] - 17s 338us/step - loss: 1.0901 - accuracy: 0.6128 - val_loss: 0.9875 - val_accuracy: 0.6501\n",
            "Epoch 4/20\n",
            "50000/50000 [==============================] - 17s 340us/step - loss: 0.9715 - accuracy: 0.6546 - val_loss: 0.9305 - val_accuracy: 0.6755\n",
            "Epoch 5/20\n",
            "50000/50000 [==============================] - 17s 341us/step - loss: 0.8766 - accuracy: 0.6917 - val_loss: 0.8241 - val_accuracy: 0.7191\n",
            "Epoch 6/20\n",
            "50000/50000 [==============================] - 17s 340us/step - loss: 0.7916 - accuracy: 0.7209 - val_loss: 0.7948 - val_accuracy: 0.7211\n",
            "Epoch 7/20\n",
            "50000/50000 [==============================] - 17s 338us/step - loss: 0.7220 - accuracy: 0.7459 - val_loss: 0.7460 - val_accuracy: 0.7423\n",
            "Epoch 8/20\n",
            "50000/50000 [==============================] - 17s 338us/step - loss: 0.6571 - accuracy: 0.7701 - val_loss: 0.6932 - val_accuracy: 0.7588\n",
            "Epoch 9/20\n",
            "50000/50000 [==============================] - 17s 342us/step - loss: 0.6023 - accuracy: 0.7861 - val_loss: 0.6619 - val_accuracy: 0.7675\n",
            "Epoch 10/20\n",
            "50000/50000 [==============================] - 17s 342us/step - loss: 0.5395 - accuracy: 0.8092 - val_loss: 0.6580 - val_accuracy: 0.7710\n",
            "Epoch 11/20\n",
            "50000/50000 [==============================] - 17s 338us/step - loss: 0.4878 - accuracy: 0.8269 - val_loss: 0.6759 - val_accuracy: 0.7754\n",
            "Epoch 12/20\n",
            "50000/50000 [==============================] - 17s 339us/step - loss: 0.4444 - accuracy: 0.8428 - val_loss: 0.6734 - val_accuracy: 0.7742\n",
            "Epoch 13/20\n",
            "50000/50000 [==============================] - 17s 338us/step - loss: 0.3920 - accuracy: 0.8595 - val_loss: 0.6504 - val_accuracy: 0.7831\n",
            "Epoch 14/20\n",
            "50000/50000 [==============================] - 17s 338us/step - loss: 0.3545 - accuracy: 0.8747 - val_loss: 0.6985 - val_accuracy: 0.7809\n",
            "Epoch 15/20\n",
            "50000/50000 [==============================] - 17s 340us/step - loss: 0.3112 - accuracy: 0.8892 - val_loss: 0.7099 - val_accuracy: 0.7794\n",
            "Epoch 16/20\n",
            "50000/50000 [==============================] - 17s 337us/step - loss: 0.2764 - accuracy: 0.9010 - val_loss: 0.7114 - val_accuracy: 0.7786\n",
            "Epoch 17/20\n",
            "50000/50000 [==============================] - 17s 337us/step - loss: 0.2509 - accuracy: 0.9101 - val_loss: 0.7254 - val_accuracy: 0.7850\n",
            "Epoch 18/20\n",
            "50000/50000 [==============================] - 17s 338us/step - loss: 0.2225 - accuracy: 0.9202 - val_loss: 0.7884 - val_accuracy: 0.7730\n",
            "Epoch 19/20\n",
            "50000/50000 [==============================] - 17s 337us/step - loss: 0.2014 - accuracy: 0.9283 - val_loss: 0.7751 - val_accuracy: 0.7820\n",
            "Epoch 20/20\n",
            "50000/50000 [==============================] - 17s 339us/step - loss: 0.1794 - accuracy: 0.9358 - val_loss: 0.7857 - val_accuracy: 0.7850\n"
          ],
          "name": "stdout"
        }
      ]
    },
    {
      "cell_type": "code",
      "metadata": {
        "id": "lVV15YJxx7Ff",
        "colab_type": "code",
        "colab": {
          "base_uri": "https://localhost:8080/",
          "height": 53
        },
        "outputId": "abd47193-c72d-41df-cfdf-4cde917fc56e"
      },
      "source": [
        "evaluation = cnn_model.evaluate(X_test, y_test)\n",
        "print('Test Accuracy: {}'.format(evaluation[1]))"
      ],
      "execution_count": null,
      "outputs": [
        {
          "output_type": "stream",
          "text": [
            "10000/10000 [==============================] - 1s 117us/step\n",
            "Test Accuracy: 0.7850000262260437\n"
          ],
          "name": "stdout"
        }
      ]
    },
    {
      "cell_type": "code",
      "metadata": {
        "id": "wwZp14OY-NiU",
        "colab_type": "code",
        "colab": {}
      },
      "source": [
        "from keras.preprocessing.image import ImageDataGenerator\n",
        "\n",
        "datagen = ImageDataGenerator(\n",
        "                            \n",
        "                            rotation_range=40,\n",
        "                            width_shift_range=0.2,\n",
        "                             height_shift_range=0.2,\n",
        "                             shear_range=0.2,\n",
        "                             zoom_range=0.2,\n",
        "                            horizontal_flip = True,\n",
        "                            fill_mode='nearest'\n",
        "                             )\n",
        "datagen.fit(X_train)"
      ],
      "execution_count": null,
      "outputs": []
    },
    {
      "cell_type": "code",
      "metadata": {
        "id": "R4UuqstL-X58",
        "colab_type": "code",
        "colab": {
          "base_uri": "https://localhost:8080/",
          "height": 1000
        },
        "outputId": "02c87d63-5698-4434-947d-ce160e45db18"
      },
      "source": [
        "cnn_model.fit_generator(datagen.flow(X_train, y_train, batch_size = 32), epochs = 100)"
      ],
      "execution_count": null,
      "outputs": [
        {
          "output_type": "stream",
          "text": [
            "Epoch 1/100\n",
            "1563/1563 [==============================] - 29s 18ms/step - loss: 1.2531 - accuracy: 0.5605\n",
            "Epoch 2/100\n",
            "1563/1563 [==============================] - 29s 18ms/step - loss: 1.1378 - accuracy: 0.5956\n",
            "Epoch 3/100\n",
            "1563/1563 [==============================] - 29s 18ms/step - loss: 1.0961 - accuracy: 0.6122\n",
            "Epoch 4/100\n",
            "1563/1563 [==============================] - 29s 18ms/step - loss: 1.0658 - accuracy: 0.6263\n",
            "Epoch 5/100\n",
            "1563/1563 [==============================] - 29s 18ms/step - loss: 1.0396 - accuracy: 0.6348\n",
            "Epoch 6/100\n",
            "1563/1563 [==============================] - 29s 18ms/step - loss: 1.0078 - accuracy: 0.6461\n",
            "Epoch 7/100\n",
            "1563/1563 [==============================] - 29s 18ms/step - loss: 0.9986 - accuracy: 0.6458\n",
            "Epoch 8/100\n",
            "1563/1563 [==============================] - 29s 18ms/step - loss: 0.9779 - accuracy: 0.6562\n",
            "Epoch 9/100\n",
            "1563/1563 [==============================] - 29s 18ms/step - loss: 0.9617 - accuracy: 0.6608\n",
            "Epoch 10/100\n",
            "1563/1563 [==============================] - 29s 19ms/step - loss: 0.9470 - accuracy: 0.6665\n",
            "Epoch 11/100\n",
            "1563/1563 [==============================] - 29s 18ms/step - loss: 0.9310 - accuracy: 0.6718\n",
            "Epoch 12/100\n",
            "1563/1563 [==============================] - 29s 19ms/step - loss: 0.9198 - accuracy: 0.6766\n",
            "Epoch 13/100\n",
            "1563/1563 [==============================] - 29s 19ms/step - loss: 0.9044 - accuracy: 0.6815\n",
            "Epoch 14/100\n",
            "1563/1563 [==============================] - 29s 18ms/step - loss: 0.8960 - accuracy: 0.6840\n",
            "Epoch 15/100\n",
            "1563/1563 [==============================] - 29s 18ms/step - loss: 0.8860 - accuracy: 0.6893\n",
            "Epoch 16/100\n",
            "1563/1563 [==============================] - 29s 18ms/step - loss: 0.8709 - accuracy: 0.6955\n",
            "Epoch 17/100\n",
            "1563/1563 [==============================] - 29s 18ms/step - loss: 0.8573 - accuracy: 0.6970\n",
            "Epoch 18/100\n",
            "1563/1563 [==============================] - 29s 18ms/step - loss: 0.8482 - accuracy: 0.6996\n",
            "Epoch 19/100\n",
            "1563/1563 [==============================] - 29s 18ms/step - loss: 0.8443 - accuracy: 0.7018\n",
            "Epoch 20/100\n",
            "1563/1563 [==============================] - 29s 18ms/step - loss: 0.8421 - accuracy: 0.7052\n",
            "Epoch 21/100\n",
            "1563/1563 [==============================] - 29s 19ms/step - loss: 0.8303 - accuracy: 0.7068\n",
            "Epoch 22/100\n",
            "1563/1563 [==============================] - 29s 18ms/step - loss: 0.8157 - accuracy: 0.7131\n",
            "Epoch 23/100\n",
            "1563/1563 [==============================] - 29s 19ms/step - loss: 0.8127 - accuracy: 0.7154\n",
            "Epoch 24/100\n",
            "1563/1563 [==============================] - 29s 18ms/step - loss: 0.8028 - accuracy: 0.7171\n",
            "Epoch 25/100\n",
            "1563/1563 [==============================] - 29s 18ms/step - loss: 0.7974 - accuracy: 0.7214\n",
            "Epoch 26/100\n",
            "1563/1563 [==============================] - 29s 19ms/step - loss: 0.7853 - accuracy: 0.7230\n",
            "Epoch 27/100\n",
            "1563/1563 [==============================] - 29s 18ms/step - loss: 0.7816 - accuracy: 0.7246\n",
            "Epoch 28/100\n",
            "1563/1563 [==============================] - 29s 18ms/step - loss: 0.7751 - accuracy: 0.7267\n",
            "Epoch 29/100\n",
            "1563/1563 [==============================] - 29s 18ms/step - loss: 0.7751 - accuracy: 0.7255\n",
            "Epoch 30/100\n",
            "1563/1563 [==============================] - 29s 18ms/step - loss: 0.7669 - accuracy: 0.7295\n",
            "Epoch 31/100\n",
            "1563/1563 [==============================] - 29s 18ms/step - loss: 0.7594 - accuracy: 0.7326\n",
            "Epoch 32/100\n",
            "1563/1563 [==============================] - 29s 19ms/step - loss: 0.7566 - accuracy: 0.7347\n",
            "Epoch 33/100\n",
            "1563/1563 [==============================] - 29s 18ms/step - loss: 0.7477 - accuracy: 0.7347\n",
            "Epoch 34/100\n",
            "1563/1563 [==============================] - 29s 18ms/step - loss: 0.7377 - accuracy: 0.7419\n",
            "Epoch 35/100\n",
            "1563/1563 [==============================] - 29s 18ms/step - loss: 0.7332 - accuracy: 0.7430\n",
            "Epoch 36/100\n",
            "1563/1563 [==============================] - 29s 18ms/step - loss: 0.7288 - accuracy: 0.7427\n",
            "Epoch 37/100\n",
            "1563/1563 [==============================] - 29s 18ms/step - loss: 0.7222 - accuracy: 0.7466\n",
            "Epoch 38/100\n",
            "1563/1563 [==============================] - 29s 18ms/step - loss: 0.7148 - accuracy: 0.7466\n",
            "Epoch 39/100\n",
            "1563/1563 [==============================] - 29s 18ms/step - loss: 0.7167 - accuracy: 0.7478\n",
            "Epoch 40/100\n",
            "1563/1563 [==============================] - 29s 18ms/step - loss: 0.7119 - accuracy: 0.7505\n",
            "Epoch 41/100\n",
            "1563/1563 [==============================] - 29s 18ms/step - loss: 0.7033 - accuracy: 0.7513\n",
            "Epoch 42/100\n",
            "1563/1563 [==============================] - 29s 18ms/step - loss: 0.7046 - accuracy: 0.7516\n",
            "Epoch 43/100\n",
            "1563/1563 [==============================] - 29s 19ms/step - loss: 0.6988 - accuracy: 0.7528\n",
            "Epoch 44/100\n",
            "1563/1563 [==============================] - 29s 18ms/step - loss: 0.6949 - accuracy: 0.7571\n",
            "Epoch 45/100\n",
            "1563/1563 [==============================] - 29s 19ms/step - loss: 0.6904 - accuracy: 0.7576\n",
            "Epoch 46/100\n",
            "1563/1563 [==============================] - 29s 18ms/step - loss: 0.6815 - accuracy: 0.7592\n",
            "Epoch 47/100\n",
            "1563/1563 [==============================] - 29s 18ms/step - loss: 0.6786 - accuracy: 0.7617\n",
            "Epoch 48/100\n",
            "1563/1563 [==============================] - 29s 18ms/step - loss: 0.6788 - accuracy: 0.7611\n",
            "Epoch 49/100\n",
            "1563/1563 [==============================] - 29s 18ms/step - loss: 0.6681 - accuracy: 0.7661\n",
            "Epoch 50/100\n",
            "1563/1563 [==============================] - 29s 18ms/step - loss: 0.6713 - accuracy: 0.7640\n",
            "Epoch 51/100\n",
            "1563/1563 [==============================] - 29s 18ms/step - loss: 0.6616 - accuracy: 0.7660\n",
            "Epoch 52/100\n",
            "1563/1563 [==============================] - 29s 18ms/step - loss: 0.6678 - accuracy: 0.7667\n",
            "Epoch 53/100\n",
            "1563/1563 [==============================] - 29s 18ms/step - loss: 0.6593 - accuracy: 0.7685\n",
            "Epoch 54/100\n",
            "1563/1563 [==============================] - 29s 19ms/step - loss: 0.6519 - accuracy: 0.7712\n",
            "Epoch 55/100\n",
            "1563/1563 [==============================] - 29s 18ms/step - loss: 0.6475 - accuracy: 0.7729\n",
            "Epoch 56/100\n",
            "1563/1563 [==============================] - 29s 18ms/step - loss: 0.6493 - accuracy: 0.7710\n",
            "Epoch 57/100\n",
            "1563/1563 [==============================] - 29s 18ms/step - loss: 0.6468 - accuracy: 0.7733\n",
            "Epoch 58/100\n",
            "1563/1563 [==============================] - 29s 18ms/step - loss: 0.6426 - accuracy: 0.7737\n",
            "Epoch 59/100\n",
            "1563/1563 [==============================] - 29s 18ms/step - loss: 0.6341 - accuracy: 0.7771\n",
            "Epoch 60/100\n",
            "1563/1563 [==============================] - 29s 18ms/step - loss: 0.6313 - accuracy: 0.7768\n",
            "Epoch 61/100\n",
            "1563/1563 [==============================] - 29s 18ms/step - loss: 0.6349 - accuracy: 0.7778\n",
            "Epoch 62/100\n",
            "1563/1563 [==============================] - 29s 19ms/step - loss: 0.6254 - accuracy: 0.7776\n",
            "Epoch 63/100\n",
            "1563/1563 [==============================] - 29s 18ms/step - loss: 0.6193 - accuracy: 0.7803\n",
            "Epoch 64/100\n",
            "1563/1563 [==============================] - 29s 19ms/step - loss: 0.6219 - accuracy: 0.7821\n",
            "Epoch 65/100\n",
            "1563/1563 [==============================] - 29s 19ms/step - loss: 0.6241 - accuracy: 0.7793\n",
            "Epoch 66/100\n",
            "1563/1563 [==============================] - 29s 18ms/step - loss: 0.6200 - accuracy: 0.7817\n",
            "Epoch 67/100\n",
            "1563/1563 [==============================] - 29s 18ms/step - loss: 0.6165 - accuracy: 0.7833\n",
            "Epoch 68/100\n",
            "1563/1563 [==============================] - 29s 19ms/step - loss: 0.6095 - accuracy: 0.7841\n",
            "Epoch 69/100\n",
            "1563/1563 [==============================] - 29s 18ms/step - loss: 0.6121 - accuracy: 0.7855\n",
            "Epoch 70/100\n",
            "1563/1563 [==============================] - 29s 18ms/step - loss: 0.6092 - accuracy: 0.7850\n",
            "Epoch 71/100\n",
            "1563/1563 [==============================] - 29s 19ms/step - loss: 0.6118 - accuracy: 0.7855\n",
            "Epoch 72/100\n",
            "1563/1563 [==============================] - 29s 18ms/step - loss: 0.6007 - accuracy: 0.7873\n",
            "Epoch 73/100\n",
            "1563/1563 [==============================] - 29s 18ms/step - loss: 0.5997 - accuracy: 0.7891\n",
            "Epoch 74/100\n",
            "1563/1563 [==============================] - 29s 18ms/step - loss: 0.5957 - accuracy: 0.7911\n",
            "Epoch 75/100\n",
            "1563/1563 [==============================] - 29s 19ms/step - loss: 0.5925 - accuracy: 0.7925\n",
            "Epoch 76/100\n",
            "1563/1563 [==============================] - 29s 19ms/step - loss: 0.5882 - accuracy: 0.7923\n",
            "Epoch 77/100\n",
            "1563/1563 [==============================] - 29s 19ms/step - loss: 0.5884 - accuracy: 0.7917\n",
            "Epoch 78/100\n",
            "1563/1563 [==============================] - 29s 18ms/step - loss: 0.5861 - accuracy: 0.7932\n",
            "Epoch 79/100\n",
            "1563/1563 [==============================] - 29s 19ms/step - loss: 0.5783 - accuracy: 0.7961\n",
            "Epoch 80/100\n",
            "1563/1563 [==============================] - 29s 19ms/step - loss: 0.5808 - accuracy: 0.7963\n",
            "Epoch 81/100\n",
            "1563/1563 [==============================] - 29s 19ms/step - loss: 0.5740 - accuracy: 0.7978\n",
            "Epoch 82/100\n",
            "1563/1563 [==============================] - 29s 19ms/step - loss: 0.5736 - accuracy: 0.7974\n",
            "Epoch 83/100\n",
            "1563/1563 [==============================] - 29s 19ms/step - loss: 0.5732 - accuracy: 0.7981\n",
            "Epoch 84/100\n",
            "1563/1563 [==============================] - 29s 19ms/step - loss: 0.5672 - accuracy: 0.7990\n",
            "Epoch 85/100\n",
            "1563/1563 [==============================] - 29s 19ms/step - loss: 0.5679 - accuracy: 0.7991\n",
            "Epoch 86/100\n",
            "1563/1563 [==============================] - 29s 19ms/step - loss: 0.5678 - accuracy: 0.7989\n",
            "Epoch 87/100\n",
            "1563/1563 [==============================] - 29s 19ms/step - loss: 0.5633 - accuracy: 0.8013\n",
            "Epoch 88/100\n",
            "1563/1563 [==============================] - 29s 19ms/step - loss: 0.5632 - accuracy: 0.7995\n",
            "Epoch 89/100\n",
            "1563/1563 [==============================] - 29s 19ms/step - loss: 0.5618 - accuracy: 0.8019\n",
            "Epoch 90/100\n",
            "1563/1563 [==============================] - 29s 19ms/step - loss: 0.5564 - accuracy: 0.8042\n",
            "Epoch 91/100\n",
            "1563/1563 [==============================] - 29s 19ms/step - loss: 0.5546 - accuracy: 0.8045\n",
            "Epoch 92/100\n",
            "1563/1563 [==============================] - 29s 19ms/step - loss: 0.5600 - accuracy: 0.8017\n",
            "Epoch 93/100\n",
            "1563/1563 [==============================] - 29s 19ms/step - loss: 0.5508 - accuracy: 0.8052\n",
            "Epoch 94/100\n",
            "1563/1563 [==============================] - 29s 18ms/step - loss: 0.5522 - accuracy: 0.8051\n",
            "Epoch 95/100\n",
            "1563/1563 [==============================] - 29s 18ms/step - loss: 0.5480 - accuracy: 0.8057\n",
            "Epoch 96/100\n",
            "1563/1563 [==============================] - 29s 19ms/step - loss: 0.5470 - accuracy: 0.8051\n",
            "Epoch 97/100\n",
            "1563/1563 [==============================] - 29s 19ms/step - loss: 0.5460 - accuracy: 0.8094\n",
            "Epoch 98/100\n",
            "1563/1563 [==============================] - 29s 18ms/step - loss: 0.5421 - accuracy: 0.8085\n",
            "Epoch 99/100\n",
            "1563/1563 [==============================] - 29s 18ms/step - loss: 0.5408 - accuracy: 0.8091\n",
            "Epoch 100/100\n",
            "1563/1563 [==============================] - 29s 18ms/step - loss: 0.5406 - accuracy: 0.8105\n"
          ],
          "name": "stdout"
        },
        {
          "output_type": "execute_result",
          "data": {
            "text/plain": [
              "<keras.callbacks.callbacks.History at 0x7fde04228978>"
            ]
          },
          "metadata": {
            "tags": []
          },
          "execution_count": 17
        }
      ]
    },
    {
      "cell_type": "code",
      "metadata": {
        "id": "E-iEp0pw-7UR",
        "colab_type": "code",
        "colab": {
          "base_uri": "https://localhost:8080/",
          "height": 35
        },
        "outputId": "094b6a9c-3d9c-493e-8a44-f3710a412221"
      },
      "source": [
        "  score = cnn_model.evaluate(X_test, y_test)\n"
      ],
      "execution_count": null,
      "outputs": [
        {
          "output_type": "stream",
          "text": [
            "10000/10000 [==============================] - 1s 121us/step\n"
          ],
          "name": "stdout"
        }
      ]
    },
    {
      "cell_type": "code",
      "metadata": {
        "id": "p9soxretDH8P",
        "colab_type": "code",
        "colab": {
          "base_uri": "https://localhost:8080/",
          "height": 35
        },
        "outputId": "c0a5af96-9ad8-43a1-bdd7-8e3f5b86bfea"
      },
      "source": [
        "\n",
        "print('Test accuracy', score[1])"
      ],
      "execution_count": null,
      "outputs": [
        {
          "output_type": "stream",
          "text": [
            "Test accuracy 0.828000009059906\n"
          ],
          "name": "stdout"
        }
      ]
    },
    {
      "cell_type": "code",
      "metadata": {
        "id": "QjdhWBGohll6",
        "colab_type": "code",
        "colab": {
          "base_uri": "https://localhost:8080/",
          "height": 35
        },
        "outputId": "44df289e-75af-41f5-baf2-440661b46fd3"
      },
      "source": [
        "score_test= cnn_model.evaluate(X_train, y_train)"
      ],
      "execution_count": null,
      "outputs": [
        {
          "output_type": "stream",
          "text": [
            "50000/50000 [==============================] - 6s 117us/step\n"
          ],
          "name": "stdout"
        }
      ]
    },
    {
      "cell_type": "code",
      "metadata": {
        "id": "QK5GiPQmDI_B",
        "colab_type": "code",
        "colab": {
          "base_uri": "https://localhost:8080/",
          "height": 35
        },
        "outputId": "ca58a3b7-cf87-4638-946d-421d6f930f6c"
      },
      "source": [
        "print('Train accuracy', score_test[1])"
      ],
      "execution_count": null,
      "outputs": [
        {
          "output_type": "stream",
          "text": [
            "Train accuracy 0.8905199766159058\n"
          ],
          "name": "stdout"
        }
      ]
    }
  ]
}